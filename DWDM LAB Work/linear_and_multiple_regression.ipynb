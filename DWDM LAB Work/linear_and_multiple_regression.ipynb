{
 "cells": [
  {
   "cell_type": "markdown",
   "metadata": {},
   "source": [
    "# Linear and Multi Linear Regression"
   ]
  },
  {
   "cell_type": "markdown",
   "metadata": {},
   "source": [
    "# 1. Synthetic Data Generation"
   ]
  },
  {
   "cell_type": "code",
   "execution_count": 1,
   "metadata": {},
   "outputs": [
    {
     "data": {
      "text/plain": [
       "array([[-0.85000062],\n",
       "       [ 1.80597756],\n",
       "       [ 0.03690017],\n",
       "       [-1.12054466],\n",
       "       [-1.33087282],\n",
       "       [-0.07795597],\n",
       "       [ 0.49315086],\n",
       "       [ 0.35960092],\n",
       "       [-0.79542028],\n",
       "       [-1.32987024],\n",
       "       [ 0.09987798],\n",
       "       [-0.51196598],\n",
       "       [ 0.48233546],\n",
       "       [-1.56088193],\n",
       "       [-1.58018471],\n",
       "       [ 0.67729132],\n",
       "       [ 0.79670105],\n",
       "       [-0.69469526],\n",
       "       [ 0.67004971],\n",
       "       [ 1.25693168],\n",
       "       [ 0.21464098],\n",
       "       [-3.23208983],\n",
       "       [ 0.58091896],\n",
       "       [-1.58992628],\n",
       "       [ 0.09303908],\n",
       "       [-0.29549899],\n",
       "       [ 0.3780779 ],\n",
       "       [-0.90058392],\n",
       "       [-0.5370742 ],\n",
       "       [-0.17553819],\n",
       "       [-0.35560114],\n",
       "       [-0.07684556],\n",
       "       [ 0.65517779],\n",
       "       [-0.75746588],\n",
       "       [-0.76751004],\n",
       "       [-0.48555152],\n",
       "       [ 1.23543654],\n",
       "       [-0.90143784],\n",
       "       [ 0.50702224],\n",
       "       [-0.6146216 ],\n",
       "       [-0.16124775],\n",
       "       [ 0.15919739],\n",
       "       [ 0.37788916],\n",
       "       [ 1.36276732],\n",
       "       [ 0.08264957],\n",
       "       [-1.11351513],\n",
       "       [-1.53682154],\n",
       "       [ 1.2654208 ],\n",
       "       [-1.25290871],\n",
       "       [ 0.54154748],\n",
       "       [-0.18725505],\n",
       "       [-0.16400434],\n",
       "       [ 1.06669555],\n",
       "       [ 2.83725478],\n",
       "       [ 0.6684862 ],\n",
       "       [-0.39072188],\n",
       "       [ 0.43733272],\n",
       "       [-0.45380024],\n",
       "       [ 1.06807663],\n",
       "       [ 1.7390085 ],\n",
       "       [-1.37273443],\n",
       "       [ 1.68222326],\n",
       "       [-1.41958525],\n",
       "       [-0.0914191 ],\n",
       "       [-0.53471872],\n",
       "       [-0.6637638 ],\n",
       "       [ 1.07404144],\n",
       "       [-0.13552067],\n",
       "       [-0.53472108],\n",
       "       [-1.28257316],\n",
       "       [-1.757671  ],\n",
       "       [-0.60047728],\n",
       "       [ 1.31016503],\n",
       "       [ 0.97665235],\n",
       "       [ 0.71791305],\n",
       "       [ 2.36556065],\n",
       "       [ 0.38523143],\n",
       "       [-0.69510858],\n",
       "       [ 0.04466564],\n",
       "       [ 0.98498555],\n",
       "       [-0.81801602],\n",
       "       [-1.37694273],\n",
       "       [ 1.41962087],\n",
       "       [ 2.5463306 ],\n",
       "       [ 0.12483309],\n",
       "       [-1.06589102],\n",
       "       [ 1.29399631],\n",
       "       [ 2.57323714],\n",
       "       [-0.40349242],\n",
       "       [-0.67709518],\n",
       "       [ 0.03664753],\n",
       "       [-0.25399619],\n",
       "       [-0.83295735],\n",
       "       [ 0.6886645 ],\n",
       "       [ 0.95574266],\n",
       "       [ 1.02281406],\n",
       "       [ 0.50150158],\n",
       "       [-1.0791794 ],\n",
       "       [ 0.82554608],\n",
       "       [-0.30688218],\n",
       "       [ 0.25146193],\n",
       "       [ 1.21583414],\n",
       "       [ 0.03320736],\n",
       "       [-0.31641627],\n",
       "       [-1.07111214],\n",
       "       [-1.7754181 ],\n",
       "       [ 0.48329428],\n",
       "       [ 0.39263727],\n",
       "       [ 1.02993896],\n",
       "       [ 1.36023553],\n",
       "       [ 1.57268326],\n",
       "       [-0.99951353],\n",
       "       [-0.59683504],\n",
       "       [ 1.14088832],\n",
       "       [-1.29799013],\n",
       "       [ 0.14206901],\n",
       "       [ 1.13682976],\n",
       "       [ 0.9789975 ],\n",
       "       [-0.76323899],\n",
       "       [ 1.15986677],\n",
       "       [ 0.93259443],\n",
       "       [-0.68498174],\n",
       "       [-1.40296176],\n",
       "       [ 0.1911217 ],\n",
       "       [-0.18592217],\n",
       "       [-0.12700278],\n",
       "       [ 0.55553028],\n",
       "       [-0.83490055],\n",
       "       [ 1.19209685],\n",
       "       [-0.83044867],\n",
       "       [ 0.89346489],\n",
       "       [ 0.35972725],\n",
       "       [-1.61706167],\n",
       "       [ 1.84382032],\n",
       "       [ 0.43800176],\n",
       "       [-0.15027979],\n",
       "       [ 0.55764154],\n",
       "       [ 0.7462735 ],\n",
       "       [-1.7542758 ],\n",
       "       [ 0.6001581 ],\n",
       "       [ 1.11330754],\n",
       "       [-0.11227023],\n",
       "       [-1.45061382],\n",
       "       [-1.00854988],\n",
       "       [-0.88383178],\n",
       "       [ 0.18410813],\n",
       "       [-0.07655566],\n",
       "       [-0.19213422],\n",
       "       [-1.15535627],\n",
       "       [-0.80893053],\n",
       "       [ 0.11957752],\n",
       "       [-0.29698936],\n",
       "       [ 0.90064708],\n",
       "       [ 0.29226638],\n",
       "       [-0.04182979],\n",
       "       [ 0.61593314],\n",
       "       [-0.39536898],\n",
       "       [-0.71176092],\n",
       "       [ 1.15212666],\n",
       "       [-0.72002598],\n",
       "       [-1.07066812],\n",
       "       [ 0.98478347],\n",
       "       [-0.224034  ],\n",
       "       [-0.76902886],\n",
       "       [-0.03296977],\n",
       "       [-0.96002945],\n",
       "       [ 1.39256073],\n",
       "       [ 1.66082506],\n",
       "       [ 0.28712067],\n",
       "       [-1.34125109],\n",
       "       [-0.91441752],\n",
       "       [-0.03068053],\n",
       "       [ 1.49547274],\n",
       "       [ 0.84613921],\n",
       "       [-0.21120296],\n",
       "       [ 0.24763407],\n",
       "       [ 0.77107871],\n",
       "       [ 2.44336918],\n",
       "       [ 1.6221084 ],\n",
       "       [-0.23351925],\n",
       "       [ 0.76029667],\n",
       "       [-1.17576311],\n",
       "       [ 0.36175886],\n",
       "       [ 0.35701131],\n",
       "       [-0.69716189],\n",
       "       [-1.1590191 ],\n",
       "       [ 0.08790094],\n",
       "       [ 0.65392186],\n",
       "       [-0.21773765],\n",
       "       [ 0.70008307],\n",
       "       [-1.53055796],\n",
       "       [-0.09488128],\n",
       "       [-0.98413379],\n",
       "       [-0.41087101],\n",
       "       [-0.23174532],\n",
       "       [ 0.7295115 ],\n",
       "       [-0.01108112],\n",
       "       [-2.84123333],\n",
       "       [ 0.6021961 ],\n",
       "       [-0.41550839]])"
      ]
     },
     "execution_count": 1,
     "metadata": {},
     "output_type": "execute_result"
    }
   ],
   "source": [
    "import numpy as np\n",
    "numInstances = 200 \n",
    "np.random.normal(size=numInstances).reshape(-1,1)"
   ]
  },
  {
   "cell_type": "code",
   "execution_count": 2,
   "metadata": {},
   "outputs": [
    {
     "data": {
      "text/plain": [
       "Text(0, 0.5, 'y')"
      ]
     },
     "execution_count": 2,
     "metadata": {},
     "output_type": "execute_result"
    },
    {
     "data": {
      "image/png": "[encoded data removed]",
      "text/plain": [
       "<Figure size 432x288 with 1 Axes>"
      ]
     },
     "metadata": {
      "needs_background": "light"
     },
     "output_type": "display_data"
    }
   ],
   "source": [
    "%matplotlib inline\n",
    "import numpy as np\n",
    "import matplotlib.pyplot as plt\n",
    "\n",
    "seed = 1            \n",
    "numInstances = 200  \n",
    "np.random.seed(seed)\n",
    "X = np.random.rand(numInstances,1).reshape(-1,1)\n",
    "y_true = -3*X + 1 \n",
    "y = y_true + np.random.normal(size=numInstances).reshape(-1,1)\n",
    "\n",
    "plt.scatter(X, y,  color='black')\n",
    "plt.plot(X, y_true, color='blue', linewidth=3)\n",
    "plt.title('True function: y = -3X + 1')\n",
    "plt.xlabel('X')\n",
    "plt.ylabel('y')"
   ]
  },
  {
   "cell_type": "markdown",
   "metadata": {},
   "source": [
    "## 2. Multiple Linear Regression\n"
   ]
  },
  {
   "cell_type": "markdown",
   "metadata": {},
   "source": [
    "#### Step 1: Split Input Data into Training and Test Sets"
   ]
  },
  {
   "cell_type": "code",
   "execution_count": 3,
   "metadata": {},
   "outputs": [],
   "source": [
    "numTrain = 20   # number of training instances\n",
    "numTest = numInstances - numTrain #numinstances=200\n",
    "\n",
    "X_train = X[:-numTest]\n",
    "X_test = X[-numTest:]\n",
    "y_train = y[:-numTest]\n",
    "y_test = y[-numTest:]"
   ]
  },
  {
   "cell_type": "markdown",
   "metadata": {},
   "source": [
    "#### Step 2: Fit Regression Model to Training Set"
   ]
  },
  {
   "cell_type": "code",
   "execution_count": 4,
   "metadata": {},
   "outputs": [
    {
     "data": {
      "text/plain": [
       "LinearRegression(copy_X=True, fit_intercept=True, n_jobs=None, normalize=False)"
      ]
     },
     "execution_count": 4,
     "metadata": {},
     "output_type": "execute_result"
    }
   ],
   "source": [
    "from sklearn import linear_model\n",
    "from sklearn.metrics import mean_squared_error, r2_score\n",
    "\n",
    "# Create linear regression object\n",
    "regr = linear_model.LinearRegression()\n",
    "\n",
    "# Fit regression model to the training set\n",
    "regr.fit(X_train, y_train)"
   ]
  },
  {
   "cell_type": "markdown",
   "metadata": {},
   "source": [
    "#### Step 3: Apply Model to the Test Set "
   ]
  },
  {
   "cell_type": "code",
   "execution_count": 5,
   "metadata": {},
   "outputs": [],
   "source": [
    "# Apply model to the test set\n",
    "y_pred_test = regr.predict(X_test)"
   ]
  },
  {
   "cell_type": "markdown",
   "metadata": {},
   "source": [
    "#### Step 4: Evaluate Model Performance on Test Set"
   ]
  },
  {
   "cell_type": "code",
   "execution_count": 6,
   "metadata": {},
   "outputs": [
    {
     "name": "stdout",
     "output_type": "stream",
     "text": [
      "Root mean squared error = 1.0476\n",
      "R-squared = 0.4443\n"
     ]
    },
    {
     "data": {
      "image/png": "[encoded data removed]",
      "text/plain": [
       "<Figure size 432x288 with 1 Axes>"
      ]
     },
     "metadata": {
      "needs_background": "light"
     },
     "output_type": "display_data"
    }
   ],
   "source": [
    "# Comparing true versus predicted values\n",
    "plt.scatter(y_test, y_pred_test, color='black')\n",
    "plt.title('Comparing true and predicted values for test set')\n",
    "plt.xlabel('True values for y')\n",
    "plt.ylabel('Predicted values for y')\n",
    "\n",
    "# Model evaluation\n",
    "print(\"Root mean squared error = %.4f\" % np.sqrt(mean_squared_error(y_test, y_pred_test)))\n",
    "print('R-squared = %.4f' % r2_score(y_test, y_pred_test))"
   ]
  },
  {
   "cell_type": "markdown",
   "metadata": {},
   "source": [
    "#### Step 5: Postprocessing"
   ]
  },
  {
   "cell_type": "code",
   "execution_count": 7,
   "metadata": {},
   "outputs": [
    {
     "name": "stdout",
     "output_type": "stream",
     "text": [
      "Slope =  -3.242354544656501\n",
      "Intercept =  1.0805993038584834\n"
     ]
    },
    {
     "data": {
      "text/plain": [
       "Text(0, 0.5, 'y')"
      ]
     },
     "execution_count": 7,
     "metadata": {},
     "output_type": "execute_result"
    },
    {
     "data": {
      "image/png": "[encoded data removed]",
      "text/plain": [
       "<Figure size 432x288 with 1 Axes>"
      ]
     },
     "metadata": {
      "needs_background": "light"
     },
     "output_type": "display_data"
    }
   ],
   "source": [
    "# Display model parameters\n",
    "print('Slope = ', regr.coef_[0][0])\n",
    "print('Intercept = ', regr.intercept_[0])### Step 4: Postprocessing\n",
    "\n",
    "# Plot outputs\n",
    "plt.scatter(X_test, y_test,  color='black')\n",
    "plt.plot(X_test, y_pred_test, color='blue', linewidth=3)\n",
    "titlestr = 'Predicted Function: y = %.2fX + %.2f' % (regr.coef_[0], regr.intercept_[0])\n",
    "plt.title(titlestr)\n",
    "plt.xlabel('X')\n",
    "plt.ylabel('y')\n",
    "\n",
    "# True function-y_true = -3*X + 1 --predicted almost same m and c."
   ]
  }
 ],
 "metadata": {
  "kernelspec": {
   "display_name": "Python 3",
   "language": "python",
   "name": "python3"
  },
  "language_info": {
   "codemirror_mode": {
    "name": "ipython",
    "version": 3
   },
   "file_extension": ".py",
   "mimetype": "text/x-python",
   "name": "python",
   "nbconvert_exporter": "python",
   "pygments_lexer": "ipython3",
   "version": "3.7.8rc1"
  }
 },
 "nbformat": 4,
 "nbformat_minor": 2
}
