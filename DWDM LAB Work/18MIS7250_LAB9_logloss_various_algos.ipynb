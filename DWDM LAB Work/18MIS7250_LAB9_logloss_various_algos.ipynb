{
 "cells": [
  {
   "cell_type": "markdown",
   "metadata": {
    "id": "iUvIKBwjr1-z"
   },
   "source": [
    "# Objective : Use Log loss to evaluate various models\n",
    "1. NB (MultinomialNB)\n",
    "2. Linear SVM\n",
    "3. Logistic Regression\n",
    "3. Stacking (NB, SVM and Logistic Regression)\n",
    " \n",
    "   *   Meta classifier- logistic regression---You can use stacking classifer\n",
    "   *   use SGDclassfier() to implement SVM and logistic regression\n",
    "\n",
    "\n"
   ]
  },
  {
   "cell_type": "code",
   "execution_count": 89,
   "metadata": {},
   "outputs": [
    {
     "name": "stdout",
     "output_type": "stream",
     "text": [
      "Requirement already satisfied: nltk in c:\\users\\admin\\appdata\\local\\programs\\python\\python37\\lib\\site-packages (3.5)\n",
      "Requirement already satisfied: click in c:\\users\\admin\\appdata\\local\\programs\\python\\python37\\lib\\site-packages (from nltk) (7.1.2)\n",
      "Requirement already satisfied: regex in c:\\users\\admin\\appdata\\local\\programs\\python\\python37\\lib\\site-packages (from nltk) (2020.11.13)\n",
      "Requirement already satisfied: joblib in c:\\users\\admin\\appdata\\local\\programs\\python\\python37\\lib\\site-packages (from nltk) (0.17.0)\n",
      "Requirement already satisfied: tqdm in c:\\users\\admin\\appdata\\local\\programs\\python\\python37\\lib\\site-packages (from nltk) (4.54.0)\n"
     ]
    },
    {
     "name": "stderr",
     "output_type": "stream",
     "text": [
      "WARNING: You are using pip version 20.2.4; however, version 20.3.1 is available.\n",
      "You should consider upgrading via the 'c:\\users\\admin\\appdata\\local\\programs\\python\\python37\\python.exe -m pip install --upgrade pip' command.\n"
     ]
    }
   ],
   "source": [
    "!pip3 install nltk"
   ]
  },
  {
   "cell_type": "code",
   "execution_count": 2,
   "metadata": {
    "colab": {
     "base_uri": "https://localhost:8080/"
    },
    "executionInfo": {
     "elapsed": 21373,
     "status": "ok",
     "timestamp": 1606494437991,
     "user": {
      "displayName": "GUNDA SOMESWARA SUBASH GUPTA 18BCE7243",
      "photoUrl": "https://lh3.googleusercontent.com/a-/AOh14GipAsB9aIe9Crbsk6tSlN79qqBOc3S1TYSR-U32=s64",
      "userId": "00843946948946924957"
     },
     "user_tz": -330
    },
    "id": "Tf9mXZRQrq40",
    "outputId": "9a599e2e-2f78-4d7e-a4d3-bfe194c7b695"
   },
   "outputs": [
    {
     "name": "stderr",
     "output_type": "stream",
     "text": [
      "c:\\users\\admin\\appdata\\local\\programs\\python\\python37\\lib\\site-packages\\sklearn\\utils\\deprecation.py:143: FutureWarning: The sklearn.metrics.classification module is  deprecated in version 0.22 and will be removed in version 0.24. The corresponding classes / functions should instead be imported from sklearn.metrics. Anything that cannot be imported from sklearn.metrics is now part of the private API.\n",
      "  warnings.warn(message, FutureWarning)\n"
     ]
    }
   ],
   "source": [
    "# Loading all required packages\n",
    "# If any of it fails, do not panic. Just install it using \"pip3 install <package_name>\" or by using conda install package_name\n",
    "import pandas as pd\n",
    "import matplotlib.pyplot as plt\n",
    "import re\n",
    "import time\n",
    "import warnings\n",
    "import numpy as np\n",
    "from nltk.corpus import stopwords\n",
    "from sklearn.decomposition import TruncatedSVD\n",
    "from sklearn.preprocessing import normalize\n",
    "from sklearn.feature_extraction.text import CountVectorizer\n",
    "from sklearn.manifold import TSNE\n",
    "import seaborn as sns\n",
    "from sklearn.neighbors import KNeighborsClassifier\n",
    "from sklearn.metrics import confusion_matrix\n",
    "from sklearn.metrics.classification import accuracy_score, log_loss\n",
    "from sklearn.feature_extraction.text import TfidfVectorizer\n",
    "from sklearn.linear_model import SGDClassifier\n",
    "# from imblearn.over_sampling import SMOTE\n",
    "from collections import Counter\n",
    "from scipy.sparse import hstack\n",
    "from sklearn.multiclass import OneVsRestClassifier\n",
    "from sklearn.svm import SVC\n",
    "#from sklearn.cross_validation import StratifiedKFold \n",
    "from collections import Counter, defaultdict\n",
    "from sklearn.calibration import CalibratedClassifierCV\n",
    "from sklearn.naive_bayes import MultinomialNB\n",
    "from sklearn.naive_bayes import GaussianNB\n",
    "from sklearn.model_selection import train_test_split\n",
    "from sklearn.model_selection import GridSearchCV\n",
    "import math\n",
    "from sklearn.metrics import normalized_mutual_info_score\n",
    "from sklearn.ensemble import RandomForestClassifier\n",
    "warnings.filterwarnings(\"ignore\")\n",
    "\n",
    "#from mlxtend.classifier import StackingClassifier\n",
    "\n",
    "from sklearn import model_selection\n",
    "from sklearn.linear_model import LogisticRegression"
   ]
  },
  {
   "cell_type": "code",
   "execution_count": 3,
   "metadata": {
    "id": "JKX7aLi7sAxs"
   },
   "outputs": [],
   "source": [
    "# Loading training_variants. Its a comma seperated file\n",
    "df1=pd.read_csv(\"training1\")\n",
    "# Loading training_text dataset. This is seperated by ||\n",
    "df2 =pd.read_csv(\"training2\",sep=\"\\|\\|\",engine=\"python\",names=[\"ID\",\"TEXT\"],skiprows=1)"
   ]
  },
  {
   "cell_type": "code",
   "execution_count": 4,
   "metadata": {
    "colab": {
     "base_uri": "https://localhost:8080/",
     "height": 204
    },
    "executionInfo": {
     "elapsed": 5584,
     "status": "ok",
     "timestamp": 1606494650916,
     "user": {
      "displayName": "GUNDA SOMESWARA SUBASH GUPTA 18BCE7243",
      "photoUrl": "https://lh3.googleusercontent.com/a-/AOh14GipAsB9aIe9Crbsk6tSlN79qqBOc3S1TYSR-U32=s64",
      "userId": "00843946948946924957"
     },
     "user_tz": -330
    },
    "id": "RKKcuKBO9VNO",
    "outputId": "16d3837f-f95d-4792-9453-2adaabb2f97a"
   },
   "outputs": [
    {
     "data": {
      "text/html": [
       "<div>\n",
       "<style scoped>\n",
       "    .dataframe tbody tr th:only-of-type {\n",
       "        vertical-align: middle;\n",
       "    }\n",
       "\n",
       "    .dataframe tbody tr th {\n",
       "        vertical-align: top;\n",
       "    }\n",
       "\n",
       "    .dataframe thead th {\n",
       "        text-align: right;\n",
       "    }\n",
       "</style>\n",
       "<table border=\"1\" class=\"dataframe\">\n",
       "  <thead>\n",
       "    <tr style=\"text-align: right;\">\n",
       "      <th></th>\n",
       "      <th>ID</th>\n",
       "      <th>Code1</th>\n",
       "      <th>Code2</th>\n",
       "      <th>Class</th>\n",
       "    </tr>\n",
       "  </thead>\n",
       "  <tbody>\n",
       "    <tr>\n",
       "      <th>0</th>\n",
       "      <td>0</td>\n",
       "      <td>FAM58A</td>\n",
       "      <td>Truncating Mutations</td>\n",
       "      <td>1</td>\n",
       "    </tr>\n",
       "    <tr>\n",
       "      <th>1</th>\n",
       "      <td>1</td>\n",
       "      <td>CBL</td>\n",
       "      <td>W802*</td>\n",
       "      <td>2</td>\n",
       "    </tr>\n",
       "    <tr>\n",
       "      <th>2</th>\n",
       "      <td>2</td>\n",
       "      <td>CBL</td>\n",
       "      <td>Q249E</td>\n",
       "      <td>2</td>\n",
       "    </tr>\n",
       "    <tr>\n",
       "      <th>3</th>\n",
       "      <td>3</td>\n",
       "      <td>CBL</td>\n",
       "      <td>N454D</td>\n",
       "      <td>3</td>\n",
       "    </tr>\n",
       "    <tr>\n",
       "      <th>4</th>\n",
       "      <td>4</td>\n",
       "      <td>CBL</td>\n",
       "      <td>L399V</td>\n",
       "      <td>4</td>\n",
       "    </tr>\n",
       "  </tbody>\n",
       "</table>\n",
       "</div>"
      ],
      "text/plain": [
       "   ID   Code1                 Code2  Class\n",
       "0   0  FAM58A  Truncating Mutations      1\n",
       "1   1     CBL                 W802*      2\n",
       "2   2     CBL                 Q249E      2\n",
       "3   3     CBL                 N454D      3\n",
       "4   4     CBL                 L399V      4"
      ]
     },
     "execution_count": 4,
     "metadata": {},
     "output_type": "execute_result"
    }
   ],
   "source": [
    "df1.head()"
   ]
  },
  {
   "cell_type": "code",
   "execution_count": 5,
   "metadata": {
    "colab": {
     "base_uri": "https://localhost:8080/",
     "height": 204
    },
    "executionInfo": {
     "elapsed": 13054,
     "status": "ok",
     "timestamp": 1606494737448,
     "user": {
      "displayName": "GUNDA SOMESWARA SUBASH GUPTA 18BCE7243",
      "photoUrl": "https://lh3.googleusercontent.com/a-/AOh14GipAsB9aIe9Crbsk6tSlN79qqBOc3S1TYSR-U32=s64",
      "userId": "00843946948946924957"
     },
     "user_tz": -330
    },
    "id": "9pxAjoIe9cjc",
    "outputId": "98eacea9-adcf-42df-abea-b09cc993e601"
   },
   "outputs": [
    {
     "data": {
      "text/html": [
       "<div>\n",
       "<style scoped>\n",
       "    .dataframe tbody tr th:only-of-type {\n",
       "        vertical-align: middle;\n",
       "    }\n",
       "\n",
       "    .dataframe tbody tr th {\n",
       "        vertical-align: top;\n",
       "    }\n",
       "\n",
       "    .dataframe thead th {\n",
       "        text-align: right;\n",
       "    }\n",
       "</style>\n",
       "<table border=\"1\" class=\"dataframe\">\n",
       "  <thead>\n",
       "    <tr style=\"text-align: right;\">\n",
       "      <th></th>\n",
       "      <th>ID</th>\n",
       "      <th>TEXT</th>\n",
       "    </tr>\n",
       "  </thead>\n",
       "  <tbody>\n",
       "    <tr>\n",
       "      <th>0</th>\n",
       "      <td>0</td>\n",
       "      <td>Cyclin-dependent kinases (CDKs) regulate a var...</td>\n",
       "    </tr>\n",
       "    <tr>\n",
       "      <th>1</th>\n",
       "      <td>1</td>\n",
       "      <td>Abstract Background  Non-small cell lung canc...</td>\n",
       "    </tr>\n",
       "    <tr>\n",
       "      <th>2</th>\n",
       "      <td>2</td>\n",
       "      <td>Abstract Background  Non-small cell lung canc...</td>\n",
       "    </tr>\n",
       "    <tr>\n",
       "      <th>3</th>\n",
       "      <td>3</td>\n",
       "      <td>Recent evidence has demonstrated that acquired...</td>\n",
       "    </tr>\n",
       "    <tr>\n",
       "      <th>4</th>\n",
       "      <td>4</td>\n",
       "      <td>Oncogenic mutations in the monomeric Casitas B...</td>\n",
       "    </tr>\n",
       "  </tbody>\n",
       "</table>\n",
       "</div>"
      ],
      "text/plain": [
       "   ID                                               TEXT\n",
       "0   0  Cyclin-dependent kinases (CDKs) regulate a var...\n",
       "1   1   Abstract Background  Non-small cell lung canc...\n",
       "2   2   Abstract Background  Non-small cell lung canc...\n",
       "3   3  Recent evidence has demonstrated that acquired...\n",
       "4   4  Oncogenic mutations in the monomeric Casitas B..."
      ]
     },
     "execution_count": 5,
     "metadata": {},
     "output_type": "execute_result"
    }
   ],
   "source": [
    "df2.head() #ID and Text"
   ]
  },
  {
   "cell_type": "code",
   "execution_count": 6,
   "metadata": {},
   "outputs": [
    {
     "name": "stdout",
     "output_type": "stream",
     "text": [
      "(3321, 4)\n",
      "(3321, 2)\n"
     ]
    }
   ],
   "source": [
    "print(df1.shape)\n",
    "print(df2.shape)"
   ]
  },
  {
   "cell_type": "markdown",
   "metadata": {
    "id": "sa0IqqLvs1XR"
   },
   "source": [
    "# Question 1: Combine both the datasets using the primary key and drop missing values if any"
   ]
  },
  {
   "cell_type": "code",
   "execution_count": 7,
   "metadata": {
    "colab": {
     "background_save": true,
     "base_uri": "https://localhost:8080/",
     "height": 204
    },
    "executionInfo": {
     "elapsed": 12284,
     "status": "ok",
     "timestamp": 1606494778356,
     "user": {
      "displayName": "GUNDA SOMESWARA SUBASH GUPTA 18BCE7243",
      "photoUrl": "https://lh3.googleusercontent.com/a-/AOh14GipAsB9aIe9Crbsk6tSlN79qqBOc3S1TYSR-U32=s64",
      "userId": "00843946948946924957"
     },
     "user_tz": -330
    },
    "id": "ynaRNcxreekC",
    "outputId": "dd28d66e-70ce-4d3f-f950-dfc782376a53"
   },
   "outputs": [
    {
     "name": "stdout",
     "output_type": "stream",
     "text": [
      "(3321, 5)\n"
     ]
    },
    {
     "data": {
      "text/html": [
       "<div>\n",
       "<style scoped>\n",
       "    .dataframe tbody tr th:only-of-type {\n",
       "        vertical-align: middle;\n",
       "    }\n",
       "\n",
       "    .dataframe tbody tr th {\n",
       "        vertical-align: top;\n",
       "    }\n",
       "\n",
       "    .dataframe thead th {\n",
       "        text-align: right;\n",
       "    }\n",
       "</style>\n",
       "<table border=\"1\" class=\"dataframe\">\n",
       "  <thead>\n",
       "    <tr style=\"text-align: right;\">\n",
       "      <th></th>\n",
       "      <th>ID</th>\n",
       "      <th>Code1</th>\n",
       "      <th>Code2</th>\n",
       "      <th>Class</th>\n",
       "      <th>TEXT</th>\n",
       "    </tr>\n",
       "  </thead>\n",
       "  <tbody>\n",
       "    <tr>\n",
       "      <th>0</th>\n",
       "      <td>0</td>\n",
       "      <td>FAM58A</td>\n",
       "      <td>Truncating Mutations</td>\n",
       "      <td>1</td>\n",
       "      <td>Cyclin-dependent kinases (CDKs) regulate a var...</td>\n",
       "    </tr>\n",
       "    <tr>\n",
       "      <th>1</th>\n",
       "      <td>1</td>\n",
       "      <td>CBL</td>\n",
       "      <td>W802*</td>\n",
       "      <td>2</td>\n",
       "      <td>Abstract Background  Non-small cell lung canc...</td>\n",
       "    </tr>\n",
       "    <tr>\n",
       "      <th>2</th>\n",
       "      <td>2</td>\n",
       "      <td>CBL</td>\n",
       "      <td>Q249E</td>\n",
       "      <td>2</td>\n",
       "      <td>Abstract Background  Non-small cell lung canc...</td>\n",
       "    </tr>\n",
       "    <tr>\n",
       "      <th>3</th>\n",
       "      <td>3</td>\n",
       "      <td>CBL</td>\n",
       "      <td>N454D</td>\n",
       "      <td>3</td>\n",
       "      <td>Recent evidence has demonstrated that acquired...</td>\n",
       "    </tr>\n",
       "    <tr>\n",
       "      <th>4</th>\n",
       "      <td>4</td>\n",
       "      <td>CBL</td>\n",
       "      <td>L399V</td>\n",
       "      <td>4</td>\n",
       "      <td>Oncogenic mutations in the monomeric Casitas B...</td>\n",
       "    </tr>\n",
       "  </tbody>\n",
       "</table>\n",
       "</div>"
      ],
      "text/plain": [
       "   ID   Code1                 Code2  Class  \\\n",
       "0   0  FAM58A  Truncating Mutations      1   \n",
       "1   1     CBL                 W802*      2   \n",
       "2   2     CBL                 Q249E      2   \n",
       "3   3     CBL                 N454D      3   \n",
       "4   4     CBL                 L399V      4   \n",
       "\n",
       "                                                TEXT  \n",
       "0  Cyclin-dependent kinases (CDKs) regulate a var...  \n",
       "1   Abstract Background  Non-small cell lung canc...  \n",
       "2   Abstract Background  Non-small cell lung canc...  \n",
       "3  Recent evidence has demonstrated that acquired...  \n",
       "4  Oncogenic mutations in the monomeric Casitas B...  "
      ]
     },
     "execution_count": 7,
     "metadata": {},
     "output_type": "execute_result"
    }
   ],
   "source": [
    "df3 = pd.merge(df1, df2,)\n",
    "print(df3.shape)\n",
    "df3.head()"
   ]
  },
  {
   "cell_type": "code",
   "execution_count": 8,
   "metadata": {},
   "outputs": [
    {
     "data": {
      "text/plain": [
       "(3316, 5)"
      ]
     },
     "execution_count": 8,
     "metadata": {},
     "output_type": "execute_result"
    }
   ],
   "source": [
    "df3=df3.dropna()\n",
    "df3.shape"
   ]
  },
  {
   "cell_type": "markdown",
   "metadata": {
    "id": "PLaeu8SotCZR"
   },
   "source": [
    "# Question 2: After combining, you will have \"code1\", \"code2\" and \"Text\" Columns. Firstly in \"Text\" Column, remove all stop words, replace all special charecters with space, replace multiple spaces with single space and convert all charecters to lower case"
   ]
  },
  {
   "cell_type": "code",
   "execution_count": 9,
   "metadata": {},
   "outputs": [],
   "source": [
    "from nltk.corpus import stopwords  \n",
    "from nltk.tokenize import word_tokenize  "
   ]
  },
  {
   "cell_type": "code",
   "execution_count": 10,
   "metadata": {},
   "outputs": [
    {
     "data": {
      "text/plain": [
       "0       Cyclin-dependent kinases (CDKs) regulate a var...\n",
       "1        Abstract Background  Non-small cell lung canc...\n",
       "2        Abstract Background  Non-small cell lung canc...\n",
       "3       Recent evidence has demonstrated that acquired...\n",
       "4       Oncogenic mutations in the monomeric Casitas B...\n",
       "                              ...                        \n",
       "3316    Introduction  Myelodysplastic syndromes (MDS) ...\n",
       "3317    Introduction  Myelodysplastic syndromes (MDS) ...\n",
       "3318    The Runt-related transcription factor 1 gene (...\n",
       "3319    The RUNX1/AML1 gene is the most frequent targe...\n",
       "3320    The most frequent mutations associated with le...\n",
       "Name: TEXT, Length: 3316, dtype: object"
      ]
     },
     "execution_count": 10,
     "metadata": {},
     "output_type": "execute_result"
    }
   ],
   "source": [
    "df3['TEXT']"
   ]
  },
  {
   "cell_type": "code",
   "execution_count": 11,
   "metadata": {},
   "outputs": [],
   "source": [
    "import nltk\n",
    "# nltk.download('punkt')\n",
    "# nltk.download('stopwords')\n",
    "stop= stopwords.words('english')    \n",
    "df3['text_without_stopwords'] = df3['TEXT'].apply(lambda x: ' '.join([word for word in x.split() if word not in (stop)]))"
   ]
  },
  {
   "cell_type": "code",
   "execution_count": 12,
   "metadata": {},
   "outputs": [
    {
     "data": {
      "text/html": [
       "<div>\n",
       "<style scoped>\n",
       "    .dataframe tbody tr th:only-of-type {\n",
       "        vertical-align: middle;\n",
       "    }\n",
       "\n",
       "    .dataframe tbody tr th {\n",
       "        vertical-align: top;\n",
       "    }\n",
       "\n",
       "    .dataframe thead th {\n",
       "        text-align: right;\n",
       "    }\n",
       "</style>\n",
       "<table border=\"1\" class=\"dataframe\">\n",
       "  <thead>\n",
       "    <tr style=\"text-align: right;\">\n",
       "      <th></th>\n",
       "      <th>ID</th>\n",
       "      <th>Code1</th>\n",
       "      <th>Code2</th>\n",
       "      <th>Class</th>\n",
       "      <th>TEXT</th>\n",
       "      <th>text_without_stopwords</th>\n",
       "    </tr>\n",
       "  </thead>\n",
       "  <tbody>\n",
       "    <tr>\n",
       "      <th>0</th>\n",
       "      <td>0</td>\n",
       "      <td>FAM58A</td>\n",
       "      <td>Truncating Mutations</td>\n",
       "      <td>1</td>\n",
       "      <td>Cyclin-dependent kinases (CDKs) regulate a var...</td>\n",
       "      <td>Cyclin-dependent kinases (CDKs) regulate varie...</td>\n",
       "    </tr>\n",
       "    <tr>\n",
       "      <th>1</th>\n",
       "      <td>1</td>\n",
       "      <td>CBL</td>\n",
       "      <td>W802*</td>\n",
       "      <td>2</td>\n",
       "      <td>Abstract Background  Non-small cell lung canc...</td>\n",
       "      <td>Abstract Background Non-small cell lung cancer...</td>\n",
       "    </tr>\n",
       "    <tr>\n",
       "      <th>2</th>\n",
       "      <td>2</td>\n",
       "      <td>CBL</td>\n",
       "      <td>Q249E</td>\n",
       "      <td>2</td>\n",
       "      <td>Abstract Background  Non-small cell lung canc...</td>\n",
       "      <td>Abstract Background Non-small cell lung cancer...</td>\n",
       "    </tr>\n",
       "    <tr>\n",
       "      <th>3</th>\n",
       "      <td>3</td>\n",
       "      <td>CBL</td>\n",
       "      <td>N454D</td>\n",
       "      <td>3</td>\n",
       "      <td>Recent evidence has demonstrated that acquired...</td>\n",
       "      <td>Recent evidence demonstrated acquired uniparen...</td>\n",
       "    </tr>\n",
       "    <tr>\n",
       "      <th>4</th>\n",
       "      <td>4</td>\n",
       "      <td>CBL</td>\n",
       "      <td>L399V</td>\n",
       "      <td>4</td>\n",
       "      <td>Oncogenic mutations in the monomeric Casitas B...</td>\n",
       "      <td>Oncogenic mutations monomeric Casitas B-lineag...</td>\n",
       "    </tr>\n",
       "    <tr>\n",
       "      <th>...</th>\n",
       "      <td>...</td>\n",
       "      <td>...</td>\n",
       "      <td>...</td>\n",
       "      <td>...</td>\n",
       "      <td>...</td>\n",
       "      <td>...</td>\n",
       "    </tr>\n",
       "    <tr>\n",
       "      <th>3316</th>\n",
       "      <td>3316</td>\n",
       "      <td>RUNX1</td>\n",
       "      <td>D171N</td>\n",
       "      <td>4</td>\n",
       "      <td>Introduction  Myelodysplastic syndromes (MDS) ...</td>\n",
       "      <td>Introduction Myelodysplastic syndromes (MDS) h...</td>\n",
       "    </tr>\n",
       "    <tr>\n",
       "      <th>3317</th>\n",
       "      <td>3317</td>\n",
       "      <td>RUNX1</td>\n",
       "      <td>A122*</td>\n",
       "      <td>1</td>\n",
       "      <td>Introduction  Myelodysplastic syndromes (MDS) ...</td>\n",
       "      <td>Introduction Myelodysplastic syndromes (MDS) h...</td>\n",
       "    </tr>\n",
       "    <tr>\n",
       "      <th>3318</th>\n",
       "      <td>3318</td>\n",
       "      <td>RUNX1</td>\n",
       "      <td>Fusions</td>\n",
       "      <td>1</td>\n",
       "      <td>The Runt-related transcription factor 1 gene (...</td>\n",
       "      <td>The Runt-related transcription factor 1 gene (...</td>\n",
       "    </tr>\n",
       "    <tr>\n",
       "      <th>3319</th>\n",
       "      <td>3319</td>\n",
       "      <td>RUNX1</td>\n",
       "      <td>R80C</td>\n",
       "      <td>4</td>\n",
       "      <td>The RUNX1/AML1 gene is the most frequent targe...</td>\n",
       "      <td>The RUNX1/AML1 gene frequent target chromosoma...</td>\n",
       "    </tr>\n",
       "    <tr>\n",
       "      <th>3320</th>\n",
       "      <td>3320</td>\n",
       "      <td>RUNX1</td>\n",
       "      <td>K83E</td>\n",
       "      <td>4</td>\n",
       "      <td>The most frequent mutations associated with le...</td>\n",
       "      <td>The frequent mutations associated leukemia rec...</td>\n",
       "    </tr>\n",
       "  </tbody>\n",
       "</table>\n",
       "<p>3316 rows × 6 columns</p>\n",
       "</div>"
      ],
      "text/plain": [
       "        ID   Code1                 Code2  Class  \\\n",
       "0        0  FAM58A  Truncating Mutations      1   \n",
       "1        1     CBL                 W802*      2   \n",
       "2        2     CBL                 Q249E      2   \n",
       "3        3     CBL                 N454D      3   \n",
       "4        4     CBL                 L399V      4   \n",
       "...    ...     ...                   ...    ...   \n",
       "3316  3316   RUNX1                 D171N      4   \n",
       "3317  3317   RUNX1                 A122*      1   \n",
       "3318  3318   RUNX1               Fusions      1   \n",
       "3319  3319   RUNX1                  R80C      4   \n",
       "3320  3320   RUNX1                  K83E      4   \n",
       "\n",
       "                                                   TEXT  \\\n",
       "0     Cyclin-dependent kinases (CDKs) regulate a var...   \n",
       "1      Abstract Background  Non-small cell lung canc...   \n",
       "2      Abstract Background  Non-small cell lung canc...   \n",
       "3     Recent evidence has demonstrated that acquired...   \n",
       "4     Oncogenic mutations in the monomeric Casitas B...   \n",
       "...                                                 ...   \n",
       "3316  Introduction  Myelodysplastic syndromes (MDS) ...   \n",
       "3317  Introduction  Myelodysplastic syndromes (MDS) ...   \n",
       "3318  The Runt-related transcription factor 1 gene (...   \n",
       "3319  The RUNX1/AML1 gene is the most frequent targe...   \n",
       "3320  The most frequent mutations associated with le...   \n",
       "\n",
       "                                 text_without_stopwords  \n",
       "0     Cyclin-dependent kinases (CDKs) regulate varie...  \n",
       "1     Abstract Background Non-small cell lung cancer...  \n",
       "2     Abstract Background Non-small cell lung cancer...  \n",
       "3     Recent evidence demonstrated acquired uniparen...  \n",
       "4     Oncogenic mutations monomeric Casitas B-lineag...  \n",
       "...                                                 ...  \n",
       "3316  Introduction Myelodysplastic syndromes (MDS) h...  \n",
       "3317  Introduction Myelodysplastic syndromes (MDS) h...  \n",
       "3318  The Runt-related transcription factor 1 gene (...  \n",
       "3319  The RUNX1/AML1 gene frequent target chromosoma...  \n",
       "3320  The frequent mutations associated leukemia rec...  \n",
       "\n",
       "[3316 rows x 6 columns]"
      ]
     },
     "execution_count": 12,
     "metadata": {},
     "output_type": "execute_result"
    }
   ],
   "source": [
    "df3"
   ]
  },
  {
   "cell_type": "markdown",
   "metadata": {},
   "source": [
    "### removing special characters with space & lower case"
   ]
  },
  {
   "cell_type": "code",
   "execution_count": 13,
   "metadata": {},
   "outputs": [],
   "source": [
    "df3.text_without_stopwords = df3.text_without_stopwords.replace(r'[<%-/#@!]', ' ', regex=True)"
   ]
  },
  {
   "cell_type": "code",
   "execution_count": 14,
   "metadata": {},
   "outputs": [
    {
     "data": {
      "text/plain": [
       "0       Cyclin dependent kinases  CDKs  regulate varie...\n",
       "1       Abstract Background Non small cell lung cancer...\n",
       "2       Abstract Background Non small cell lung cancer...\n",
       "3       Recent evidence demonstrated acquired uniparen...\n",
       "4       Oncogenic mutations monomeric Casitas B lineag...\n",
       "                              ...                        \n",
       "3316    Introduction Myelodysplastic syndromes  MDS  h...\n",
       "3317    Introduction Myelodysplastic syndromes  MDS  h...\n",
       "3318    The Runt related transcription factor 1 gene  ...\n",
       "3319    The RUNX1 AML1 gene frequent target chromosoma...\n",
       "3320    The frequent mutations associated leukemia rec...\n",
       "Name: text_without_stopwords, Length: 3316, dtype: object"
      ]
     },
     "execution_count": 14,
     "metadata": {},
     "output_type": "execute_result"
    }
   ],
   "source": [
    "df3.text_without_stopwords"
   ]
  },
  {
   "cell_type": "code",
   "execution_count": 15,
   "metadata": {},
   "outputs": [
    {
     "data": {
      "text/html": [
       "<div>\n",
       "<style scoped>\n",
       "    .dataframe tbody tr th:only-of-type {\n",
       "        vertical-align: middle;\n",
       "    }\n",
       "\n",
       "    .dataframe tbody tr th {\n",
       "        vertical-align: top;\n",
       "    }\n",
       "\n",
       "    .dataframe thead th {\n",
       "        text-align: right;\n",
       "    }\n",
       "</style>\n",
       "<table border=\"1\" class=\"dataframe\">\n",
       "  <thead>\n",
       "    <tr style=\"text-align: right;\">\n",
       "      <th></th>\n",
       "      <th>Code1</th>\n",
       "      <th>Code2</th>\n",
       "      <th>Class</th>\n",
       "      <th>TEXT</th>\n",
       "    </tr>\n",
       "  </thead>\n",
       "  <tbody>\n",
       "    <tr>\n",
       "      <th>0</th>\n",
       "      <td>FAM58A</td>\n",
       "      <td>Truncating Mutations</td>\n",
       "      <td>1</td>\n",
       "      <td>Cyclin dependent kinases  CDKs  regulate varie...</td>\n",
       "    </tr>\n",
       "    <tr>\n",
       "      <th>1</th>\n",
       "      <td>CBL</td>\n",
       "      <td>W802*</td>\n",
       "      <td>2</td>\n",
       "      <td>Abstract Background Non small cell lung cancer...</td>\n",
       "    </tr>\n",
       "    <tr>\n",
       "      <th>2</th>\n",
       "      <td>CBL</td>\n",
       "      <td>Q249E</td>\n",
       "      <td>2</td>\n",
       "      <td>Abstract Background Non small cell lung cancer...</td>\n",
       "    </tr>\n",
       "    <tr>\n",
       "      <th>3</th>\n",
       "      <td>CBL</td>\n",
       "      <td>N454D</td>\n",
       "      <td>3</td>\n",
       "      <td>Recent evidence demonstrated acquired uniparen...</td>\n",
       "    </tr>\n",
       "    <tr>\n",
       "      <th>4</th>\n",
       "      <td>CBL</td>\n",
       "      <td>L399V</td>\n",
       "      <td>4</td>\n",
       "      <td>Oncogenic mutations monomeric Casitas B lineag...</td>\n",
       "    </tr>\n",
       "    <tr>\n",
       "      <th>...</th>\n",
       "      <td>...</td>\n",
       "      <td>...</td>\n",
       "      <td>...</td>\n",
       "      <td>...</td>\n",
       "    </tr>\n",
       "    <tr>\n",
       "      <th>3316</th>\n",
       "      <td>RUNX1</td>\n",
       "      <td>D171N</td>\n",
       "      <td>4</td>\n",
       "      <td>Introduction Myelodysplastic syndromes  MDS  h...</td>\n",
       "    </tr>\n",
       "    <tr>\n",
       "      <th>3317</th>\n",
       "      <td>RUNX1</td>\n",
       "      <td>A122*</td>\n",
       "      <td>1</td>\n",
       "      <td>Introduction Myelodysplastic syndromes  MDS  h...</td>\n",
       "    </tr>\n",
       "    <tr>\n",
       "      <th>3318</th>\n",
       "      <td>RUNX1</td>\n",
       "      <td>Fusions</td>\n",
       "      <td>1</td>\n",
       "      <td>The Runt related transcription factor 1 gene  ...</td>\n",
       "    </tr>\n",
       "    <tr>\n",
       "      <th>3319</th>\n",
       "      <td>RUNX1</td>\n",
       "      <td>R80C</td>\n",
       "      <td>4</td>\n",
       "      <td>The RUNX1 AML1 gene frequent target chromosoma...</td>\n",
       "    </tr>\n",
       "    <tr>\n",
       "      <th>3320</th>\n",
       "      <td>RUNX1</td>\n",
       "      <td>K83E</td>\n",
       "      <td>4</td>\n",
       "      <td>The frequent mutations associated leukemia rec...</td>\n",
       "    </tr>\n",
       "  </tbody>\n",
       "</table>\n",
       "<p>3316 rows × 4 columns</p>\n",
       "</div>"
      ],
      "text/plain": [
       "       Code1                 Code2  Class  \\\n",
       "0     FAM58A  Truncating Mutations      1   \n",
       "1        CBL                 W802*      2   \n",
       "2        CBL                 Q249E      2   \n",
       "3        CBL                 N454D      3   \n",
       "4        CBL                 L399V      4   \n",
       "...      ...                   ...    ...   \n",
       "3316   RUNX1                 D171N      4   \n",
       "3317   RUNX1                 A122*      1   \n",
       "3318   RUNX1               Fusions      1   \n",
       "3319   RUNX1                  R80C      4   \n",
       "3320   RUNX1                  K83E      4   \n",
       "\n",
       "                                                   TEXT  \n",
       "0     Cyclin dependent kinases  CDKs  regulate varie...  \n",
       "1     Abstract Background Non small cell lung cancer...  \n",
       "2     Abstract Background Non small cell lung cancer...  \n",
       "3     Recent evidence demonstrated acquired uniparen...  \n",
       "4     Oncogenic mutations monomeric Casitas B lineag...  \n",
       "...                                                 ...  \n",
       "3316  Introduction Myelodysplastic syndromes  MDS  h...  \n",
       "3317  Introduction Myelodysplastic syndromes  MDS  h...  \n",
       "3318  The Runt related transcription factor 1 gene  ...  \n",
       "3319  The RUNX1 AML1 gene frequent target chromosoma...  \n",
       "3320  The frequent mutations associated leukemia rec...  \n",
       "\n",
       "[3316 rows x 4 columns]"
      ]
     },
     "execution_count": 15,
     "metadata": {},
     "output_type": "execute_result"
    }
   ],
   "source": [
    "df3.TEXT=df3.text_without_stopwords\n",
    "df3.drop([\"text_without_stopwords\",\"ID\"], axis = 1, inplace = True) \n",
    "df3"
   ]
  },
  {
   "cell_type": "code",
   "execution_count": 16,
   "metadata": {},
   "outputs": [
    {
     "data": {
      "text/html": [
       "<div>\n",
       "<style scoped>\n",
       "    .dataframe tbody tr th:only-of-type {\n",
       "        vertical-align: middle;\n",
       "    }\n",
       "\n",
       "    .dataframe tbody tr th {\n",
       "        vertical-align: top;\n",
       "    }\n",
       "\n",
       "    .dataframe thead th {\n",
       "        text-align: right;\n",
       "    }\n",
       "</style>\n",
       "<table border=\"1\" class=\"dataframe\">\n",
       "  <thead>\n",
       "    <tr style=\"text-align: right;\">\n",
       "      <th></th>\n",
       "      <th>Code1</th>\n",
       "      <th>Code2</th>\n",
       "      <th>Class</th>\n",
       "      <th>TEXT</th>\n",
       "    </tr>\n",
       "  </thead>\n",
       "  <tbody>\n",
       "    <tr>\n",
       "      <th>0</th>\n",
       "      <td>FAM58A</td>\n",
       "      <td>Truncating Mutations</td>\n",
       "      <td>1</td>\n",
       "      <td>cyclin dependent kinases  cdks  regulate varie...</td>\n",
       "    </tr>\n",
       "    <tr>\n",
       "      <th>1</th>\n",
       "      <td>CBL</td>\n",
       "      <td>W802*</td>\n",
       "      <td>2</td>\n",
       "      <td>abstract background non small cell lung cancer...</td>\n",
       "    </tr>\n",
       "    <tr>\n",
       "      <th>2</th>\n",
       "      <td>CBL</td>\n",
       "      <td>Q249E</td>\n",
       "      <td>2</td>\n",
       "      <td>abstract background non small cell lung cancer...</td>\n",
       "    </tr>\n",
       "    <tr>\n",
       "      <th>3</th>\n",
       "      <td>CBL</td>\n",
       "      <td>N454D</td>\n",
       "      <td>3</td>\n",
       "      <td>recent evidence demonstrated acquired uniparen...</td>\n",
       "    </tr>\n",
       "    <tr>\n",
       "      <th>4</th>\n",
       "      <td>CBL</td>\n",
       "      <td>L399V</td>\n",
       "      <td>4</td>\n",
       "      <td>oncogenic mutations monomeric casitas b lineag...</td>\n",
       "    </tr>\n",
       "    <tr>\n",
       "      <th>...</th>\n",
       "      <td>...</td>\n",
       "      <td>...</td>\n",
       "      <td>...</td>\n",
       "      <td>...</td>\n",
       "    </tr>\n",
       "    <tr>\n",
       "      <th>3316</th>\n",
       "      <td>RUNX1</td>\n",
       "      <td>D171N</td>\n",
       "      <td>4</td>\n",
       "      <td>introduction myelodysplastic syndromes  mds  h...</td>\n",
       "    </tr>\n",
       "    <tr>\n",
       "      <th>3317</th>\n",
       "      <td>RUNX1</td>\n",
       "      <td>A122*</td>\n",
       "      <td>1</td>\n",
       "      <td>introduction myelodysplastic syndromes  mds  h...</td>\n",
       "    </tr>\n",
       "    <tr>\n",
       "      <th>3318</th>\n",
       "      <td>RUNX1</td>\n",
       "      <td>Fusions</td>\n",
       "      <td>1</td>\n",
       "      <td>the runt related transcription factor 1 gene  ...</td>\n",
       "    </tr>\n",
       "    <tr>\n",
       "      <th>3319</th>\n",
       "      <td>RUNX1</td>\n",
       "      <td>R80C</td>\n",
       "      <td>4</td>\n",
       "      <td>the runx1 aml1 gene frequent target chromosoma...</td>\n",
       "    </tr>\n",
       "    <tr>\n",
       "      <th>3320</th>\n",
       "      <td>RUNX1</td>\n",
       "      <td>K83E</td>\n",
       "      <td>4</td>\n",
       "      <td>the frequent mutations associated leukemia rec...</td>\n",
       "    </tr>\n",
       "  </tbody>\n",
       "</table>\n",
       "<p>3316 rows × 4 columns</p>\n",
       "</div>"
      ],
      "text/plain": [
       "       Code1                 Code2  Class  \\\n",
       "0     FAM58A  Truncating Mutations      1   \n",
       "1        CBL                 W802*      2   \n",
       "2        CBL                 Q249E      2   \n",
       "3        CBL                 N454D      3   \n",
       "4        CBL                 L399V      4   \n",
       "...      ...                   ...    ...   \n",
       "3316   RUNX1                 D171N      4   \n",
       "3317   RUNX1                 A122*      1   \n",
       "3318   RUNX1               Fusions      1   \n",
       "3319   RUNX1                  R80C      4   \n",
       "3320   RUNX1                  K83E      4   \n",
       "\n",
       "                                                   TEXT  \n",
       "0     cyclin dependent kinases  cdks  regulate varie...  \n",
       "1     abstract background non small cell lung cancer...  \n",
       "2     abstract background non small cell lung cancer...  \n",
       "3     recent evidence demonstrated acquired uniparen...  \n",
       "4     oncogenic mutations monomeric casitas b lineag...  \n",
       "...                                                 ...  \n",
       "3316  introduction myelodysplastic syndromes  mds  h...  \n",
       "3317  introduction myelodysplastic syndromes  mds  h...  \n",
       "3318  the runt related transcription factor 1 gene  ...  \n",
       "3319  the runx1 aml1 gene frequent target chromosoma...  \n",
       "3320  the frequent mutations associated leukemia rec...  \n",
       "\n",
       "[3316 rows x 4 columns]"
      ]
     },
     "execution_count": 16,
     "metadata": {},
     "output_type": "execute_result"
    }
   ],
   "source": [
    "df3.TEXT=df3.TEXT.str.lower()\n",
    "df3"
   ]
  },
  {
   "cell_type": "markdown",
   "metadata": {
    "id": "iyE4w_CKtpPE"
   },
   "source": [
    "# Question 3: Split your data into training data, validation data and testing data"
   ]
  },
  {
   "cell_type": "code",
   "execution_count": 17,
   "metadata": {},
   "outputs": [
    {
     "data": {
      "text/html": [
       "<div>\n",
       "<style scoped>\n",
       "    .dataframe tbody tr th:only-of-type {\n",
       "        vertical-align: middle;\n",
       "    }\n",
       "\n",
       "    .dataframe tbody tr th {\n",
       "        vertical-align: top;\n",
       "    }\n",
       "\n",
       "    .dataframe thead th {\n",
       "        text-align: right;\n",
       "    }\n",
       "</style>\n",
       "<table border=\"1\" class=\"dataframe\">\n",
       "  <thead>\n",
       "    <tr style=\"text-align: right;\">\n",
       "      <th></th>\n",
       "      <th>Code1</th>\n",
       "      <th>Code2</th>\n",
       "      <th>TEXT</th>\n",
       "      <th>Class</th>\n",
       "    </tr>\n",
       "  </thead>\n",
       "  <tbody>\n",
       "    <tr>\n",
       "      <th>0</th>\n",
       "      <td>FAM58A</td>\n",
       "      <td>Truncating Mutations</td>\n",
       "      <td>cyclin dependent kinases  cdks  regulate varie...</td>\n",
       "      <td>1</td>\n",
       "    </tr>\n",
       "    <tr>\n",
       "      <th>1</th>\n",
       "      <td>CBL</td>\n",
       "      <td>W802*</td>\n",
       "      <td>abstract background non small cell lung cancer...</td>\n",
       "      <td>2</td>\n",
       "    </tr>\n",
       "    <tr>\n",
       "      <th>2</th>\n",
       "      <td>CBL</td>\n",
       "      <td>Q249E</td>\n",
       "      <td>abstract background non small cell lung cancer...</td>\n",
       "      <td>2</td>\n",
       "    </tr>\n",
       "    <tr>\n",
       "      <th>3</th>\n",
       "      <td>CBL</td>\n",
       "      <td>N454D</td>\n",
       "      <td>recent evidence demonstrated acquired uniparen...</td>\n",
       "      <td>3</td>\n",
       "    </tr>\n",
       "    <tr>\n",
       "      <th>4</th>\n",
       "      <td>CBL</td>\n",
       "      <td>L399V</td>\n",
       "      <td>oncogenic mutations monomeric casitas b lineag...</td>\n",
       "      <td>4</td>\n",
       "    </tr>\n",
       "  </tbody>\n",
       "</table>\n",
       "</div>"
      ],
      "text/plain": [
       "    Code1                 Code2  \\\n",
       "0  FAM58A  Truncating Mutations   \n",
       "1     CBL                 W802*   \n",
       "2     CBL                 Q249E   \n",
       "3     CBL                 N454D   \n",
       "4     CBL                 L399V   \n",
       "\n",
       "                                                TEXT  Class  \n",
       "0  cyclin dependent kinases  cdks  regulate varie...      1  \n",
       "1  abstract background non small cell lung cancer...      2  \n",
       "2  abstract background non small cell lung cancer...      2  \n",
       "3  recent evidence demonstrated acquired uniparen...      3  \n",
       "4  oncogenic mutations monomeric casitas b lineag...      4  "
      ]
     },
     "execution_count": 17,
     "metadata": {},
     "output_type": "execute_result"
    }
   ],
   "source": [
    "col_name=\"Class\"\n",
    "first_col = df3.pop(col_name)\n",
    "df3.insert(3, col_name, first_col)\n",
    "df3.head()"
   ]
  },
  {
   "cell_type": "code",
   "execution_count": 18,
   "metadata": {},
   "outputs": [],
   "source": [
    "X=df3.iloc[:,:3]\n",
    "y=df3.iloc[:,3]"
   ]
  },
  {
   "cell_type": "markdown",
   "metadata": {},
   "source": [
    "### 60% - training ,20%-validaation , 20%-test "
   ]
  },
  {
   "cell_type": "code",
   "execution_count": 19,
   "metadata": {},
   "outputs": [],
   "source": [
    "X_temp, X_test, y_temp, y_test = train_test_split(X, y, test_size=0.2, random_state=1111)"
   ]
  },
  {
   "cell_type": "code",
   "execution_count": 20,
   "metadata": {},
   "outputs": [
    {
     "name": "stdout",
     "output_type": "stream",
     "text": [
      "(1989, 3)\n",
      "(664, 3)\n",
      "(663, 3)\n",
      "(1989,)\n",
      "(664,)\n",
      "(663,)\n"
     ]
    }
   ],
   "source": [
    "X_train, X_val, y_train, y_val = train_test_split(X_temp, y_temp ,test_size=0.25, random_state=1111)\n",
    "print(X_train.shape)\n",
    "print(X_test.shape)\n",
    "print(X_val.shape)\n",
    "print(y_train.shape)\n",
    "print(y_test.shape)\n",
    "print(y_val.shape)"
   ]
  },
  {
   "cell_type": "markdown",
   "metadata": {
    "id": "C9GnIthovkeX"
   },
   "source": [
    "# Question 4: Calculate log loss on random prob. generated for cv data and actual prob of cv."
   ]
  },
  {
   "cell_type": "code",
   "execution_count": 23,
   "metadata": {},
   "outputs": [
    {
     "data": {
      "text/html": [
       "<div>\n",
       "<style scoped>\n",
       "    .dataframe tbody tr th:only-of-type {\n",
       "        vertical-align: middle;\n",
       "    }\n",
       "\n",
       "    .dataframe tbody tr th {\n",
       "        vertical-align: top;\n",
       "    }\n",
       "\n",
       "    .dataframe thead th {\n",
       "        text-align: right;\n",
       "    }\n",
       "</style>\n",
       "<table border=\"1\" class=\"dataframe\">\n",
       "  <thead>\n",
       "    <tr style=\"text-align: right;\">\n",
       "      <th></th>\n",
       "      <th>0</th>\n",
       "      <th>1</th>\n",
       "      <th>2</th>\n",
       "      <th>3</th>\n",
       "    </tr>\n",
       "  </thead>\n",
       "  <tbody>\n",
       "    <tr>\n",
       "      <th>0</th>\n",
       "      <td>84.0</td>\n",
       "      <td>2626.0</td>\n",
       "      <td>479.0</td>\n",
       "      <td>0.0</td>\n",
       "    </tr>\n",
       "    <tr>\n",
       "      <th>1</th>\n",
       "      <td>38.0</td>\n",
       "      <td>2853.0</td>\n",
       "      <td>48.0</td>\n",
       "      <td>1.0</td>\n",
       "    </tr>\n",
       "    <tr>\n",
       "      <th>2</th>\n",
       "      <td>38.0</td>\n",
       "      <td>1895.0</td>\n",
       "      <td>48.0</td>\n",
       "      <td>1.0</td>\n",
       "    </tr>\n",
       "    <tr>\n",
       "      <th>3</th>\n",
       "      <td>38.0</td>\n",
       "      <td>1665.0</td>\n",
       "      <td>1299.0</td>\n",
       "      <td>2.0</td>\n",
       "    </tr>\n",
       "    <tr>\n",
       "      <th>4</th>\n",
       "      <td>38.0</td>\n",
       "      <td>1445.0</td>\n",
       "      <td>1153.0</td>\n",
       "      <td>3.0</td>\n",
       "    </tr>\n",
       "    <tr>\n",
       "      <th>...</th>\n",
       "      <td>...</td>\n",
       "      <td>...</td>\n",
       "      <td>...</td>\n",
       "      <td>...</td>\n",
       "    </tr>\n",
       "    <tr>\n",
       "      <th>3311</th>\n",
       "      <td>219.0</td>\n",
       "      <td>306.0</td>\n",
       "      <td>843.0</td>\n",
       "      <td>3.0</td>\n",
       "    </tr>\n",
       "    <tr>\n",
       "      <th>3312</th>\n",
       "      <td>219.0</td>\n",
       "      <td>28.0</td>\n",
       "      <td>841.0</td>\n",
       "      <td>0.0</td>\n",
       "    </tr>\n",
       "    <tr>\n",
       "      <th>3313</th>\n",
       "      <td>219.0</td>\n",
       "      <td>807.0</td>\n",
       "      <td>1670.0</td>\n",
       "      <td>0.0</td>\n",
       "    </tr>\n",
       "    <tr>\n",
       "      <th>3314</th>\n",
       "      <td>219.0</td>\n",
       "      <td>2247.0</td>\n",
       "      <td>1673.0</td>\n",
       "      <td>3.0</td>\n",
       "    </tr>\n",
       "    <tr>\n",
       "      <th>3315</th>\n",
       "      <td>219.0</td>\n",
       "      <td>1331.0</td>\n",
       "      <td>1521.0</td>\n",
       "      <td>3.0</td>\n",
       "    </tr>\n",
       "  </tbody>\n",
       "</table>\n",
       "<p>3316 rows × 4 columns</p>\n",
       "</div>"
      ],
      "text/plain": [
       "          0       1       2    3\n",
       "0      84.0  2626.0   479.0  0.0\n",
       "1      38.0  2853.0    48.0  1.0\n",
       "2      38.0  1895.0    48.0  1.0\n",
       "3      38.0  1665.0  1299.0  2.0\n",
       "4      38.0  1445.0  1153.0  3.0\n",
       "...     ...     ...     ...  ...\n",
       "3311  219.0   306.0   843.0  3.0\n",
       "3312  219.0    28.0   841.0  0.0\n",
       "3313  219.0   807.0  1670.0  0.0\n",
       "3314  219.0  2247.0  1673.0  3.0\n",
       "3315  219.0  1331.0  1521.0  3.0\n",
       "\n",
       "[3316 rows x 4 columns]"
      ]
     },
     "execution_count": 23,
     "metadata": {},
     "output_type": "execute_result"
    }
   ],
   "source": [
    "from sklearn.preprocessing import OrdinalEncoder\n",
    "# define ordinal encoding\n",
    "encoder = OrdinalEncoder()\n",
    "# transform data\n",
    "data_enc = encoder.fit_transform(df3)\n",
    "data_enc=pd.DataFrame(data_enc)\n",
    "data_enc"
   ]
  },
  {
   "cell_type": "code",
   "execution_count": 28,
   "metadata": {},
   "outputs": [],
   "source": [
    "X=data_enc.iloc[:,:3]\n",
    "y=data_enc.iloc[:,3]"
   ]
  },
  {
   "cell_type": "code",
   "execution_count": 29,
   "metadata": {},
   "outputs": [],
   "source": [
    "X_temp, X_test, y_temp, y_test = train_test_split(X, y, test_size=0.2, random_state=1111)"
   ]
  },
  {
   "cell_type": "code",
   "execution_count": 30,
   "metadata": {},
   "outputs": [],
   "source": [
    "X_train, X_val, y_train, y_val = train_test_split(X_temp, y_temp ,test_size=0.25, random_state=1111)"
   ]
  },
  {
   "cell_type": "code",
   "execution_count": 32,
   "metadata": {},
   "outputs": [],
   "source": [
    "from sklearn.model_selection import cross_val_score"
   ]
  },
  {
   "cell_type": "code",
   "execution_count": 33,
   "metadata": {},
   "outputs": [
    {
     "data": {
      "text/plain": [
       "array([0.08484779, 0.08094087, 0.08834808, 0.10165126, 0.07627765])"
      ]
     },
     "execution_count": 33,
     "metadata": {},
     "output_type": "execute_result"
    }
   ],
   "source": [
    "from sklearn.naive_bayes import MultinomialNB\n",
    "clf = MultinomialNB()\n",
    "clf.fit(X_train, y_train)\n",
    "scores = cross_val_score(clf, X, y, cv=5, scoring='f1_macro')\n",
    "scores"
   ]
  },
  {
   "cell_type": "code",
   "execution_count": 36,
   "metadata": {},
   "outputs": [],
   "source": [
    "calibrator = CalibratedClassifierCV(clf, cv=3)\n",
    "calibrator.fit(X_train, y_train)\n",
    "# evaluate the model\n",
    "yhat = calibrator.predict(X_val)"
   ]
  },
  {
   "cell_type": "code",
   "execution_count": 37,
   "metadata": {},
   "outputs": [],
   "source": [
    "#print metrics function\n",
    "from sklearn import preprocessing\n",
    "from sklearn.model_selection import cross_val_score, cross_val_predict\n",
    "from sklearn.metrics import accuracy_score, classification_report\n",
    "from sklearn.metrics import confusion_matrix, roc_auc_score\n",
    "def print_score(clf, X_train, X_test, y_train, y_test, train=True):\n",
    "    '''\n",
    "    v0.1 Follow the scikit learn library format in terms of input\n",
    "    print the accuracy score, classification report and confusion matrix of classifier\n",
    "    '''\n",
    "    lb = preprocessing.LabelBinarizer()\n",
    "    lb.fit(y_train)\n",
    "    if train:\n",
    "        '''\n",
    "        training performance\n",
    "        '''\n",
    "        res = clf.predict(X_train)\n",
    "        print(\"Train Result:\\n\")\n",
    "        print(\"accuracy score: {0:.4f}\\n\".format(accuracy_score(y_train, \n",
    "                                                                res)))\n",
    "        print(\"Classification Report: \\n {}\\n\".format(classification_report(y_train, \n",
    "                                                                            res)))\n",
    "        print(\"Confusion Matrix: \\n {}\\n\".format(confusion_matrix(y_train, \n",
    "                                                                  res)))\n",
    "        print(\"ROC AUC: {0:.4f}\\n\".format(roc_auc_score(lb.transform(y_train), \n",
    "                                                      lb.transform(res))))\n",
    "\n",
    "        res = cross_val_score(clf, X_train, y_train, cv=10, scoring='accuracy')\n",
    "        print(\"Average Accuracy: \\t {0:.4f}\".format(np.mean(res)))\n",
    "        print(\"Accuracy SD: \\t\\t {0:.4f}\".format(np.std(res)))\n",
    "        \n",
    "    elif train==False:\n",
    "        '''\n",
    "        test performance\n",
    "        '''\n",
    "        res_test = clf.predict(X_test)\n",
    "        print(\"Test Result:\\n\")        \n",
    "        print(\"accuracy score: {0:.4f}\\n\".format(accuracy_score(y_test, \n",
    "                                                                res_test)))\n",
    "        print(\"Classification Report: \\n {}\\n\".format(classification_report(y_test, \n",
    "                                                                            res_test)))\n",
    "        print(\"Confusion Matrix: \\n {}\\n\".format(confusion_matrix(y_test, \n",
    "                                                                  res_test)))   \n",
    "        print(\"ROC AUC: {0:.4f}\\n\".format(roc_auc_score(lb.transform(y_test), \n",
    "                                                      lb.transform(res_test))))"
   ]
  },
  {
   "cell_type": "code",
   "execution_count": 38,
   "metadata": {},
   "outputs": [
    {
     "name": "stdout",
     "output_type": "stream",
     "text": [
      "Train Result:\n",
      "\n",
      "accuracy score: 0.2946\n",
      "\n",
      "Classification Report: \n",
      "               precision    recall  f1-score   support\n",
      "\n",
      "         0.0       0.00      0.00      0.00       357\n",
      "         1.0       0.00      0.00      0.00       252\n",
      "         2.0       0.00      0.00      0.00        55\n",
      "         3.0       0.33      0.04      0.06       400\n",
      "         4.0       0.00      0.00      0.00       140\n",
      "         5.0       0.00      0.00      0.00       180\n",
      "         6.0       0.29      1.00      0.45       574\n",
      "         7.0       0.00      0.00      0.00        10\n",
      "         8.0       0.00      0.00      0.00        21\n",
      "\n",
      "    accuracy                           0.29      1989\n",
      "   macro avg       0.07      0.11      0.06      1989\n",
      "weighted avg       0.15      0.29      0.14      1989\n",
      "\n",
      "\n",
      "Confusion Matrix: \n",
      " [[  0   0   0  10   0   0 347   0   0]\n",
      " [  0   0   0   5   0   0 247   0   0]\n",
      " [  0   0   0   0   0   0  55   0   0]\n",
      " [  0   0   0  14   0   0 386   0   0]\n",
      " [  0   0   0   3   0   0 137   0   0]\n",
      " [  0   0   0   4   0   0 176   0   0]\n",
      " [  0   0   0   2   0   0 572   0   0]\n",
      " [  0   0   0   0   0   0  10   0   0]\n",
      " [  0   0   0   4   0   0  17   0   0]]\n",
      "\n",
      "ROC AUC: 0.5023\n",
      "\n",
      "Average Accuracy: \t 0.2916\n",
      "Accuracy SD: \t\t 0.0072\n",
      "Test Result:\n",
      "\n",
      "accuracy score: 0.2982\n",
      "\n",
      "Classification Report: \n",
      "               precision    recall  f1-score   support\n",
      "\n",
      "         0.0       0.00      0.00      0.00       110\n",
      "         1.0       0.00      0.00      0.00        89\n",
      "         2.0       0.00      0.00      0.00        18\n",
      "         3.0       0.50      0.04      0.07       137\n",
      "         4.0       0.00      0.00      0.00        51\n",
      "         5.0       0.00      0.00      0.00        49\n",
      "         6.0       0.30      0.99      0.45       195\n",
      "         7.0       0.00      0.00      0.00         5\n",
      "         8.0       0.00      0.00      0.00        10\n",
      "\n",
      "    accuracy                           0.30       664\n",
      "   macro avg       0.09      0.11      0.06       664\n",
      "weighted avg       0.19      0.30      0.15       664\n",
      "\n",
      "\n",
      "Confusion Matrix: \n",
      " [[  0   0   0   1   0   0 109   0   0]\n",
      " [  0   0   0   1   0   0  88   0   0]\n",
      " [  0   0   0   0   0   0  18   0   0]\n",
      " [  0   0   0   5   0   0 132   0   0]\n",
      " [  0   0   0   1   0   0  50   0   0]\n",
      " [  0   0   0   0   0   0  49   0   0]\n",
      " [  0   0   0   2   0   0 193   0   0]\n",
      " [  0   0   0   0   0   0   5   0   0]\n",
      " [  0   0   0   0   0   0  10   0   0]]\n",
      "\n",
      "ROC AUC: 0.5019\n",
      "\n"
     ]
    }
   ],
   "source": [
    "print_score(calibrator, X_train, X_test, y_train, y_test, train=True)\n",
    "print_score(calibrator, X_train, X_test, y_train, y_test, train=False)"
   ]
  },
  {
   "cell_type": "markdown",
   "metadata": {
    "id": "qKYQjV0JwATB"
   },
   "source": [
    "# Question 5: Identify the predicted class from probability mass distribution of each row"
   ]
  },
  {
   "cell_type": "markdown",
   "metadata": {
    "id": "PCV-3ozOwMVa"
   },
   "source": [
    "# Question 6: Visualize confusion matrix of Random Model using heat map."
   ]
  },
  {
   "cell_type": "code",
   "execution_count": 42,
   "metadata": {},
   "outputs": [],
   "source": [
    "clf=RandomForestClassifier(n_estimators = 500, random_state = 0)\n",
    "clf.fit(X_train,y_train)\n",
    "from sklearn.model_selection import cross_val_predict\n",
    "y_train_pred = cross_val_predict(clf, X_train, y_train, cv=3)"
   ]
  },
  {
   "cell_type": "code",
   "execution_count": 43,
   "metadata": {},
   "outputs": [
    {
     "data": {
      "text/plain": [
       "array([[189,   8,   2,  69,  27,  17,  43,   0,   2],\n",
       "       [ 13,  77,   1,  14,   6,   2, 139,   0,   0],\n",
       "       [  6,   1,  10,  11,   3,   4,  20,   0,   0],\n",
       "       [ 77,  13,  11, 242,  12,   7,  35,   0,   3],\n",
       "       [ 31,   6,   1,  21,  41,  11,  29,   0,   0],\n",
       "       [ 20,   7,   0,  16,  10,  92,  35,   0,   0],\n",
       "       [ 20,  63,   9,  30,   7,   7, 437,   0,   1],\n",
       "       [  1,   0,   0,   2,   0,   0,   3,   3,   1],\n",
       "       [  2,   0,   0,   4,   0,   0,   3,   1,  11]], dtype=int64)"
      ]
     },
     "execution_count": 43,
     "metadata": {},
     "output_type": "execute_result"
    }
   ],
   "source": [
    "from sklearn.metrics import confusion_matrix\n",
    "confusion_matrix(y_train, y_train_pred)"
   ]
  },
  {
   "cell_type": "code",
   "execution_count": 47,
   "metadata": {},
   "outputs": [
    {
     "data": {
      "text/html": [
       "<div>\n",
       "<style scoped>\n",
       "    .dataframe tbody tr th:only-of-type {\n",
       "        vertical-align: middle;\n",
       "    }\n",
       "\n",
       "    .dataframe tbody tr th {\n",
       "        vertical-align: top;\n",
       "    }\n",
       "\n",
       "    .dataframe thead th {\n",
       "        text-align: right;\n",
       "    }\n",
       "</style>\n",
       "<table border=\"1\" class=\"dataframe\">\n",
       "  <thead>\n",
       "    <tr style=\"text-align: right;\">\n",
       "      <th></th>\n",
       "      <th>0</th>\n",
       "      <th>1</th>\n",
       "      <th>2</th>\n",
       "      <th>3</th>\n",
       "      <th>4</th>\n",
       "      <th>5</th>\n",
       "      <th>6</th>\n",
       "      <th>7</th>\n",
       "      <th>8</th>\n",
       "    </tr>\n",
       "  </thead>\n",
       "  <tbody>\n",
       "    <tr>\n",
       "      <th>0</th>\n",
       "      <td>1.000000</td>\n",
       "      <td>-0.132663</td>\n",
       "      <td>0.066607</td>\n",
       "      <td>0.464828</td>\n",
       "      <td>0.528887</td>\n",
       "      <td>0.038114</td>\n",
       "      <td>-0.097850</td>\n",
       "      <td>-0.314883</td>\n",
       "      <td>-0.038557</td>\n",
       "    </tr>\n",
       "    <tr>\n",
       "      <th>1</th>\n",
       "      <td>-0.132663</td>\n",
       "      <td>1.000000</td>\n",
       "      <td>0.142739</td>\n",
       "      <td>-0.058192</td>\n",
       "      <td>-0.146127</td>\n",
       "      <td>-0.174080</td>\n",
       "      <td>0.771045</td>\n",
       "      <td>-0.328589</td>\n",
       "      <td>-0.281048</td>\n",
       "    </tr>\n",
       "    <tr>\n",
       "      <th>2</th>\n",
       "      <td>0.066607</td>\n",
       "      <td>0.142739</td>\n",
       "      <td>1.000000</td>\n",
       "      <td>0.576845</td>\n",
       "      <td>-0.143467</td>\n",
       "      <td>-0.272923</td>\n",
       "      <td>0.372569</td>\n",
       "      <td>-0.393280</td>\n",
       "      <td>-0.164181</td>\n",
       "    </tr>\n",
       "    <tr>\n",
       "      <th>3</th>\n",
       "      <td>0.464828</td>\n",
       "      <td>-0.058192</td>\n",
       "      <td>0.576845</td>\n",
       "      <td>1.000000</td>\n",
       "      <td>0.155141</td>\n",
       "      <td>-0.084684</td>\n",
       "      <td>-0.069641</td>\n",
       "      <td>-0.277296</td>\n",
       "      <td>0.056472</td>\n",
       "    </tr>\n",
       "    <tr>\n",
       "      <th>4</th>\n",
       "      <td>0.528887</td>\n",
       "      <td>-0.146127</td>\n",
       "      <td>-0.143467</td>\n",
       "      <td>0.155141</td>\n",
       "      <td>1.000000</td>\n",
       "      <td>0.105772</td>\n",
       "      <td>-0.111064</td>\n",
       "      <td>-0.424275</td>\n",
       "      <td>-0.296973</td>\n",
       "    </tr>\n",
       "    <tr>\n",
       "      <th>5</th>\n",
       "      <td>0.038114</td>\n",
       "      <td>-0.174080</td>\n",
       "      <td>-0.272923</td>\n",
       "      <td>-0.084684</td>\n",
       "      <td>0.105772</td>\n",
       "      <td>1.000000</td>\n",
       "      <td>-0.112281</td>\n",
       "      <td>-0.262871</td>\n",
       "      <td>-0.264088</td>\n",
       "    </tr>\n",
       "    <tr>\n",
       "      <th>6</th>\n",
       "      <td>-0.097850</td>\n",
       "      <td>0.771045</td>\n",
       "      <td>0.372569</td>\n",
       "      <td>-0.069641</td>\n",
       "      <td>-0.111064</td>\n",
       "      <td>-0.112281</td>\n",
       "      <td>1.000000</td>\n",
       "      <td>-0.282877</td>\n",
       "      <td>-0.209741</td>\n",
       "    </tr>\n",
       "    <tr>\n",
       "      <th>7</th>\n",
       "      <td>-0.314883</td>\n",
       "      <td>-0.328589</td>\n",
       "      <td>-0.393280</td>\n",
       "      <td>-0.277296</td>\n",
       "      <td>-0.424275</td>\n",
       "      <td>-0.262871</td>\n",
       "      <td>-0.282877</td>\n",
       "      <td>1.000000</td>\n",
       "      <td>0.209246</td>\n",
       "    </tr>\n",
       "    <tr>\n",
       "      <th>8</th>\n",
       "      <td>-0.038557</td>\n",
       "      <td>-0.281048</td>\n",
       "      <td>-0.164181</td>\n",
       "      <td>0.056472</td>\n",
       "      <td>-0.296973</td>\n",
       "      <td>-0.264088</td>\n",
       "      <td>-0.209741</td>\n",
       "      <td>0.209246</td>\n",
       "      <td>1.000000</td>\n",
       "    </tr>\n",
       "  </tbody>\n",
       "</table>\n",
       "</div>"
      ],
      "text/plain": [
       "          0         1         2         3         4         5         6  \\\n",
       "0  1.000000 -0.132663  0.066607  0.464828  0.528887  0.038114 -0.097850   \n",
       "1 -0.132663  1.000000  0.142739 -0.058192 -0.146127 -0.174080  0.771045   \n",
       "2  0.066607  0.142739  1.000000  0.576845 -0.143467 -0.272923  0.372569   \n",
       "3  0.464828 -0.058192  0.576845  1.000000  0.155141 -0.084684 -0.069641   \n",
       "4  0.528887 -0.146127 -0.143467  0.155141  1.000000  0.105772 -0.111064   \n",
       "5  0.038114 -0.174080 -0.272923 -0.084684  0.105772  1.000000 -0.112281   \n",
       "6 -0.097850  0.771045  0.372569 -0.069641 -0.111064 -0.112281  1.000000   \n",
       "7 -0.314883 -0.328589 -0.393280 -0.277296 -0.424275 -0.262871 -0.282877   \n",
       "8 -0.038557 -0.281048 -0.164181  0.056472 -0.296973 -0.264088 -0.209741   \n",
       "\n",
       "          7         8  \n",
       "0 -0.314883 -0.038557  \n",
       "1 -0.328589 -0.281048  \n",
       "2 -0.393280 -0.164181  \n",
       "3 -0.277296  0.056472  \n",
       "4 -0.424275 -0.296973  \n",
       "5 -0.262871 -0.264088  \n",
       "6 -0.282877 -0.209741  \n",
       "7  1.000000  0.209246  \n",
       "8  0.209246  1.000000  "
      ]
     },
     "execution_count": 47,
     "metadata": {},
     "output_type": "execute_result"
    }
   ],
   "source": [
    "mat=confusion_matrix(y_train, y_train_pred)\n",
    "mat=pd.DataFrame(mat)\n",
    "mat.corr()"
   ]
  },
  {
   "cell_type": "code",
   "execution_count": 48,
   "metadata": {},
   "outputs": [
    {
     "data": {
      "image/png": "[encoded data removed]",
      "text/plain": [
       "<Figure size 432x288 with 2 Axes>"
      ]
     },
     "metadata": {
      "needs_background": "light"
     },
     "output_type": "display_data"
    }
   ],
   "source": [
    "sns.heatmap(mat.corr(), annot=True)\n",
    "plt.show()"
   ]
  },
  {
   "cell_type": "code",
   "execution_count": null,
   "metadata": {},
   "outputs": [],
   "source": []
  },
  {
   "cell_type": "markdown",
   "metadata": {
    "id": "OAhOjsuxwaXM"
   },
   "source": [
    "# Question 7: Are all columns important for class prediction?\n",
    "\n",
    "## Hint: \n",
    "\n",
    "## For code1 column\n",
    "\n",
    "* Pre-step: Apply one hot encoding using countvectorizer()\n",
    "\n",
    "* A. use \"SGD Classifier\" with loss=log. Also, use CalibratedClassifierCV() with method=sigmoid to get the probabilities. \n",
    "\n",
    "* B. Apply fit() on one hot encoded traininig data of code 1 feature  and predict_proba on one hot encoded cross validation data of gene feature.\n",
    "\n",
    "* C. Do the above process for multiple alphas and identify the best alpha with least log loss\n",
    "\n",
    "\n",
    "* D. Take the best alpha value and run above A and B steps and check whether log loss is less than random log loss. If yes, then genemic feature is useful in preciting the class."
   ]
  },
  {
   "cell_type": "code",
   "execution_count": 39,
   "metadata": {},
   "outputs": [
    {
     "data": {
      "image/png": "[encoded data removed]",
      "text/plain": [
       "<Figure size 720x864 with 1 Axes>"
      ]
     },
     "metadata": {
      "needs_background": "light"
     },
     "output_type": "display_data"
    }
   ],
   "source": [
    "clf=RandomForestClassifier(n_estimators = 500, random_state = 0)\n",
    "clf.fit(X_train,y_train)\n",
    "features = X_train.columns\n",
    "importances = clf.feature_importances_\n",
    "indices = (np.argsort(importances))[-25:]\n",
    "plt.figure(figsize=(10,12))\n",
    "plt.title('Feature Importances')\n",
    "plt.barh(range(len(indices)), importances[indices], color='r', align='center')\n",
    "plt.yticks(range(len(indices)), [features[i] for i in indices])\n",
    "plt.xlabel('Relative Importance')\n",
    "plt.show()"
   ]
  },
  {
   "cell_type": "code",
   "execution_count": null,
   "metadata": {},
   "outputs": [],
   "source": [
    "from sklearn.feature_extraction.text import CountVectorizer\\\n",
    "# create the transform\n",
    "vectorizer = CountVectorizer()\n",
    "# tokenize and build vocab\n",
    "vectorizer.fit(df3.TEXT)\n"
   ]
  },
  {
   "cell_type": "code",
   "execution_count": null,
   "metadata": {},
   "outputs": [],
   "source": [
    "from sklearn.preprocessing import OneHotEncoder# creating instance of one-hot-encoder\n",
    "enc = OneHotEncoder(handle_unknown='ignore')\n",
    "enc_df = pd.DataFrame(enc.fit_transform(df3).toarray())\n",
    "enc_df"
   ]
  },
  {
   "cell_type": "markdown",
   "metadata": {
    "id": "7SCa3JIo11po"
   },
   "source": [
    "# Question 8: Apply the same steps for \"code2\" column and identify whether it is important or not w.r.t to class label."
   ]
  },
  {
   "cell_type": "markdown",
   "metadata": {
    "id": "qFQRrvB22tD7"
   },
   "source": [
    "# Question 9: Apply the same steps for \"Text\" Column and identify whether it is important or not.\n",
    "\n",
    "* Hint: Perform one hot encoding of only words with frequency min=3. USe countvectorizer() for one hot encoding."
   ]
  },
  {
   "cell_type": "code",
   "execution_count": 53,
   "metadata": {},
   "outputs": [
    {
     "data": {
      "text/plain": [
       "CountVectorizer()"
      ]
     },
     "execution_count": 53,
     "metadata": {},
     "output_type": "execute_result"
    }
   ],
   "source": [
    "from sklearn.feature_extraction.text import CountVectorizer\n",
    "# create the transform\n",
    "vectorizer = CountVectorizer()\n",
    "# tokenize and build vocab\n",
    "vectorizer.fit(df3.TEXT)"
   ]
  },
  {
   "cell_type": "code",
   "execution_count": 87,
   "metadata": {},
   "outputs": [
    {
     "data": {
      "text/plain": [
       "0        479\n",
       "1         48\n",
       "2         48\n",
       "3       1299\n",
       "4       1153\n",
       "        ... \n",
       "3316     843\n",
       "3317     841\n",
       "3318    1670\n",
       "3319    1673\n",
       "3320    1521\n",
       "Name: TEXT, Length: 3316, dtype: int32"
      ]
     },
     "execution_count": 87,
     "metadata": {},
     "output_type": "execute_result"
    }
   ],
   "source": [
    "df3.TEXT"
   ]
  },
  {
   "cell_type": "markdown",
   "metadata": {
    "id": "cu_jY_8P4VEr"
   },
   "source": [
    "# Question 10: All One hot encoding columns, should be merged if you have done individually. Otherwise, directly print the entire dataset in one hot encoded format except the ID column."
   ]
  },
  {
   "cell_type": "code",
   "execution_count": 54,
   "metadata": {},
   "outputs": [
    {
     "data": {
      "text/html": [
       "<div>\n",
       "<style scoped>\n",
       "    .dataframe tbody tr th:only-of-type {\n",
       "        vertical-align: middle;\n",
       "    }\n",
       "\n",
       "    .dataframe tbody tr th {\n",
       "        vertical-align: top;\n",
       "    }\n",
       "\n",
       "    .dataframe thead th {\n",
       "        text-align: right;\n",
       "    }\n",
       "</style>\n",
       "<table border=\"1\" class=\"dataframe\">\n",
       "  <thead>\n",
       "    <tr style=\"text-align: right;\">\n",
       "      <th></th>\n",
       "      <th>Code1</th>\n",
       "      <th>Code2</th>\n",
       "      <th>TEXT</th>\n",
       "      <th>Class</th>\n",
       "    </tr>\n",
       "  </thead>\n",
       "  <tbody>\n",
       "    <tr>\n",
       "      <th>0</th>\n",
       "      <td>FAM58A</td>\n",
       "      <td>Truncating Mutations</td>\n",
       "      <td>cyclin dependent kinases  cdks  regulate varie...</td>\n",
       "      <td>1</td>\n",
       "    </tr>\n",
       "    <tr>\n",
       "      <th>1</th>\n",
       "      <td>CBL</td>\n",
       "      <td>W802*</td>\n",
       "      <td>abstract background non small cell lung cancer...</td>\n",
       "      <td>2</td>\n",
       "    </tr>\n",
       "    <tr>\n",
       "      <th>2</th>\n",
       "      <td>CBL</td>\n",
       "      <td>Q249E</td>\n",
       "      <td>abstract background non small cell lung cancer...</td>\n",
       "      <td>2</td>\n",
       "    </tr>\n",
       "    <tr>\n",
       "      <th>3</th>\n",
       "      <td>CBL</td>\n",
       "      <td>N454D</td>\n",
       "      <td>recent evidence demonstrated acquired uniparen...</td>\n",
       "      <td>3</td>\n",
       "    </tr>\n",
       "    <tr>\n",
       "      <th>4</th>\n",
       "      <td>CBL</td>\n",
       "      <td>L399V</td>\n",
       "      <td>oncogenic mutations monomeric casitas b lineag...</td>\n",
       "      <td>4</td>\n",
       "    </tr>\n",
       "    <tr>\n",
       "      <th>...</th>\n",
       "      <td>...</td>\n",
       "      <td>...</td>\n",
       "      <td>...</td>\n",
       "      <td>...</td>\n",
       "    </tr>\n",
       "    <tr>\n",
       "      <th>3316</th>\n",
       "      <td>RUNX1</td>\n",
       "      <td>D171N</td>\n",
       "      <td>introduction myelodysplastic syndromes  mds  h...</td>\n",
       "      <td>4</td>\n",
       "    </tr>\n",
       "    <tr>\n",
       "      <th>3317</th>\n",
       "      <td>RUNX1</td>\n",
       "      <td>A122*</td>\n",
       "      <td>introduction myelodysplastic syndromes  mds  h...</td>\n",
       "      <td>1</td>\n",
       "    </tr>\n",
       "    <tr>\n",
       "      <th>3318</th>\n",
       "      <td>RUNX1</td>\n",
       "      <td>Fusions</td>\n",
       "      <td>the runt related transcription factor 1 gene  ...</td>\n",
       "      <td>1</td>\n",
       "    </tr>\n",
       "    <tr>\n",
       "      <th>3319</th>\n",
       "      <td>RUNX1</td>\n",
       "      <td>R80C</td>\n",
       "      <td>the runx1 aml1 gene frequent target chromosoma...</td>\n",
       "      <td>4</td>\n",
       "    </tr>\n",
       "    <tr>\n",
       "      <th>3320</th>\n",
       "      <td>RUNX1</td>\n",
       "      <td>K83E</td>\n",
       "      <td>the frequent mutations associated leukemia rec...</td>\n",
       "      <td>4</td>\n",
       "    </tr>\n",
       "  </tbody>\n",
       "</table>\n",
       "<p>3316 rows × 4 columns</p>\n",
       "</div>"
      ],
      "text/plain": [
       "       Code1                 Code2  \\\n",
       "0     FAM58A  Truncating Mutations   \n",
       "1        CBL                 W802*   \n",
       "2        CBL                 Q249E   \n",
       "3        CBL                 N454D   \n",
       "4        CBL                 L399V   \n",
       "...      ...                   ...   \n",
       "3316   RUNX1                 D171N   \n",
       "3317   RUNX1                 A122*   \n",
       "3318   RUNX1               Fusions   \n",
       "3319   RUNX1                  R80C   \n",
       "3320   RUNX1                  K83E   \n",
       "\n",
       "                                                   TEXT  Class  \n",
       "0     cyclin dependent kinases  cdks  regulate varie...      1  \n",
       "1     abstract background non small cell lung cancer...      2  \n",
       "2     abstract background non small cell lung cancer...      2  \n",
       "3     recent evidence demonstrated acquired uniparen...      3  \n",
       "4     oncogenic mutations monomeric casitas b lineag...      4  \n",
       "...                                                 ...    ...  \n",
       "3316  introduction myelodysplastic syndromes  mds  h...      4  \n",
       "3317  introduction myelodysplastic syndromes  mds  h...      1  \n",
       "3318  the runt related transcription factor 1 gene  ...      1  \n",
       "3319  the runx1 aml1 gene frequent target chromosoma...      4  \n",
       "3320  the frequent mutations associated leukemia rec...      4  \n",
       "\n",
       "[3316 rows x 4 columns]"
      ]
     },
     "execution_count": 54,
     "metadata": {},
     "output_type": "execute_result"
    }
   ],
   "source": [
    "df3"
   ]
  },
  {
   "cell_type": "code",
   "execution_count": 55,
   "metadata": {},
   "outputs": [],
   "source": [
    "from numpy import argmax\n",
    "from sklearn.preprocessing import LabelEncoder\n",
    "from sklearn.preprocessing import OneHotEncoder"
   ]
  },
  {
   "cell_type": "code",
   "execution_count": 56,
   "metadata": {},
   "outputs": [
    {
     "data": {
      "text/html": [
       "<div>\n",
       "<style scoped>\n",
       "    .dataframe tbody tr th:only-of-type {\n",
       "        vertical-align: middle;\n",
       "    }\n",
       "\n",
       "    .dataframe tbody tr th {\n",
       "        vertical-align: top;\n",
       "    }\n",
       "\n",
       "    .dataframe thead th {\n",
       "        text-align: right;\n",
       "    }\n",
       "</style>\n",
       "<table border=\"1\" class=\"dataframe\">\n",
       "  <thead>\n",
       "    <tr style=\"text-align: right;\">\n",
       "      <th></th>\n",
       "      <th>Code1</th>\n",
       "      <th>Code2</th>\n",
       "      <th>TEXT</th>\n",
       "      <th>Class</th>\n",
       "    </tr>\n",
       "  </thead>\n",
       "  <tbody>\n",
       "    <tr>\n",
       "      <th>0</th>\n",
       "      <td>84</td>\n",
       "      <td>2626</td>\n",
       "      <td>479</td>\n",
       "      <td>0</td>\n",
       "    </tr>\n",
       "    <tr>\n",
       "      <th>1</th>\n",
       "      <td>38</td>\n",
       "      <td>2853</td>\n",
       "      <td>48</td>\n",
       "      <td>1</td>\n",
       "    </tr>\n",
       "    <tr>\n",
       "      <th>2</th>\n",
       "      <td>38</td>\n",
       "      <td>1895</td>\n",
       "      <td>48</td>\n",
       "      <td>1</td>\n",
       "    </tr>\n",
       "    <tr>\n",
       "      <th>3</th>\n",
       "      <td>38</td>\n",
       "      <td>1665</td>\n",
       "      <td>1299</td>\n",
       "      <td>2</td>\n",
       "    </tr>\n",
       "    <tr>\n",
       "      <th>4</th>\n",
       "      <td>38</td>\n",
       "      <td>1445</td>\n",
       "      <td>1153</td>\n",
       "      <td>3</td>\n",
       "    </tr>\n",
       "    <tr>\n",
       "      <th>...</th>\n",
       "      <td>...</td>\n",
       "      <td>...</td>\n",
       "      <td>...</td>\n",
       "      <td>...</td>\n",
       "    </tr>\n",
       "    <tr>\n",
       "      <th>3316</th>\n",
       "      <td>219</td>\n",
       "      <td>306</td>\n",
       "      <td>843</td>\n",
       "      <td>3</td>\n",
       "    </tr>\n",
       "    <tr>\n",
       "      <th>3317</th>\n",
       "      <td>219</td>\n",
       "      <td>28</td>\n",
       "      <td>841</td>\n",
       "      <td>0</td>\n",
       "    </tr>\n",
       "    <tr>\n",
       "      <th>3318</th>\n",
       "      <td>219</td>\n",
       "      <td>807</td>\n",
       "      <td>1670</td>\n",
       "      <td>0</td>\n",
       "    </tr>\n",
       "    <tr>\n",
       "      <th>3319</th>\n",
       "      <td>219</td>\n",
       "      <td>2247</td>\n",
       "      <td>1673</td>\n",
       "      <td>3</td>\n",
       "    </tr>\n",
       "    <tr>\n",
       "      <th>3320</th>\n",
       "      <td>219</td>\n",
       "      <td>1331</td>\n",
       "      <td>1521</td>\n",
       "      <td>3</td>\n",
       "    </tr>\n",
       "  </tbody>\n",
       "</table>\n",
       "<p>3316 rows × 4 columns</p>\n",
       "</div>"
      ],
      "text/plain": [
       "      Code1  Code2  TEXT  Class\n",
       "0        84   2626   479      0\n",
       "1        38   2853    48      1\n",
       "2        38   1895    48      1\n",
       "3        38   1665  1299      2\n",
       "4        38   1445  1153      3\n",
       "...     ...    ...   ...    ...\n",
       "3316    219    306   843      3\n",
       "3317    219     28   841      0\n",
       "3318    219    807  1670      0\n",
       "3319    219   2247  1673      3\n",
       "3320    219   1331  1521      3\n",
       "\n",
       "[3316 rows x 4 columns]"
      ]
     },
     "execution_count": 56,
     "metadata": {},
     "output_type": "execute_result"
    }
   ],
   "source": [
    "categorical_cols = ['Code1', 'Code2','TEXT','Class'] \n",
    "from sklearn.preprocessing import LabelEncoder\n",
    "# instantiate labelencoder object\n",
    "le = LabelEncoder()\n",
    "# apply le on categorical feature columns\n",
    "df3[categorical_cols] =df3[categorical_cols].apply(lambda col: le.fit_transform(col))\n",
    "one_hot_encoded_cols=pd.DataFrame(df3[categorical_cols])\n",
    "one_hot_encoded_cols"
   ]
  },
  {
   "cell_type": "markdown",
   "metadata": {
    "id": "X1d4l74-4tuc"
   },
   "source": [
    "# Question 11: Run Multinomial NB \n",
    "\n",
    "* (MultinomialNB(alpha=i)) --> CalibratedClassifierCV(method=sigmoid) --> fit(train_one_hot encoding) --> predict_proba(cross validation onehotCoding) --> log_loss(actual cv values , output of predict)).\n",
    "\n",
    "* Finally print the confusion matrix using heatmap and log loss with best alpha"
   ]
  },
  {
   "cell_type": "code",
   "execution_count": 57,
   "metadata": {},
   "outputs": [],
   "source": [
    "X=one_hot_encoded_cols.iloc[:,:3]\n",
    "y=one_hot_encoded_cols.iloc[:,3]"
   ]
  },
  {
   "cell_type": "code",
   "execution_count": 58,
   "metadata": {},
   "outputs": [
    {
     "name": "stdout",
     "output_type": "stream",
     "text": [
      "(1989, 3)\n",
      "(664, 3)\n",
      "(663, 3)\n",
      "(1989,)\n",
      "(664,)\n",
      "(663,)\n"
     ]
    }
   ],
   "source": [
    "X_train, X_val, y_train, y_val = train_test_split(X_temp, y_temp ,test_size=0.25, random_state=1111)\n",
    "print(X_train.shape)\n",
    "print(X_test.shape)\n",
    "print(X_val.shape)\n",
    "print(y_train.shape)\n",
    "print(y_test.shape)\n",
    "print(y_val.shape)"
   ]
  },
  {
   "cell_type": "code",
   "execution_count": 59,
   "metadata": {},
   "outputs": [],
   "source": [
    "from sklearn.naive_bayes import MultinomialNB\n",
    "MNB = MultinomialNB(alpha=1)"
   ]
  },
  {
   "cell_type": "code",
   "execution_count": 60,
   "metadata": {},
   "outputs": [],
   "source": [
    "n_samples=500\n",
    "y[:n_samples // 2] = 0\n",
    "y[n_samples // 2:] = 1"
   ]
  },
  {
   "cell_type": "code",
   "execution_count": 61,
   "metadata": {},
   "outputs": [
    {
     "data": {
      "text/plain": [
       "array([0.91888649, 0.93632092, 0.95601755, ..., 0.95601755, 0.91888649,\n",
       "       0.91888649])"
      ]
     },
     "execution_count": 61,
     "metadata": {},
     "output_type": "execute_result"
    }
   ],
   "source": [
    "sample_weight = np.random.RandomState(42).rand(y.shape[0])\n",
    "X_train, X_test, y_train, y_test, sw_train, sw_test = train_test_split(X, y, sample_weight, test_size=0.9, random_state=42)\n",
    "# Gaussian Naive-Bayes with sigmoid calibration\n",
    "clf_sigmoid = CalibratedClassifierCV(MNB, cv=2, method='sigmoid')\n",
    "clf_sigmoid.fit(X_train, y_train, sample_weight=sw_train)\n",
    "prob_pos_sigmoid = clf_sigmoid.predict_proba(X_test)[:, 1]\n",
    "prob_pos_sigmoid\n"
   ]
  },
  {
   "cell_type": "code",
   "execution_count": 62,
   "metadata": {},
   "outputs": [
    {
     "data": {
      "text/plain": [
       "OneHotEncoder(handle_unknown='ignore')"
      ]
     },
     "execution_count": 62,
     "metadata": {},
     "output_type": "execute_result"
    }
   ],
   "source": [
    "enc = OneHotEncoder(handle_unknown = 'ignore')\n",
    "encoding_fit=enc.fit(df3)\n",
    "encoding_fit"
   ]
  },
  {
   "cell_type": "code",
   "execution_count": 63,
   "metadata": {},
   "outputs": [],
   "source": [
    "from sklearn.model_selection import StratifiedKFold\n",
    "from sklearn.model_selection import cross_val_predict"
   ]
  },
  {
   "cell_type": "code",
   "execution_count": 64,
   "metadata": {},
   "outputs": [
    {
     "data": {
      "text/plain": [
       "(10,)"
      ]
     },
     "execution_count": 64,
     "metadata": {},
     "output_type": "execute_result"
    }
   ],
   "source": [
    "from sklearn.model_selection import cross_val_score\n",
    "actual_ = cross_val_score(MNB, X, y, cv=10)\n",
    "actual_.shape"
   ]
  },
  {
   "cell_type": "code",
   "execution_count": 65,
   "metadata": {},
   "outputs": [],
   "source": [
    "y1=np.array(y)\n",
    "cv_strat = StratifiedKFold(len(y1), True)"
   ]
  },
  {
   "cell_type": "code",
   "execution_count": 66,
   "metadata": {},
   "outputs": [
    {
     "data": {
      "text/plain": [
       "(3316, 2)"
      ]
     },
     "execution_count": 66,
     "metadata": {},
     "output_type": "execute_result"
    }
   ],
   "source": [
    "proba = cross_val_predict(MNB, X, y, cv=10, method='predict_proba')\n",
    "proba.shape"
   ]
  },
  {
   "cell_type": "code",
   "execution_count": null,
   "metadata": {},
   "outputs": [],
   "source": []
  },
  {
   "cell_type": "code",
   "execution_count": 67,
   "metadata": {},
   "outputs": [
    {
     "name": "stdout",
     "output_type": "stream",
     "text": [
      "Calculate log loss is: 11.74246626853833\n"
     ]
    }
   ],
   "source": [
    "import sklearn.metrics as metrics\n",
    "log_loss_calc = metrics.log_loss(y, proba)\n",
    "print(\"Calculate log loss is:\", log_loss_calc)"
   ]
  },
  {
   "cell_type": "code",
   "execution_count": 68,
   "metadata": {},
   "outputs": [
    {
     "name": "stdout",
     "output_type": "stream",
     "text": [
      "The log loss is: 9.00557758698547\n"
     ]
    }
   ],
   "source": [
    "MNB.fit(X_train, y_train)\n",
    "predict_y=MNB.predict_proba(X_test)\n",
    "print(\"The log loss is:\",log_loss(y_test, predict_y, labels=MNB.classes_, eps=1e-15))"
   ]
  },
  {
   "cell_type": "code",
   "execution_count": 69,
   "metadata": {},
   "outputs": [
    {
     "data": {
      "text/plain": [
       "(3316,)"
      ]
     },
     "execution_count": 69,
     "metadata": {},
     "output_type": "execute_result"
    }
   ],
   "source": [
    "MNB.fit(X, y)\n",
    "pred=MNB.predict(X)\n",
    "pred.shape"
   ]
  },
  {
   "cell_type": "code",
   "execution_count": 70,
   "metadata": {},
   "outputs": [
    {
     "data": {
      "image/png": "[encoded data removed]",
      "text/plain": [
       "<Figure size 432x288 with 2 Axes>"
      ]
     },
     "metadata": {
      "needs_background": "light"
     },
     "output_type": "display_data"
    }
   ],
   "source": [
    "df = pd.DataFrame(one_hot_encoded_cols, columns=[y,pred])\n",
    "confusion_matrix = pd.crosstab(y, pred, rownames=['Actual'], colnames=['Predicted'])\n",
    "\n",
    "sns.heatmap(confusion_matrix, annot=True)\n",
    "plt.show()"
   ]
  },
  {
   "cell_type": "code",
   "execution_count": 71,
   "metadata": {},
   "outputs": [
    {
     "name": "stdout",
     "output_type": "stream",
     "text": [
      "For values of alpha =  1e-05 The log loss is: 0.271610568198789\n",
      "For values of alpha =  0.0001 The log loss is: 0.271610568198789\n",
      "For values of alpha =  0.001 The log loss is: 0.271610568198789\n",
      "For values of alpha =  0.01 The log loss is: 0.271610568198789\n",
      "For values of alpha =  0.1 The log loss is: 0.2720121130163555\n",
      "For values of alpha =  1 The log loss is: 0.2727462005694686\n",
      "For values of alpha =  10 The log loss is: 0.27262995621582625\n"
     ]
    },
    {
     "data": {
      "image/png": "[encoded data removed]",
      "text/plain": [
       "<Figure size 432x288 with 1 Axes>"
      ]
     },
     "metadata": {
      "needs_background": "light"
     },
     "output_type": "display_data"
    },
    {
     "data": {
      "image/png": "[encoded data removed]",
      "text/plain": [
       "<Figure size 432x288 with 1 Axes>"
      ]
     },
     "metadata": {
      "needs_background": "light"
     },
     "output_type": "display_data"
    },
    {
     "data": {
      "image/png": "[encoded data removed]",
      "text/plain": [
       "<Figure size 432x288 with 1 Axes>"
      ]
     },
     "metadata": {
      "needs_background": "light"
     },
     "output_type": "display_data"
    },
    {
     "data": {
      "image/png": "[encoded data removed]",
      "text/plain": [
       "<Figure size 432x288 with 1 Axes>"
      ]
     },
     "metadata": {
      "needs_background": "light"
     },
     "output_type": "display_data"
    },
    {
     "data": {
      "image/png": "[encoded data removed]",
      "text/plain": [
       "<Figure size 432x288 with 1 Axes>"
      ]
     },
     "metadata": {
      "needs_background": "light"
     },
     "output_type": "display_data"
    },
    {
     "data": {
      "image/png": "[encoded data removed]",
      "text/plain": [
       "<Figure size 432x288 with 1 Axes>"
      ]
     },
     "metadata": {
      "needs_background": "light"
     },
     "output_type": "display_data"
    },
    {
     "data": {
      "image/png": "[encoded data removed]",
      "text/plain": [
       "<Figure size 432x288 with 1 Axes>"
      ]
     },
     "metadata": {
      "needs_background": "light"
     },
     "output_type": "display_data"
    },
    {
     "name": "stdout",
     "output_type": "stream",
     "text": [
      "For values of best alpha =  1e-05 The train log loss is: 0.2294257162674744\n",
      "For values of best alpha =  1e-05 The test log loss is: 0.271610568198789\n",
      "Total number of data points : 2985\n"
     ]
    }
   ],
   "source": [
    "alpha = [10 ** x for x in range(-5, 2)] # hyperparam for SGD classifier.log_error_array=[]\n",
    "log_error_array=[]\n",
    "for i in alpha:\n",
    "    clf = SGDClassifier(alpha=i, penalty='l2', loss='log', random_state=42)\n",
    "    clf.fit(X_train, y_train)\n",
    "    sig_clf = CalibratedClassifierCV(clf, method=\"sigmoid\")\n",
    "    sig_clf.fit(X_train, y_train)\n",
    "    predict_y = sig_clf.predict_proba(X_test)\n",
    "    log_error_array.append(log_loss(y_test, predict_y, labels=clf.classes_, eps=1e-15))\n",
    "    print('For values of alpha = ', i, \"The log loss is:\",log_loss(y_test, predict_y, labels=clf.classes_, eps=1e-15))\n",
    "    fig, ax = plt.subplots()\n",
    "ax.plot(alpha, log_error_array,c='g')\n",
    "for i, txt in enumerate(np.round(log_error_array,3)):\n",
    "    ax.annotate((alpha[i],np.round(txt,3)), (alpha[i],log_error_array[i]))\n",
    "plt.grid()\n",
    "plt.title(\"Cross Validation Error for each alpha\")\n",
    "plt.xlabel(\"Alpha i's\")\n",
    "plt.ylabel(\"Error measure\")\n",
    "plt.show()\n",
    "best_alpha = np.argmin(log_error_array)\n",
    "clf = SGDClassifier(alpha=alpha[best_alpha], penalty='l2', loss='log', random_state=42)\n",
    "clf.fit(X_train, y_train)\n",
    "sig_clf = CalibratedClassifierCV(clf, method=\"sigmoid\")\n",
    "sig_clf.fit(X_train, y_train)\n",
    "predict_y = sig_clf.predict_proba(X_train)\n",
    "print('For values of best alpha = ', alpha[best_alpha], \"The train log loss is:\",log_loss(y_train, predict_y, labels=clf.classes_, eps=1e-15))\n",
    "predict_y = sig_clf.predict_proba(X_test)\n",
    "print('For values of best alpha = ', alpha[best_alpha], \"The test log loss is:\",log_loss(y_test, predict_y, labels=clf.classes_, eps=1e-15))\n",
    "predicted_y =np.argmax(predict_y,axis=1)\n",
    "print(\"Total number of data points :\", len(predicted_y))"
   ]
  },
  {
   "cell_type": "markdown",
   "metadata": {
    "id": "HtMjtWk_6f2P"
   },
   "source": [
    "# Question 12: Run KNN using the above step"
   ]
  },
  {
   "cell_type": "code",
   "execution_count": 72,
   "metadata": {},
   "outputs": [
    {
     "data": {
      "text/plain": [
       "KNeighborsClassifier(n_neighbors=7)"
      ]
     },
     "execution_count": 72,
     "metadata": {},
     "output_type": "execute_result"
    }
   ],
   "source": [
    "knn = KNeighborsClassifier(n_neighbors=7)   \n",
    "knn.fit(X_train, y_train) "
   ]
  },
  {
   "cell_type": "code",
   "execution_count": 73,
   "metadata": {},
   "outputs": [
    {
     "data": {
      "text/plain": [
       "array([0.94075598, 0.94795001, 0.93125648, ..., 0.94075598, 0.93681031,\n",
       "       0.93681031])"
      ]
     },
     "execution_count": 73,
     "metadata": {},
     "output_type": "execute_result"
    }
   ],
   "source": [
    "sample_weight = np.random.RandomState(42).rand(y.shape[0])\n",
    "X_train, X_test, y_train, y_test, sw_train, sw_test = train_test_split(X, y, sample_weight, test_size=0.9, random_state=42)\n",
    "# Gaussian Naive-Bayes with sigmoid calibration\n",
    "clf_sigmoid = CalibratedClassifierCV(knn, cv=2, method='sigmoid')\n",
    "clf_sigmoid.fit(X_train, y_train, sample_weight=sw_train)\n",
    "prob_pos_sigmoid = clf_sigmoid.predict_proba(X_test)[:, 1]\n",
    "prob_pos_sigmoid\n"
   ]
  },
  {
   "cell_type": "code",
   "execution_count": 74,
   "metadata": {},
   "outputs": [
    {
     "data": {
      "text/plain": [
       "array([[0.        , 1.        ],\n",
       "       [0.        , 1.        ],\n",
       "       [0.        , 1.        ],\n",
       "       ...,\n",
       "       [0.        , 1.        ],\n",
       "       [0.57142857, 0.42857143],\n",
       "       [0.14285714, 0.85714286]])"
      ]
     },
     "execution_count": 74,
     "metadata": {},
     "output_type": "execute_result"
    }
   ],
   "source": [
    "proba_knn = cross_val_predict(knn, X, y, cv=10, method='predict_proba')\n",
    "proba_knn"
   ]
  },
  {
   "cell_type": "code",
   "execution_count": 75,
   "metadata": {},
   "outputs": [
    {
     "name": "stdout",
     "output_type": "stream",
     "text": [
      "Calculate log loss is: 1.3305981614255287\n"
     ]
    }
   ],
   "source": [
    "log_loss_calc = metrics.log_loss(y, proba_knn)\n",
    "print(\"Calculate log loss is:\", log_loss_calc)"
   ]
  },
  {
   "cell_type": "code",
   "execution_count": 76,
   "metadata": {},
   "outputs": [
    {
     "data": {
      "text/plain": [
       "KNeighborsClassifier(n_neighbors=7)"
      ]
     },
     "execution_count": 76,
     "metadata": {},
     "output_type": "execute_result"
    }
   ],
   "source": [
    "knn.fit(X, y)"
   ]
  },
  {
   "cell_type": "code",
   "execution_count": 77,
   "metadata": {},
   "outputs": [
    {
     "data": {
      "text/plain": [
       "(3316,)"
      ]
     },
     "execution_count": 77,
     "metadata": {},
     "output_type": "execute_result"
    }
   ],
   "source": [
    "pred_knn=knn.predict(X)\n",
    "pred_knn.shape"
   ]
  },
  {
   "cell_type": "code",
   "execution_count": 78,
   "metadata": {},
   "outputs": [
    {
     "data": {
      "image/png": "[encoded data removed]",
      "text/plain": [
       "<Figure size 432x288 with 2 Axes>"
      ]
     },
     "metadata": {
      "needs_background": "light"
     },
     "output_type": "display_data"
    }
   ],
   "source": [
    "df = pd.DataFrame(one_hot_encoded_cols, columns=[y,pred_knn])\n",
    "confusion_matrix = pd.crosstab(y, pred_knn, rownames=['Actual'], colnames=['Predicted'])\n",
    "\n",
    "sns.heatmap(confusion_matrix, annot=True)\n",
    "plt.show()"
   ]
  },
  {
   "cell_type": "markdown",
   "metadata": {
    "id": "Ym5k7pjZ67Mp"
   },
   "source": [
    "# Question 13: Implement stacking with meta classifier as logistic regression and base classifiers as- Linear SVM, logistic and Multinomial NB. Print the final log loss"
   ]
  },
  {
   "cell_type": "code",
   "execution_count": 79,
   "metadata": {},
   "outputs": [],
   "source": [
    "from sklearn.ensemble import StackingClassifier"
   ]
  },
  {
   "cell_type": "code",
   "execution_count": 80,
   "metadata": {},
   "outputs": [
    {
     "data": {
      "text/plain": [
       "StackingClassifier(estimators=[('lr', LogisticRegression()), ('svm', SVC()),\n",
       "                               ('mnb', MultinomialNB())])"
      ]
     },
     "execution_count": 80,
     "metadata": {},
     "output_type": "execute_result"
    }
   ],
   "source": [
    "models = [('lr',LogisticRegression()),('svm',SVC()),('mnb',MultinomialNB())]\n",
    "stacking = StackingClassifier(estimators=models)\n",
    "stacking"
   ]
  },
  {
   "cell_type": "code",
   "execution_count": 81,
   "metadata": {},
   "outputs": [
    {
     "data": {
      "text/plain": [
       "array([[0.06872673, 0.93127327],\n",
       "       [0.06924574, 0.93075426],\n",
       "       [0.0689805 , 0.9310195 ],\n",
       "       ...,\n",
       "       [0.07936653, 0.92063347],\n",
       "       [0.08011599, 0.91988401],\n",
       "       [0.08012706, 0.91987294]])"
      ]
     },
     "execution_count": 81,
     "metadata": {},
     "output_type": "execute_result"
    }
   ],
   "source": [
    "proba_stacking = cross_val_predict(stacking, X, y, cv=10, method='predict_proba')\n",
    "proba_stacking"
   ]
  },
  {
   "cell_type": "code",
   "execution_count": 82,
   "metadata": {},
   "outputs": [
    {
     "data": {
      "text/plain": [
       "StackingClassifier(estimators=[('lr', LogisticRegression()), ('svm', SVC()),\n",
       "                               ('mnb', MultinomialNB())])"
      ]
     },
     "execution_count": 82,
     "metadata": {},
     "output_type": "execute_result"
    }
   ],
   "source": [
    "stacking.fit(X, y)"
   ]
  },
  {
   "cell_type": "code",
   "execution_count": 83,
   "metadata": {},
   "outputs": [
    {
     "name": "stdout",
     "output_type": "stream",
     "text": [
      "Calculating final log loss: 0.2676967616223803\n"
     ]
    }
   ],
   "source": [
    "log_loss_stack = metrics.log_loss(y,proba_stacking)\n",
    "print(\"Calculating final log loss:\", log_loss_stack)"
   ]
  },
  {
   "cell_type": "code",
   "execution_count": 84,
   "metadata": {},
   "outputs": [
    {
     "name": "stdout",
     "output_type": "stream",
     "text": [
      "The log loss is: 0.2707099405082593\n"
     ]
    }
   ],
   "source": [
    "predict_y=stacking.predict_proba(X_test)\n",
    "print(\"The log loss is:\",log_loss(y_test, predict_y, labels=stacking.classes_, eps=1e-15))"
   ]
  },
  {
   "cell_type": "markdown",
   "metadata": {},
   "source": [
    "## Hence final log loss of 0.27"
   ]
  },
  {
   "cell_type": "code",
   "execution_count": 85,
   "metadata": {},
   "outputs": [
    {
     "data": {
      "text/plain": [
       "(3316,)"
      ]
     },
     "execution_count": 85,
     "metadata": {},
     "output_type": "execute_result"
    }
   ],
   "source": [
    "stacking.fit(X_train, y_train).score(X_test, y_test)\n",
    "pred_st=stacking.predict(X)\n",
    "pred_st.shape"
   ]
  },
  {
   "cell_type": "code",
   "execution_count": 86,
   "metadata": {},
   "outputs": [
    {
     "data": {
      "image/png": "[encoded data removed]",
      "text/plain": [
       "<Figure size 432x288 with 2 Axes>"
      ]
     },
     "metadata": {
      "needs_background": "light"
     },
     "output_type": "display_data"
    }
   ],
   "source": [
    "df = pd.DataFrame(one_hot_encoded_cols, columns=[y,pred_st])\n",
    "confusion_matrix = pd.crosstab(y, pred_st, rownames=['Actual'], colnames=['Predicted'])\n",
    "\n",
    "sns.heatmap(confusion_matrix, annot=True)\n",
    "plt.show()"
   ]
  },
  {
   "cell_type": "code",
   "execution_count": null,
   "metadata": {},
   "outputs": [],
   "source": []
  },
  {
   "cell_type": "code",
   "execution_count": null,
   "metadata": {},
   "outputs": [],
   "source": []
  },
  {
   "cell_type": "code",
   "execution_count": null,
   "metadata": {},
   "outputs": [],
   "source": []
  },
  {
   "cell_type": "code",
   "execution_count": null,
   "metadata": {},
   "outputs": [],
   "source": []
  }
 ],
 "metadata": {
  "colab": {
   "collapsed_sections": [],
   "name": "18BCD7145_LAB9",
   "provenance": []
  },
  "kernelspec": {
   "display_name": "Python 3",
   "language": "python",
   "name": "python3"
  },
  "language_info": {
   "codemirror_mode": {
    "name": "ipython",
    "version": 3
   },
   "file_extension": ".py",
   "mimetype": "text/x-python",
   "name": "python",
   "nbconvert_exporter": "python",
   "pygments_lexer": "ipython3",
   "version": "3.7.8rc1"
  }
 },
 "nbformat": 4,
 "nbformat_minor": 1
}
