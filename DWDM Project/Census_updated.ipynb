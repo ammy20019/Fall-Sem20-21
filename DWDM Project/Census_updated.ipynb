{
 "cells": [
  {
   "cell_type": "code",
   "execution_count": 1,
   "metadata": {},
   "outputs": [],
   "source": [
    "import pandas as pd\n",
    "import numpy as np"
   ]
  },
  {
   "cell_type": "code",
   "execution_count": 2,
   "metadata": {},
   "outputs": [
    {
     "name": "stdout",
     "output_type": "stream",
     "text": [
      "(6842, 15)\n"
     ]
    },
    {
     "data": {
      "text/html": [
       "<div>\n",
       "<style scoped>\n",
       "    .dataframe tbody tr th:only-of-type {\n",
       "        vertical-align: middle;\n",
       "    }\n",
       "\n",
       "    .dataframe tbody tr th {\n",
       "        vertical-align: top;\n",
       "    }\n",
       "\n",
       "    .dataframe thead th {\n",
       "        text-align: right;\n",
       "    }\n",
       "</style>\n",
       "<table border=\"1\" class=\"dataframe\">\n",
       "  <thead>\n",
       "    <tr style=\"text-align: right;\">\n",
       "      <th></th>\n",
       "      <th>age</th>\n",
       "      <th>workclass</th>\n",
       "      <th>fnlwgt</th>\n",
       "      <th>education</th>\n",
       "      <th>education_num</th>\n",
       "      <th>marital_status</th>\n",
       "      <th>occupation</th>\n",
       "      <th>relationship</th>\n",
       "      <th>race</th>\n",
       "      <th>sex</th>\n",
       "      <th>capital_gain</th>\n",
       "      <th>capital_loss</th>\n",
       "      <th>hours_per_week</th>\n",
       "      <th>native_country</th>\n",
       "      <th>income_level</th>\n",
       "    </tr>\n",
       "  </thead>\n",
       "  <tbody>\n",
       "    <tr>\n",
       "      <th>0</th>\n",
       "      <td>39</td>\n",
       "      <td>State-gov</td>\n",
       "      <td>77516.0</td>\n",
       "      <td>Bachelors</td>\n",
       "      <td>13</td>\n",
       "      <td>Never-married</td>\n",
       "      <td>Adm-clerical</td>\n",
       "      <td>Not-in-family</td>\n",
       "      <td>White</td>\n",
       "      <td>Male</td>\n",
       "      <td>2174.0</td>\n",
       "      <td>0.0</td>\n",
       "      <td>40.0</td>\n",
       "      <td>United-States</td>\n",
       "      <td>&lt;=50K</td>\n",
       "    </tr>\n",
       "    <tr>\n",
       "      <th>1</th>\n",
       "      <td>50</td>\n",
       "      <td>Self-emp-not-inc</td>\n",
       "      <td>83311.0</td>\n",
       "      <td>Bachelors</td>\n",
       "      <td>13</td>\n",
       "      <td>Married-civ-spouse</td>\n",
       "      <td>Exec-managerial</td>\n",
       "      <td>Husband</td>\n",
       "      <td>White</td>\n",
       "      <td>Male</td>\n",
       "      <td>0.0</td>\n",
       "      <td>0.0</td>\n",
       "      <td>13.0</td>\n",
       "      <td>United-States</td>\n",
       "      <td>&lt;=50K</td>\n",
       "    </tr>\n",
       "    <tr>\n",
       "      <th>2</th>\n",
       "      <td>38</td>\n",
       "      <td>Private</td>\n",
       "      <td>215646.0</td>\n",
       "      <td>HS-grad</td>\n",
       "      <td>9</td>\n",
       "      <td>Divorced</td>\n",
       "      <td>Handlers-cleaners</td>\n",
       "      <td>Not-in-family</td>\n",
       "      <td>White</td>\n",
       "      <td>Male</td>\n",
       "      <td>0.0</td>\n",
       "      <td>0.0</td>\n",
       "      <td>40.0</td>\n",
       "      <td>United-States</td>\n",
       "      <td>&lt;=50K</td>\n",
       "    </tr>\n",
       "    <tr>\n",
       "      <th>3</th>\n",
       "      <td>53</td>\n",
       "      <td>Private</td>\n",
       "      <td>234721.0</td>\n",
       "      <td>11th</td>\n",
       "      <td>7</td>\n",
       "      <td>Married-civ-spouse</td>\n",
       "      <td>Handlers-cleaners</td>\n",
       "      <td>Husband</td>\n",
       "      <td>Black</td>\n",
       "      <td>Male</td>\n",
       "      <td>0.0</td>\n",
       "      <td>0.0</td>\n",
       "      <td>40.0</td>\n",
       "      <td>United-States</td>\n",
       "      <td>&lt;=50K</td>\n",
       "    </tr>\n",
       "    <tr>\n",
       "      <th>4</th>\n",
       "      <td>28</td>\n",
       "      <td>Private</td>\n",
       "      <td>338409.0</td>\n",
       "      <td>Bachelors</td>\n",
       "      <td>13</td>\n",
       "      <td>Married-civ-spouse</td>\n",
       "      <td>Prof-specialty</td>\n",
       "      <td>Wife</td>\n",
       "      <td>Black</td>\n",
       "      <td>Female</td>\n",
       "      <td>0.0</td>\n",
       "      <td>0.0</td>\n",
       "      <td>40.0</td>\n",
       "      <td>Cuba</td>\n",
       "      <td>&lt;=50K</td>\n",
       "    </tr>\n",
       "  </tbody>\n",
       "</table>\n",
       "</div>"
      ],
      "text/plain": [
       "   age         workclass    fnlwgt  education  education_num  \\\n",
       "0   39         State-gov   77516.0  Bachelors             13   \n",
       "1   50  Self-emp-not-inc   83311.0  Bachelors             13   \n",
       "2   38           Private  215646.0    HS-grad              9   \n",
       "3   53           Private  234721.0       11th              7   \n",
       "4   28           Private  338409.0  Bachelors             13   \n",
       "\n",
       "       marital_status         occupation   relationship   race     sex  \\\n",
       "0       Never-married       Adm-clerical  Not-in-family  White    Male   \n",
       "1  Married-civ-spouse    Exec-managerial        Husband  White    Male   \n",
       "2            Divorced  Handlers-cleaners  Not-in-family  White    Male   \n",
       "3  Married-civ-spouse  Handlers-cleaners        Husband  Black    Male   \n",
       "4  Married-civ-spouse     Prof-specialty           Wife  Black  Female   \n",
       "\n",
       "   capital_gain  capital_loss  hours_per_week native_country income_level  \n",
       "0        2174.0           0.0            40.0  United-States        <=50K  \n",
       "1           0.0           0.0            13.0  United-States        <=50K  \n",
       "2           0.0           0.0            40.0  United-States        <=50K  \n",
       "3           0.0           0.0            40.0  United-States        <=50K  \n",
       "4           0.0           0.0            40.0           Cuba        <=50K  "
      ]
     },
     "execution_count": 2,
     "metadata": {},
     "output_type": "execute_result"
    }
   ],
   "source": [
    "data=pd.read_csv(\"census.csv\")\n",
    "data.drop(data.tail(42000).index, \n",
    "        inplace = True) \n",
    "print(data.shape)\n",
    "list=data.select_dtypes(include=object).columns.tolist()\n",
    "data.head()"
   ]
  },
  {
   "cell_type": "code",
   "execution_count": 3,
   "metadata": {},
   "outputs": [
    {
     "name": "stdout",
     "output_type": "stream",
     "text": [
      "*** Count Unique values in each column ***\n",
      "Count of unique values in each column :\n",
      "age                 70\n",
      "workclass            9\n",
      "fnlwgt            6104\n",
      "education           16\n",
      "education_num       16\n",
      "marital_status       7\n",
      "occupation          15\n",
      "relationship         6\n",
      "race                 5\n",
      "sex                  2\n",
      "capital_gain        92\n",
      "capital_loss        63\n",
      "hours_per_week      79\n",
      "native_country      40\n",
      "income_level         2\n",
      "dtype: int64\n",
      "Count Unique values in each column including NaN\n",
      "age                 70\n",
      "workclass            9\n",
      "fnlwgt            6104\n",
      "education           16\n",
      "education_num       16\n",
      "marital_status       7\n",
      "occupation          15\n",
      "relationship         6\n",
      "race                 5\n",
      "sex                  2\n",
      "capital_gain        92\n",
      "capital_loss        63\n",
      "hours_per_week      79\n",
      "native_country      40\n",
      "income_level         2\n",
      "dtype: int64\n"
     ]
    }
   ],
   "source": [
    "print(\"*** Count Unique values in each column ***\")\n",
    "    # Get a series object containing the count of unique elements\n",
    "    # in each column of dataframe\n",
    "uniqueValues = data.nunique()\n",
    "print('Count of unique values in each column :')\n",
    "print(uniqueValues)\n",
    "# Count unique elements in each column including NaN\n",
    "uniqueValues = data.nunique(dropna=False)\n",
    "print(\"Count Unique values in each column including NaN\")\n",
    "print(uniqueValues)"
   ]
  },
  {
   "cell_type": "code",
   "execution_count": 4,
   "metadata": {},
   "outputs": [
    {
     "data": {
      "text/html": [
       "<div>\n",
       "<style scoped>\n",
       "    .dataframe tbody tr th:only-of-type {\n",
       "        vertical-align: middle;\n",
       "    }\n",
       "\n",
       "    .dataframe tbody tr th {\n",
       "        vertical-align: top;\n",
       "    }\n",
       "\n",
       "    .dataframe thead th {\n",
       "        text-align: right;\n",
       "    }\n",
       "</style>\n",
       "<table border=\"1\" class=\"dataframe\">\n",
       "  <thead>\n",
       "    <tr style=\"text-align: right;\">\n",
       "      <th></th>\n",
       "      <th>age</th>\n",
       "      <th>workclass</th>\n",
       "      <th>fnlwgt</th>\n",
       "      <th>education</th>\n",
       "      <th>education_num</th>\n",
       "      <th>marital_status</th>\n",
       "      <th>occupation</th>\n",
       "      <th>relationship</th>\n",
       "      <th>race</th>\n",
       "      <th>sex</th>\n",
       "      <th>capital_gain</th>\n",
       "      <th>capital_loss</th>\n",
       "      <th>hours_per_week</th>\n",
       "      <th>native_country</th>\n",
       "      <th>income_level</th>\n",
       "    </tr>\n",
       "  </thead>\n",
       "  <tbody>\n",
       "    <tr>\n",
       "      <th>0</th>\n",
       "      <td>39</td>\n",
       "      <td>State-gov</td>\n",
       "      <td>77516.0</td>\n",
       "      <td>Bachelors</td>\n",
       "      <td>13</td>\n",
       "      <td>Never-married</td>\n",
       "      <td>Adm-clerical</td>\n",
       "      <td>Not-in-family</td>\n",
       "      <td>White</td>\n",
       "      <td>Male</td>\n",
       "      <td>2174.0</td>\n",
       "      <td>0.0</td>\n",
       "      <td>40.0</td>\n",
       "      <td>United-States</td>\n",
       "      <td>&lt;=50K</td>\n",
       "    </tr>\n",
       "    <tr>\n",
       "      <th>1</th>\n",
       "      <td>50</td>\n",
       "      <td>Self-emp-not-inc</td>\n",
       "      <td>83311.0</td>\n",
       "      <td>Bachelors</td>\n",
       "      <td>13</td>\n",
       "      <td>Married-civ-spouse</td>\n",
       "      <td>Exec-managerial</td>\n",
       "      <td>Husband</td>\n",
       "      <td>White</td>\n",
       "      <td>Male</td>\n",
       "      <td>0.0</td>\n",
       "      <td>0.0</td>\n",
       "      <td>13.0</td>\n",
       "      <td>United-States</td>\n",
       "      <td>&lt;=50K</td>\n",
       "    </tr>\n",
       "    <tr>\n",
       "      <th>2</th>\n",
       "      <td>38</td>\n",
       "      <td>Private</td>\n",
       "      <td>215646.0</td>\n",
       "      <td>HS-grad</td>\n",
       "      <td>9</td>\n",
       "      <td>Divorced</td>\n",
       "      <td>Handlers-cleaners</td>\n",
       "      <td>Not-in-family</td>\n",
       "      <td>White</td>\n",
       "      <td>Male</td>\n",
       "      <td>0.0</td>\n",
       "      <td>0.0</td>\n",
       "      <td>40.0</td>\n",
       "      <td>United-States</td>\n",
       "      <td>&lt;=50K</td>\n",
       "    </tr>\n",
       "    <tr>\n",
       "      <th>3</th>\n",
       "      <td>53</td>\n",
       "      <td>Private</td>\n",
       "      <td>234721.0</td>\n",
       "      <td>11th</td>\n",
       "      <td>7</td>\n",
       "      <td>Married-civ-spouse</td>\n",
       "      <td>Handlers-cleaners</td>\n",
       "      <td>Husband</td>\n",
       "      <td>Black</td>\n",
       "      <td>Male</td>\n",
       "      <td>0.0</td>\n",
       "      <td>0.0</td>\n",
       "      <td>40.0</td>\n",
       "      <td>United-States</td>\n",
       "      <td>&lt;=50K</td>\n",
       "    </tr>\n",
       "    <tr>\n",
       "      <th>4</th>\n",
       "      <td>28</td>\n",
       "      <td>Private</td>\n",
       "      <td>338409.0</td>\n",
       "      <td>Bachelors</td>\n",
       "      <td>13</td>\n",
       "      <td>Married-civ-spouse</td>\n",
       "      <td>Prof-specialty</td>\n",
       "      <td>Wife</td>\n",
       "      <td>Black</td>\n",
       "      <td>Female</td>\n",
       "      <td>0.0</td>\n",
       "      <td>0.0</td>\n",
       "      <td>40.0</td>\n",
       "      <td>Cuba</td>\n",
       "      <td>&lt;=50K</td>\n",
       "    </tr>\n",
       "    <tr>\n",
       "      <th>...</th>\n",
       "      <td>...</td>\n",
       "      <td>...</td>\n",
       "      <td>...</td>\n",
       "      <td>...</td>\n",
       "      <td>...</td>\n",
       "      <td>...</td>\n",
       "      <td>...</td>\n",
       "      <td>...</td>\n",
       "      <td>...</td>\n",
       "      <td>...</td>\n",
       "      <td>...</td>\n",
       "      <td>...</td>\n",
       "      <td>...</td>\n",
       "      <td>...</td>\n",
       "      <td>...</td>\n",
       "    </tr>\n",
       "    <tr>\n",
       "      <th>6837</th>\n",
       "      <td>23</td>\n",
       "      <td>State-gov</td>\n",
       "      <td>186634.0</td>\n",
       "      <td>12th</td>\n",
       "      <td>8</td>\n",
       "      <td>Never-married</td>\n",
       "      <td>Exec-managerial</td>\n",
       "      <td>Not-in-family</td>\n",
       "      <td>White</td>\n",
       "      <td>Male</td>\n",
       "      <td>0.0</td>\n",
       "      <td>0.0</td>\n",
       "      <td>40.0</td>\n",
       "      <td>United-States</td>\n",
       "      <td>&lt;=50K</td>\n",
       "    </tr>\n",
       "    <tr>\n",
       "      <th>6838</th>\n",
       "      <td>36</td>\n",
       "      <td>Private</td>\n",
       "      <td>32958.0</td>\n",
       "      <td>Some-college</td>\n",
       "      <td>10</td>\n",
       "      <td>Separated</td>\n",
       "      <td>Adm-clerical</td>\n",
       "      <td>Other-relative</td>\n",
       "      <td>White</td>\n",
       "      <td>Female</td>\n",
       "      <td>0.0</td>\n",
       "      <td>0.0</td>\n",
       "      <td>40.0</td>\n",
       "      <td>United-States</td>\n",
       "      <td>&lt;=50K</td>\n",
       "    </tr>\n",
       "    <tr>\n",
       "      <th>6839</th>\n",
       "      <td>25</td>\n",
       "      <td>Private</td>\n",
       "      <td>254746.0</td>\n",
       "      <td>Bachelors</td>\n",
       "      <td>13</td>\n",
       "      <td>Married-civ-spouse</td>\n",
       "      <td>Prof-specialty</td>\n",
       "      <td>Wife</td>\n",
       "      <td>White</td>\n",
       "      <td>Female</td>\n",
       "      <td>0.0</td>\n",
       "      <td>0.0</td>\n",
       "      <td>40.0</td>\n",
       "      <td>United-States</td>\n",
       "      <td>&lt;=50K</td>\n",
       "    </tr>\n",
       "    <tr>\n",
       "      <th>6840</th>\n",
       "      <td>52</td>\n",
       "      <td>Private</td>\n",
       "      <td>158746.0</td>\n",
       "      <td>HS-grad</td>\n",
       "      <td>9</td>\n",
       "      <td>Never-married</td>\n",
       "      <td>Other-service</td>\n",
       "      <td>Unmarried</td>\n",
       "      <td>White</td>\n",
       "      <td>Male</td>\n",
       "      <td>0.0</td>\n",
       "      <td>0.0</td>\n",
       "      <td>40.0</td>\n",
       "      <td>United-States</td>\n",
       "      <td>&lt;=50K</td>\n",
       "    </tr>\n",
       "    <tr>\n",
       "      <th>6841</th>\n",
       "      <td>35</td>\n",
       "      <td>Self-emp-not-inc</td>\n",
       "      <td>140854.0</td>\n",
       "      <td>HS-grad</td>\n",
       "      <td>9</td>\n",
       "      <td>Married-civ-spouse</td>\n",
       "      <td>Craft-repair</td>\n",
       "      <td>Husband</td>\n",
       "      <td>White</td>\n",
       "      <td>Male</td>\n",
       "      <td>0.0</td>\n",
       "      <td>0.0</td>\n",
       "      <td>40.0</td>\n",
       "      <td>United-States</td>\n",
       "      <td>&lt;=50K</td>\n",
       "    </tr>\n",
       "  </tbody>\n",
       "</table>\n",
       "<p>6305 rows × 15 columns</p>\n",
       "</div>"
      ],
      "text/plain": [
       "      age         workclass    fnlwgt     education  education_num  \\\n",
       "0      39         State-gov   77516.0     Bachelors             13   \n",
       "1      50  Self-emp-not-inc   83311.0     Bachelors             13   \n",
       "2      38           Private  215646.0       HS-grad              9   \n",
       "3      53           Private  234721.0          11th              7   \n",
       "4      28           Private  338409.0     Bachelors             13   \n",
       "...   ...               ...       ...           ...            ...   \n",
       "6837   23         State-gov  186634.0          12th              8   \n",
       "6838   36           Private   32958.0  Some-college             10   \n",
       "6839   25           Private  254746.0     Bachelors             13   \n",
       "6840   52           Private  158746.0       HS-grad              9   \n",
       "6841   35  Self-emp-not-inc  140854.0       HS-grad              9   \n",
       "\n",
       "          marital_status         occupation    relationship   race     sex  \\\n",
       "0          Never-married       Adm-clerical   Not-in-family  White    Male   \n",
       "1     Married-civ-spouse    Exec-managerial         Husband  White    Male   \n",
       "2               Divorced  Handlers-cleaners   Not-in-family  White    Male   \n",
       "3     Married-civ-spouse  Handlers-cleaners         Husband  Black    Male   \n",
       "4     Married-civ-spouse     Prof-specialty            Wife  Black  Female   \n",
       "...                  ...                ...             ...    ...     ...   \n",
       "6837       Never-married    Exec-managerial   Not-in-family  White    Male   \n",
       "6838           Separated       Adm-clerical  Other-relative  White  Female   \n",
       "6839  Married-civ-spouse     Prof-specialty            Wife  White  Female   \n",
       "6840       Never-married      Other-service       Unmarried  White    Male   \n",
       "6841  Married-civ-spouse       Craft-repair         Husband  White    Male   \n",
       "\n",
       "      capital_gain  capital_loss  hours_per_week native_country income_level  \n",
       "0           2174.0           0.0            40.0  United-States        <=50K  \n",
       "1              0.0           0.0            13.0  United-States        <=50K  \n",
       "2              0.0           0.0            40.0  United-States        <=50K  \n",
       "3              0.0           0.0            40.0  United-States        <=50K  \n",
       "4              0.0           0.0            40.0           Cuba        <=50K  \n",
       "...            ...           ...             ...            ...          ...  \n",
       "6837           0.0           0.0            40.0  United-States        <=50K  \n",
       "6838           0.0           0.0            40.0  United-States        <=50K  \n",
       "6839           0.0           0.0            40.0  United-States        <=50K  \n",
       "6840           0.0           0.0            40.0  United-States        <=50K  \n",
       "6841           0.0           0.0            40.0  United-States        <=50K  \n",
       "\n",
       "[6305 rows x 15 columns]"
      ]
     },
     "execution_count": 4,
     "metadata": {},
     "output_type": "execute_result"
    }
   ],
   "source": [
    "list=data.select_dtypes(include=object).columns.tolist()\n",
    "for col in list:\n",
    "    data.loc[data[col]==\"?\", col] = np.nan\n",
    "\n",
    "data=data.dropna()\n",
    "data"
   ]
  },
  {
   "cell_type": "markdown",
   "metadata": {},
   "source": [
    "### applying Ordinal Encoder"
   ]
  },
  {
   "cell_type": "code",
   "execution_count": 5,
   "metadata": {},
   "outputs": [
    {
     "data": {
      "text/html": [
       "<div>\n",
       "<style scoped>\n",
       "    .dataframe tbody tr th:only-of-type {\n",
       "        vertical-align: middle;\n",
       "    }\n",
       "\n",
       "    .dataframe tbody tr th {\n",
       "        vertical-align: top;\n",
       "    }\n",
       "\n",
       "    .dataframe thead th {\n",
       "        text-align: right;\n",
       "    }\n",
       "</style>\n",
       "<table border=\"1\" class=\"dataframe\">\n",
       "  <thead>\n",
       "    <tr style=\"text-align: right;\">\n",
       "      <th></th>\n",
       "      <th>0</th>\n",
       "      <th>1</th>\n",
       "      <th>2</th>\n",
       "      <th>3</th>\n",
       "      <th>4</th>\n",
       "      <th>5</th>\n",
       "      <th>6</th>\n",
       "      <th>7</th>\n",
       "      <th>8</th>\n",
       "      <th>9</th>\n",
       "      <th>10</th>\n",
       "      <th>11</th>\n",
       "      <th>12</th>\n",
       "      <th>13</th>\n",
       "      <th>14</th>\n",
       "    </tr>\n",
       "  </thead>\n",
       "  <tbody>\n",
       "    <tr>\n",
       "      <th>0</th>\n",
       "      <td>22.0</td>\n",
       "      <td>5.0</td>\n",
       "      <td>701.0</td>\n",
       "      <td>9.0</td>\n",
       "      <td>12.0</td>\n",
       "      <td>4.0</td>\n",
       "      <td>0.0</td>\n",
       "      <td>1.0</td>\n",
       "      <td>4.0</td>\n",
       "      <td>1.0</td>\n",
       "      <td>14.0</td>\n",
       "      <td>0.0</td>\n",
       "      <td>38.0</td>\n",
       "      <td>36.0</td>\n",
       "      <td>0.0</td>\n",
       "    </tr>\n",
       "    <tr>\n",
       "      <th>1</th>\n",
       "      <td>33.0</td>\n",
       "      <td>4.0</td>\n",
       "      <td>772.0</td>\n",
       "      <td>9.0</td>\n",
       "      <td>12.0</td>\n",
       "      <td>2.0</td>\n",
       "      <td>3.0</td>\n",
       "      <td>0.0</td>\n",
       "      <td>4.0</td>\n",
       "      <td>1.0</td>\n",
       "      <td>0.0</td>\n",
       "      <td>0.0</td>\n",
       "      <td>12.0</td>\n",
       "      <td>36.0</td>\n",
       "      <td>0.0</td>\n",
       "    </tr>\n",
       "    <tr>\n",
       "      <th>2</th>\n",
       "      <td>21.0</td>\n",
       "      <td>2.0</td>\n",
       "      <td>3755.0</td>\n",
       "      <td>11.0</td>\n",
       "      <td>8.0</td>\n",
       "      <td>0.0</td>\n",
       "      <td>5.0</td>\n",
       "      <td>1.0</td>\n",
       "      <td>4.0</td>\n",
       "      <td>1.0</td>\n",
       "      <td>0.0</td>\n",
       "      <td>0.0</td>\n",
       "      <td>38.0</td>\n",
       "      <td>36.0</td>\n",
       "      <td>0.0</td>\n",
       "    </tr>\n",
       "    <tr>\n",
       "      <th>3</th>\n",
       "      <td>36.0</td>\n",
       "      <td>2.0</td>\n",
       "      <td>4053.0</td>\n",
       "      <td>1.0</td>\n",
       "      <td>6.0</td>\n",
       "      <td>2.0</td>\n",
       "      <td>5.0</td>\n",
       "      <td>0.0</td>\n",
       "      <td>2.0</td>\n",
       "      <td>1.0</td>\n",
       "      <td>0.0</td>\n",
       "      <td>0.0</td>\n",
       "      <td>38.0</td>\n",
       "      <td>36.0</td>\n",
       "      <td>0.0</td>\n",
       "    </tr>\n",
       "    <tr>\n",
       "      <th>4</th>\n",
       "      <td>11.0</td>\n",
       "      <td>2.0</td>\n",
       "      <td>5093.0</td>\n",
       "      <td>9.0</td>\n",
       "      <td>12.0</td>\n",
       "      <td>2.0</td>\n",
       "      <td>9.0</td>\n",
       "      <td>5.0</td>\n",
       "      <td>2.0</td>\n",
       "      <td>0.0</td>\n",
       "      <td>0.0</td>\n",
       "      <td>0.0</td>\n",
       "      <td>38.0</td>\n",
       "      <td>4.0</td>\n",
       "      <td>0.0</td>\n",
       "    </tr>\n",
       "    <tr>\n",
       "      <th>...</th>\n",
       "      <td>...</td>\n",
       "      <td>...</td>\n",
       "      <td>...</td>\n",
       "      <td>...</td>\n",
       "      <td>...</td>\n",
       "      <td>...</td>\n",
       "      <td>...</td>\n",
       "      <td>...</td>\n",
       "      <td>...</td>\n",
       "      <td>...</td>\n",
       "      <td>...</td>\n",
       "      <td>...</td>\n",
       "      <td>...</td>\n",
       "      <td>...</td>\n",
       "      <td>...</td>\n",
       "    </tr>\n",
       "    <tr>\n",
       "      <th>6300</th>\n",
       "      <td>6.0</td>\n",
       "      <td>5.0</td>\n",
       "      <td>2990.0</td>\n",
       "      <td>2.0</td>\n",
       "      <td>7.0</td>\n",
       "      <td>4.0</td>\n",
       "      <td>3.0</td>\n",
       "      <td>1.0</td>\n",
       "      <td>4.0</td>\n",
       "      <td>1.0</td>\n",
       "      <td>0.0</td>\n",
       "      <td>0.0</td>\n",
       "      <td>38.0</td>\n",
       "      <td>36.0</td>\n",
       "      <td>0.0</td>\n",
       "    </tr>\n",
       "    <tr>\n",
       "      <th>6301</th>\n",
       "      <td>19.0</td>\n",
       "      <td>2.0</td>\n",
       "      <td>160.0</td>\n",
       "      <td>15.0</td>\n",
       "      <td>9.0</td>\n",
       "      <td>5.0</td>\n",
       "      <td>0.0</td>\n",
       "      <td>2.0</td>\n",
       "      <td>4.0</td>\n",
       "      <td>0.0</td>\n",
       "      <td>0.0</td>\n",
       "      <td>0.0</td>\n",
       "      <td>38.0</td>\n",
       "      <td>36.0</td>\n",
       "      <td>0.0</td>\n",
       "    </tr>\n",
       "    <tr>\n",
       "      <th>6302</th>\n",
       "      <td>8.0</td>\n",
       "      <td>2.0</td>\n",
       "      <td>4326.0</td>\n",
       "      <td>9.0</td>\n",
       "      <td>12.0</td>\n",
       "      <td>2.0</td>\n",
       "      <td>9.0</td>\n",
       "      <td>5.0</td>\n",
       "      <td>4.0</td>\n",
       "      <td>0.0</td>\n",
       "      <td>0.0</td>\n",
       "      <td>0.0</td>\n",
       "      <td>38.0</td>\n",
       "      <td>36.0</td>\n",
       "      <td>0.0</td>\n",
       "    </tr>\n",
       "    <tr>\n",
       "      <th>6303</th>\n",
       "      <td>35.0</td>\n",
       "      <td>2.0</td>\n",
       "      <td>2208.0</td>\n",
       "      <td>11.0</td>\n",
       "      <td>8.0</td>\n",
       "      <td>4.0</td>\n",
       "      <td>7.0</td>\n",
       "      <td>4.0</td>\n",
       "      <td>4.0</td>\n",
       "      <td>1.0</td>\n",
       "      <td>0.0</td>\n",
       "      <td>0.0</td>\n",
       "      <td>38.0</td>\n",
       "      <td>36.0</td>\n",
       "      <td>0.0</td>\n",
       "    </tr>\n",
       "    <tr>\n",
       "      <th>6304</th>\n",
       "      <td>18.0</td>\n",
       "      <td>4.0</td>\n",
       "      <td>1877.0</td>\n",
       "      <td>11.0</td>\n",
       "      <td>8.0</td>\n",
       "      <td>2.0</td>\n",
       "      <td>2.0</td>\n",
       "      <td>0.0</td>\n",
       "      <td>4.0</td>\n",
       "      <td>1.0</td>\n",
       "      <td>0.0</td>\n",
       "      <td>0.0</td>\n",
       "      <td>38.0</td>\n",
       "      <td>36.0</td>\n",
       "      <td>0.0</td>\n",
       "    </tr>\n",
       "  </tbody>\n",
       "</table>\n",
       "<p>6305 rows × 15 columns</p>\n",
       "</div>"
      ],
      "text/plain": [
       "        0    1       2     3     4    5    6    7    8    9     10   11    12  \\\n",
       "0     22.0  5.0   701.0   9.0  12.0  4.0  0.0  1.0  4.0  1.0  14.0  0.0  38.0   \n",
       "1     33.0  4.0   772.0   9.0  12.0  2.0  3.0  0.0  4.0  1.0   0.0  0.0  12.0   \n",
       "2     21.0  2.0  3755.0  11.0   8.0  0.0  5.0  1.0  4.0  1.0   0.0  0.0  38.0   \n",
       "3     36.0  2.0  4053.0   1.0   6.0  2.0  5.0  0.0  2.0  1.0   0.0  0.0  38.0   \n",
       "4     11.0  2.0  5093.0   9.0  12.0  2.0  9.0  5.0  2.0  0.0   0.0  0.0  38.0   \n",
       "...    ...  ...     ...   ...   ...  ...  ...  ...  ...  ...   ...  ...   ...   \n",
       "6300   6.0  5.0  2990.0   2.0   7.0  4.0  3.0  1.0  4.0  1.0   0.0  0.0  38.0   \n",
       "6301  19.0  2.0   160.0  15.0   9.0  5.0  0.0  2.0  4.0  0.0   0.0  0.0  38.0   \n",
       "6302   8.0  2.0  4326.0   9.0  12.0  2.0  9.0  5.0  4.0  0.0   0.0  0.0  38.0   \n",
       "6303  35.0  2.0  2208.0  11.0   8.0  4.0  7.0  4.0  4.0  1.0   0.0  0.0  38.0   \n",
       "6304  18.0  4.0  1877.0  11.0   8.0  2.0  2.0  0.0  4.0  1.0   0.0  0.0  38.0   \n",
       "\n",
       "        13   14  \n",
       "0     36.0  0.0  \n",
       "1     36.0  0.0  \n",
       "2     36.0  0.0  \n",
       "3     36.0  0.0  \n",
       "4      4.0  0.0  \n",
       "...    ...  ...  \n",
       "6300  36.0  0.0  \n",
       "6301  36.0  0.0  \n",
       "6302  36.0  0.0  \n",
       "6303  36.0  0.0  \n",
       "6304  36.0  0.0  \n",
       "\n",
       "[6305 rows x 15 columns]"
      ]
     },
     "execution_count": 5,
     "metadata": {},
     "output_type": "execute_result"
    }
   ],
   "source": [
    "from sklearn.preprocessing import OrdinalEncoder\n",
    "# define ordinal encoding\n",
    "encoder = OrdinalEncoder()\n",
    "# transform data\n",
    "data_enc = encoder.fit_transform(data)\n",
    "data_enc=pd.DataFrame(data_enc)\n",
    "data_enc"
   ]
  },
  {
   "cell_type": "code",
   "execution_count": 6,
   "metadata": {},
   "outputs": [
    {
     "data": {
      "text/html": [
       "<div>\n",
       "<style scoped>\n",
       "    .dataframe tbody tr th:only-of-type {\n",
       "        vertical-align: middle;\n",
       "    }\n",
       "\n",
       "    .dataframe tbody tr th {\n",
       "        vertical-align: top;\n",
       "    }\n",
       "\n",
       "    .dataframe thead th {\n",
       "        text-align: right;\n",
       "    }\n",
       "</style>\n",
       "<table border=\"1\" class=\"dataframe\">\n",
       "  <thead>\n",
       "    <tr style=\"text-align: right;\">\n",
       "      <th></th>\n",
       "      <th>age</th>\n",
       "      <th>workclass</th>\n",
       "      <th>fnlwgt</th>\n",
       "      <th>education</th>\n",
       "      <th>education_num</th>\n",
       "      <th>marital_status</th>\n",
       "      <th>occupation</th>\n",
       "      <th>relationship</th>\n",
       "      <th>race</th>\n",
       "      <th>sex</th>\n",
       "      <th>capital_gain</th>\n",
       "      <th>capital_loss</th>\n",
       "      <th>hours_per_week</th>\n",
       "      <th>native_country</th>\n",
       "      <th>income_level</th>\n",
       "    </tr>\n",
       "  </thead>\n",
       "  <tbody>\n",
       "    <tr>\n",
       "      <th>0</th>\n",
       "      <td>22.0</td>\n",
       "      <td>5.0</td>\n",
       "      <td>701.0</td>\n",
       "      <td>9.0</td>\n",
       "      <td>12.0</td>\n",
       "      <td>4.0</td>\n",
       "      <td>0.0</td>\n",
       "      <td>1.0</td>\n",
       "      <td>4.0</td>\n",
       "      <td>1.0</td>\n",
       "      <td>14.0</td>\n",
       "      <td>0.0</td>\n",
       "      <td>38.0</td>\n",
       "      <td>36.0</td>\n",
       "      <td>0.0</td>\n",
       "    </tr>\n",
       "    <tr>\n",
       "      <th>1</th>\n",
       "      <td>33.0</td>\n",
       "      <td>4.0</td>\n",
       "      <td>772.0</td>\n",
       "      <td>9.0</td>\n",
       "      <td>12.0</td>\n",
       "      <td>2.0</td>\n",
       "      <td>3.0</td>\n",
       "      <td>0.0</td>\n",
       "      <td>4.0</td>\n",
       "      <td>1.0</td>\n",
       "      <td>0.0</td>\n",
       "      <td>0.0</td>\n",
       "      <td>12.0</td>\n",
       "      <td>36.0</td>\n",
       "      <td>0.0</td>\n",
       "    </tr>\n",
       "    <tr>\n",
       "      <th>2</th>\n",
       "      <td>21.0</td>\n",
       "      <td>2.0</td>\n",
       "      <td>3755.0</td>\n",
       "      <td>11.0</td>\n",
       "      <td>8.0</td>\n",
       "      <td>0.0</td>\n",
       "      <td>5.0</td>\n",
       "      <td>1.0</td>\n",
       "      <td>4.0</td>\n",
       "      <td>1.0</td>\n",
       "      <td>0.0</td>\n",
       "      <td>0.0</td>\n",
       "      <td>38.0</td>\n",
       "      <td>36.0</td>\n",
       "      <td>0.0</td>\n",
       "    </tr>\n",
       "    <tr>\n",
       "      <th>3</th>\n",
       "      <td>36.0</td>\n",
       "      <td>2.0</td>\n",
       "      <td>4053.0</td>\n",
       "      <td>1.0</td>\n",
       "      <td>6.0</td>\n",
       "      <td>2.0</td>\n",
       "      <td>5.0</td>\n",
       "      <td>0.0</td>\n",
       "      <td>2.0</td>\n",
       "      <td>1.0</td>\n",
       "      <td>0.0</td>\n",
       "      <td>0.0</td>\n",
       "      <td>38.0</td>\n",
       "      <td>36.0</td>\n",
       "      <td>0.0</td>\n",
       "    </tr>\n",
       "    <tr>\n",
       "      <th>4</th>\n",
       "      <td>11.0</td>\n",
       "      <td>2.0</td>\n",
       "      <td>5093.0</td>\n",
       "      <td>9.0</td>\n",
       "      <td>12.0</td>\n",
       "      <td>2.0</td>\n",
       "      <td>9.0</td>\n",
       "      <td>5.0</td>\n",
       "      <td>2.0</td>\n",
       "      <td>0.0</td>\n",
       "      <td>0.0</td>\n",
       "      <td>0.0</td>\n",
       "      <td>38.0</td>\n",
       "      <td>4.0</td>\n",
       "      <td>0.0</td>\n",
       "    </tr>\n",
       "  </tbody>\n",
       "</table>\n",
       "</div>"
      ],
      "text/plain": [
       "    age  workclass  fnlwgt  education  education_num  marital_status  \\\n",
       "0  22.0        5.0   701.0        9.0           12.0             4.0   \n",
       "1  33.0        4.0   772.0        9.0           12.0             2.0   \n",
       "2  21.0        2.0  3755.0       11.0            8.0             0.0   \n",
       "3  36.0        2.0  4053.0        1.0            6.0             2.0   \n",
       "4  11.0        2.0  5093.0        9.0           12.0             2.0   \n",
       "\n",
       "   occupation  relationship  race  sex  capital_gain  capital_loss  \\\n",
       "0         0.0           1.0   4.0  1.0          14.0           0.0   \n",
       "1         3.0           0.0   4.0  1.0           0.0           0.0   \n",
       "2         5.0           1.0   4.0  1.0           0.0           0.0   \n",
       "3         5.0           0.0   2.0  1.0           0.0           0.0   \n",
       "4         9.0           5.0   2.0  0.0           0.0           0.0   \n",
       "\n",
       "   hours_per_week  native_country  income_level  \n",
       "0            38.0            36.0           0.0  \n",
       "1            12.0            36.0           0.0  \n",
       "2            38.0            36.0           0.0  \n",
       "3            38.0            36.0           0.0  \n",
       "4            38.0             4.0           0.0  "
      ]
     },
     "execution_count": 6,
     "metadata": {},
     "output_type": "execute_result"
    }
   ],
   "source": [
    "data_enc.columns=['age', 'workclass', 'fnlwgt', 'education', 'education_num',\n",
    "       'marital_status', 'occupation', 'relationship', 'race', 'sex',\n",
    "       'capital_gain', 'capital_loss', 'hours_per_week', 'native_country',\n",
    "       'income_level']\n",
    "data_enc.head()"
   ]
  },
  {
   "cell_type": "code",
   "execution_count": 7,
   "metadata": {},
   "outputs": [],
   "source": [
    "#print metrics function\n",
    "from sklearn import preprocessing\n",
    "from sklearn.model_selection import cross_val_score, cross_val_predict\n",
    "from sklearn.metrics import accuracy_score, classification_report\n",
    "from sklearn.metrics import confusion_matrix, roc_auc_score\n",
    "def print_score(clf, X_train, X_test, y_train, y_test, train=True):\n",
    "    '''\n",
    "    v0.1 Follow the scikit learn library format in terms of input\n",
    "    print the accuracy score, classification report and confusion matrix of classifier\n",
    "    '''\n",
    "    lb = preprocessing.LabelBinarizer()\n",
    "    lb.fit(y_train)\n",
    "    if train:\n",
    "        '''\n",
    "        training performance\n",
    "        '''\n",
    "        res = clf.predict(X_train)\n",
    "        print(\"Train Result:\\n\")\n",
    "        print(\"accuracy score: {0:.4f}\\n\".format(accuracy_score(y_train, \n",
    "                                                                res)))\n",
    "        print(\"Classification Report: \\n {}\\n\".format(classification_report(y_train, \n",
    "                                                                            res)))\n",
    "        print(\"Confusion Matrix: \\n {}\\n\".format(confusion_matrix(y_train, \n",
    "                                                                  res)))\n",
    "        print(\"ROC AUC: {0:.4f}\\n\".format(roc_auc_score(lb.transform(y_train), \n",
    "                                                      lb.transform(res))))\n",
    "\n",
    "        res = cross_val_score(clf, X_train, y_train, cv=10, scoring='accuracy')\n",
    "        print(\"Average Accuracy: \\t {0:.4f}\".format(np.mean(res)))\n",
    "        print(\"Accuracy SD: \\t\\t {0:.4f}\".format(np.std(res)))\n",
    "        \n",
    "    elif train==False:\n",
    "        '''\n",
    "        test performance\n",
    "        '''\n",
    "        res_test = clf.predict(X_test)\n",
    "        print(\"Test Result:\\n\")        \n",
    "        print(\"accuracy score: {0:.4f}\\n\".format(accuracy_score(y_test, \n",
    "                                                                res_test)))\n",
    "        print(\"Classification Report: \\n {}\\n\".format(classification_report(y_test, \n",
    "                                                                            res_test)))\n",
    "        print(\"Confusion Matrix: \\n {}\\n\".format(confusion_matrix(y_test, \n",
    "                                                                  res_test)))   \n",
    "        print(\"ROC AUC: {0:.4f}\\n\".format(roc_auc_score(lb.transform(y_test), \n",
    "                                                      lb.transform(res_test))))"
   ]
  },
  {
   "cell_type": "code",
   "execution_count": 8,
   "metadata": {},
   "outputs": [
    {
     "data": {
      "text/plain": [
       "0       0.0\n",
       "1       0.0\n",
       "2       0.0\n",
       "3       0.0\n",
       "4       0.0\n",
       "       ... \n",
       "6300    0.0\n",
       "6301    0.0\n",
       "6302    0.0\n",
       "6303    0.0\n",
       "6304    0.0\n",
       "Name: income_level, Length: 6305, dtype: float64"
      ]
     },
     "execution_count": 8,
     "metadata": {},
     "output_type": "execute_result"
    }
   ],
   "source": [
    "#data_enc=data_enc.drop(\"fnlwgt\",axis=1)\n",
    "data_enc\n",
    "data_enc[\"income_level\"] "
   ]
  },
  {
   "cell_type": "code",
   "execution_count": 9,
   "metadata": {},
   "outputs": [],
   "source": [
    "X = data_enc.drop(['income_level'], axis=1)\n",
    "X_col = X.columns\n",
    "\n",
    "y = data_enc['income_level']\n",
    "from sklearn.model_selection import train_test_split\n",
    "X_train, X_test, y_train, y_test = train_test_split(data_enc, y, train_size=0.8,random_state=42)"
   ]
  },
  {
   "cell_type": "markdown",
   "metadata": {},
   "source": [
    "### Applying Naive Bayes"
   ]
  },
  {
   "cell_type": "code",
   "execution_count": 10,
   "metadata": {},
   "outputs": [
    {
     "data": {
      "text/plain": [
       "GaussianNB()"
      ]
     },
     "execution_count": 10,
     "metadata": {},
     "output_type": "execute_result"
    }
   ],
   "source": [
    "from sklearn.naive_bayes import GaussianNB\n",
    "from sklearn.metrics import accuracy_score\n",
    "model = GaussianNB()\n",
    "model.fit(X_train, y_train)"
   ]
  },
  {
   "cell_type": "code",
   "execution_count": 11,
   "metadata": {},
   "outputs": [
    {
     "name": "stdout",
     "output_type": "stream",
     "text": [
      "Train Result:\n",
      "\n",
      "accuracy score: 1.0000\n",
      "\n",
      "Classification Report: \n",
      "               precision    recall  f1-score   support\n",
      "\n",
      "         0.0       1.00      1.00      1.00      3792\n",
      "         1.0       1.00      1.00      1.00      1252\n",
      "\n",
      "    accuracy                           1.00      5044\n",
      "   macro avg       1.00      1.00      1.00      5044\n",
      "weighted avg       1.00      1.00      1.00      5044\n",
      "\n",
      "\n",
      "Confusion Matrix: \n",
      " [[3792    0]\n",
      " [   0 1252]]\n",
      "\n",
      "ROC AUC: 1.0000\n",
      "\n",
      "Average Accuracy: \t 1.0000\n",
      "Accuracy SD: \t\t 0.0000\n",
      "Test Result:\n",
      "\n",
      "accuracy score: 1.0000\n",
      "\n",
      "Classification Report: \n",
      "               precision    recall  f1-score   support\n",
      "\n",
      "         0.0       1.00      1.00      1.00       941\n",
      "         1.0       1.00      1.00      1.00       320\n",
      "\n",
      "    accuracy                           1.00      1261\n",
      "   macro avg       1.00      1.00      1.00      1261\n",
      "weighted avg       1.00      1.00      1.00      1261\n",
      "\n",
      "\n",
      "Confusion Matrix: \n",
      " [[941   0]\n",
      " [  0 320]]\n",
      "\n",
      "ROC AUC: 1.0000\n",
      "\n"
     ]
    }
   ],
   "source": [
    "print_score(model, X_train, X_test, y_train, y_test, train=True)\n",
    "print_score(model, X_train, X_test, y_train, y_test, train=False)"
   ]
  },
  {
   "cell_type": "markdown",
   "metadata": {},
   "source": [
    "### applying KNN"
   ]
  },
  {
   "cell_type": "code",
   "execution_count": 12,
   "metadata": {},
   "outputs": [
    {
     "name": "stdout",
     "output_type": "stream",
     "text": [
      "Train Result:\n",
      "\n",
      "accuracy score: 0.8311\n",
      "\n",
      "Classification Report: \n",
      "               precision    recall  f1-score   support\n",
      "\n",
      "         0.0       0.85      0.94      0.89      3792\n",
      "         1.0       0.74      0.49      0.59      1252\n",
      "\n",
      "    accuracy                           0.83      5044\n",
      "   macro avg       0.80      0.72      0.74      5044\n",
      "weighted avg       0.82      0.83      0.82      5044\n",
      "\n",
      "\n",
      "Confusion Matrix: \n",
      " [[3582  210]\n",
      " [ 642  610]]\n",
      "\n",
      "ROC AUC: 0.7159\n",
      "\n",
      "Average Accuracy: \t 0.7603\n",
      "Accuracy SD: \t\t 0.0068\n",
      "Test Result:\n",
      "\n",
      "accuracy score: 0.7692\n",
      "\n",
      "Classification Report: \n",
      "               precision    recall  f1-score   support\n",
      "\n",
      "         0.0       0.80      0.91      0.86       941\n",
      "         1.0       0.58      0.34      0.43       320\n",
      "\n",
      "    accuracy                           0.77      1261\n",
      "   macro avg       0.69      0.63      0.64      1261\n",
      "weighted avg       0.75      0.77      0.75      1261\n",
      "\n",
      "\n",
      "Confusion Matrix: \n",
      " [[861  80]\n",
      " [211 109]]\n",
      "\n",
      "ROC AUC: 0.6278\n",
      "\n"
     ]
    }
   ],
   "source": [
    "from sklearn.neighbors import KNeighborsClassifier\n",
    "knn = KNeighborsClassifier(n_neighbors=5,\n",
    "                           p=2, metric='minkowski')\n",
    "knn.fit(X_train, y_train)\n",
    "print_score(knn, X_train, X_test, y_train, y_test, train=True)\n",
    "print_score(knn, X_train, X_test, y_train, y_test, train=False)"
   ]
  },
  {
   "cell_type": "markdown",
   "metadata": {},
   "source": [
    "### applying SVM"
   ]
  },
  {
   "cell_type": "code",
   "execution_count": 13,
   "metadata": {},
   "outputs": [
    {
     "name": "stdout",
     "output_type": "stream",
     "text": [
      "Train Result:\n",
      "\n",
      "accuracy score: 0.7518\n",
      "\n",
      "Classification Report: \n",
      "               precision    recall  f1-score   support\n",
      "\n",
      "         0.0       0.75      1.00      0.86      3792\n",
      "         1.0       0.00      0.00      0.00      1252\n",
      "\n",
      "    accuracy                           0.75      5044\n",
      "   macro avg       0.38      0.50      0.43      5044\n",
      "weighted avg       0.57      0.75      0.65      5044\n",
      "\n",
      "\n",
      "Confusion Matrix: \n",
      " [[3792    0]\n",
      " [1252    0]]\n",
      "\n",
      "ROC AUC: 0.5000\n",
      "\n"
     ]
    },
    {
     "name": "stderr",
     "output_type": "stream",
     "text": [
      "c:\\users\\admin\\appdata\\local\\programs\\python\\python37\\lib\\site-packages\\sklearn\\metrics\\_classification.py:1221: UndefinedMetricWarning: Precision and F-score are ill-defined and being set to 0.0 in labels with no predicted samples. Use `zero_division` parameter to control this behavior.\n",
      "  _warn_prf(average, modifier, msg_start, len(result))\n"
     ]
    },
    {
     "name": "stdout",
     "output_type": "stream",
     "text": [
      "Average Accuracy: \t 0.7518\n",
      "Accuracy SD: \t\t 0.0007\n",
      "Test Result:\n",
      "\n",
      "accuracy score: 0.7462\n",
      "\n",
      "Classification Report: \n",
      "               precision    recall  f1-score   support\n",
      "\n",
      "         0.0       0.75      1.00      0.85       941\n",
      "         1.0       0.00      0.00      0.00       320\n",
      "\n",
      "    accuracy                           0.75      1261\n",
      "   macro avg       0.37      0.50      0.43      1261\n",
      "weighted avg       0.56      0.75      0.64      1261\n",
      "\n",
      "\n",
      "Confusion Matrix: \n",
      " [[941   0]\n",
      " [320   0]]\n",
      "\n",
      "ROC AUC: 0.5000\n",
      "\n"
     ]
    },
    {
     "name": "stderr",
     "output_type": "stream",
     "text": [
      "c:\\users\\admin\\appdata\\local\\programs\\python\\python37\\lib\\site-packages\\sklearn\\metrics\\_classification.py:1221: UndefinedMetricWarning: Precision and F-score are ill-defined and being set to 0.0 in labels with no predicted samples. Use `zero_division` parameter to control this behavior.\n",
      "  _warn_prf(average, modifier, msg_start, len(result))\n"
     ]
    }
   ],
   "source": [
    "from sklearn.svm import SVC\n",
    "svm = SVC(kernel='rbf', random_state = 42)\n",
    "svm.fit(X_train,y_train)\n",
    "print_score(svm, X_train, X_test, y_train, y_test, train=True)\n",
    "print_score(svm, X_train, X_test, y_train, y_test, train=False)"
   ]
  },
  {
   "cell_type": "markdown",
   "metadata": {},
   "source": [
    "### Implementing Decision Tree Classifier"
   ]
  },
  {
   "cell_type": "code",
   "execution_count": 14,
   "metadata": {},
   "outputs": [
    {
     "data": {
      "text/plain": [
       "DecisionTreeClassifier(max_depth=3, min_samples_leaf=5, random_state=42)"
      ]
     },
     "execution_count": 14,
     "metadata": {},
     "output_type": "execute_result"
    }
   ],
   "source": [
    "from sklearn.tree import DecisionTreeClassifier \n",
    "dec_tr = DecisionTreeClassifier(random_state = 42,max_depth=3, min_samples_leaf=5) \n",
    "# Performing training \n",
    "dec_tr.fit(X_train, y_train) "
   ]
  },
  {
   "cell_type": "code",
   "execution_count": 15,
   "metadata": {},
   "outputs": [
    {
     "name": "stdout",
     "output_type": "stream",
     "text": [
      "Train Result:\n",
      "\n",
      "accuracy score: 1.0000\n",
      "\n",
      "Classification Report: \n",
      "               precision    recall  f1-score   support\n",
      "\n",
      "         0.0       1.00      1.00      1.00      3792\n",
      "         1.0       1.00      1.00      1.00      1252\n",
      "\n",
      "    accuracy                           1.00      5044\n",
      "   macro avg       1.00      1.00      1.00      5044\n",
      "weighted avg       1.00      1.00      1.00      5044\n",
      "\n",
      "\n",
      "Confusion Matrix: \n",
      " [[3792    0]\n",
      " [   0 1252]]\n",
      "\n",
      "ROC AUC: 1.0000\n",
      "\n",
      "Average Accuracy: \t 1.0000\n",
      "Accuracy SD: \t\t 0.0000\n",
      "Test Result:\n",
      "\n",
      "accuracy score: 1.0000\n",
      "\n",
      "Classification Report: \n",
      "               precision    recall  f1-score   support\n",
      "\n",
      "         0.0       1.00      1.00      1.00       941\n",
      "         1.0       1.00      1.00      1.00       320\n",
      "\n",
      "    accuracy                           1.00      1261\n",
      "   macro avg       1.00      1.00      1.00      1261\n",
      "weighted avg       1.00      1.00      1.00      1261\n",
      "\n",
      "\n",
      "Confusion Matrix: \n",
      " [[941   0]\n",
      " [  0 320]]\n",
      "\n",
      "ROC AUC: 1.0000\n",
      "\n"
     ]
    }
   ],
   "source": [
    "print_score(dec_tr, X_train, X_test, y_train, y_test, train=True)\n",
    "print_score(dec_tr, X_train, X_test, y_train, y_test, train=False)"
   ]
  },
  {
   "cell_type": "markdown",
   "metadata": {},
   "source": [
    "### Implementing gini and entropy criterion"
   ]
  },
  {
   "cell_type": "code",
   "execution_count": 16,
   "metadata": {},
   "outputs": [],
   "source": [
    "def train_using_gini(X_train, X_test, y_train): \n",
    "  \n",
    "    # Creating the classifier object \n",
    "    clf_gini = DecisionTreeClassifier(criterion = \"gini\", \n",
    "            random_state = 100,max_depth=3, min_samples_leaf=5) \n",
    "  \n",
    "    # Performing training \n",
    "    clf_gini.fit(X_train, y_train) \n",
    "    return clf_gini \n",
    "      \n",
    "# Function to perform training with entropy. \n",
    "def train_using_entropy(X_train, X_test, y_train): \n",
    "  \n",
    "    # Decision tree with entropy \n",
    "    clf_entropy = DecisionTreeClassifier( \n",
    "            criterion = \"entropy\", random_state = 100, \n",
    "            max_depth =3, min_samples_leaf = 5) \n",
    "  \n",
    "    # Performing training \n",
    "    clf_entropy.fit(X_train, y_train) \n",
    "    return clf_entropy \n",
    "  \n",
    "#Function to make predictions \n",
    "def prediction(X_test, clf_object): \n",
    "  \n",
    "    # Predicton on test with giniIndex \n",
    "    y_pred = clf_object.predict(X_test) \n",
    "    print(\"Predicted values:\") \n",
    "    print(y_pred) \n",
    "    return y_pred \n",
    "      \n",
    "# Function to calculate accuracy \n",
    "def cal_accuracy(y_test, y_pred): \n",
    "      \n",
    "    print(\"Confusion Matrix: \", \n",
    "        confusion_matrix(y_test, y_pred)) \n",
    "      \n",
    "    print (\"Accuracy : \", \n",
    "    accuracy_score(y_test,y_pred)*100) \n",
    "      \n",
    "    print(\"Report : \", \n",
    "    classification_report(y_test, y_pred)) "
   ]
  },
  {
   "cell_type": "code",
   "execution_count": 17,
   "metadata": {},
   "outputs": [
    {
     "name": "stdout",
     "output_type": "stream",
     "text": [
      "Results Using Gini Index:\n",
      "Predicted values:\n",
      "[0. 0. 0. ... 1. 0. 1.]\n",
      "Confusion Matrix:  [[941   0]\n",
      " [  0 320]]\n",
      "Accuracy :  100.0\n",
      "Report :                precision    recall  f1-score   support\n",
      "\n",
      "         0.0       1.00      1.00      1.00       941\n",
      "         1.0       1.00      1.00      1.00       320\n",
      "\n",
      "    accuracy                           1.00      1261\n",
      "   macro avg       1.00      1.00      1.00      1261\n",
      "weighted avg       1.00      1.00      1.00      1261\n",
      "\n",
      "Results Using Entropy:\n",
      "Predicted values:\n",
      "[0. 0. 0. ... 1. 0. 1.]\n",
      "Confusion Matrix:  [[941   0]\n",
      " [  0 320]]\n",
      "Accuracy :  100.0\n",
      "Report :                precision    recall  f1-score   support\n",
      "\n",
      "         0.0       1.00      1.00      1.00       941\n",
      "         1.0       1.00      1.00      1.00       320\n",
      "\n",
      "    accuracy                           1.00      1261\n",
      "   macro avg       1.00      1.00      1.00      1261\n",
      "weighted avg       1.00      1.00      1.00      1261\n",
      "\n"
     ]
    }
   ],
   "source": [
    "clf_gini = train_using_gini(X_train, X_test, y_train) \n",
    "clf_entropy = train_using_entropy(X_train, X_test, y_train) \n",
    "      \n",
    "print(\"Results Using Gini Index:\") \n",
    "    \n",
    "y_pred_gini = prediction(X_test, clf_gini) \n",
    "cal_accuracy(y_test, y_pred_gini) \n",
    "      \n",
    "print(\"Results Using Entropy:\") \n",
    "\n",
    "y_pred_entropy = prediction(X_test, clf_entropy) \n",
    "cal_accuracy(y_test, y_pred_entropy) "
   ]
  },
  {
   "cell_type": "markdown",
   "metadata": {},
   "source": [
    "### implementing random forest with 1000 decision tree"
   ]
  },
  {
   "cell_type": "code",
   "execution_count": 18,
   "metadata": {},
   "outputs": [],
   "source": [
    "# Import the model we are using\n",
    "from sklearn.ensemble import RandomForestRegressor# Instantiate model with 1000 decision trees\n",
    "rf = RandomForestRegressor(n_estimators = 1000, random_state = 42)# Train the model on training data\n",
    "rf.fit(X_train, y_train);"
   ]
  },
  {
   "cell_type": "code",
   "execution_count": 19,
   "metadata": {},
   "outputs": [
    {
     "name": "stdout",
     "output_type": "stream",
     "text": [
      "Train Result:\n",
      "\n",
      "accuracy score: 1.0000\n",
      "\n",
      "Classification Report: \n",
      "               precision    recall  f1-score   support\n",
      "\n",
      "         0.0       1.00      1.00      1.00      3792\n",
      "         1.0       1.00      1.00      1.00      1252\n",
      "\n",
      "    accuracy                           1.00      5044\n",
      "   macro avg       1.00      1.00      1.00      5044\n",
      "weighted avg       1.00      1.00      1.00      5044\n",
      "\n",
      "\n",
      "Confusion Matrix: \n",
      " [[3792    0]\n",
      " [   0 1252]]\n",
      "\n",
      "ROC AUC: 1.0000\n",
      "\n",
      "Average Accuracy: \t 1.0000\n",
      "Accuracy SD: \t\t 0.0000\n",
      "Test Result:\n",
      "\n",
      "accuracy score: 1.0000\n",
      "\n",
      "Classification Report: \n",
      "               precision    recall  f1-score   support\n",
      "\n",
      "         0.0       1.00      1.00      1.00       941\n",
      "         1.0       1.00      1.00      1.00       320\n",
      "\n",
      "    accuracy                           1.00      1261\n",
      "   macro avg       1.00      1.00      1.00      1261\n",
      "weighted avg       1.00      1.00      1.00      1261\n",
      "\n",
      "\n",
      "Confusion Matrix: \n",
      " [[941   0]\n",
      " [  0 320]]\n",
      "\n",
      "ROC AUC: 1.0000\n",
      "\n"
     ]
    }
   ],
   "source": [
    "print_score(rf, X_train, X_test, y_train, y_test, train=True)\n",
    "print_score(rf, X_train, X_test, y_train, y_test, train=False)"
   ]
  },
  {
   "cell_type": "markdown",
   "metadata": {},
   "source": [
    "### Bagging"
   ]
  },
  {
   "cell_type": "code",
   "execution_count": 20,
   "metadata": {},
   "outputs": [
    {
     "data": {
      "text/plain": [
       "BaggingClassifier(n_estimators=1000, n_jobs=-1, oob_score=True, random_state=42)"
      ]
     },
     "execution_count": 20,
     "metadata": {},
     "output_type": "execute_result"
    }
   ],
   "source": [
    "#bagging take a lot more time than others\n",
    "from sklearn.ensemble import BaggingClassifier\n",
    "bag_clf = BaggingClassifier(n_estimators=1000,\n",
    "                            bootstrap=True, oob_score=True,\n",
    "                            n_jobs=-1, random_state=42)\n",
    "bag_clf.fit(X_train, y_train)"
   ]
  },
  {
   "cell_type": "code",
   "execution_count": 21,
   "metadata": {},
   "outputs": [
    {
     "name": "stdout",
     "output_type": "stream",
     "text": [
      "Train Result:\n",
      "\n",
      "accuracy score: 1.0000\n",
      "\n",
      "Classification Report: \n",
      "               precision    recall  f1-score   support\n",
      "\n",
      "         0.0       1.00      1.00      1.00      3792\n",
      "         1.0       1.00      1.00      1.00      1252\n",
      "\n",
      "    accuracy                           1.00      5044\n",
      "   macro avg       1.00      1.00      1.00      5044\n",
      "weighted avg       1.00      1.00      1.00      5044\n",
      "\n",
      "\n",
      "Confusion Matrix: \n",
      " [[3792    0]\n",
      " [   0 1252]]\n",
      "\n",
      "ROC AUC: 1.0000\n",
      "\n",
      "Average Accuracy: \t 1.0000\n",
      "Accuracy SD: \t\t 0.0000\n",
      "Test Result:\n",
      "\n",
      "accuracy score: 1.0000\n",
      "\n",
      "Classification Report: \n",
      "               precision    recall  f1-score   support\n",
      "\n",
      "         0.0       1.00      1.00      1.00       941\n",
      "         1.0       1.00      1.00      1.00       320\n",
      "\n",
      "    accuracy                           1.00      1261\n",
      "   macro avg       1.00      1.00      1.00      1261\n",
      "weighted avg       1.00      1.00      1.00      1261\n",
      "\n",
      "\n",
      "Confusion Matrix: \n",
      " [[941   0]\n",
      " [  0 320]]\n",
      "\n",
      "ROC AUC: 1.0000\n",
      "\n"
     ]
    }
   ],
   "source": [
    "print_score(bag_clf, X_train, X_test, y_train, y_test, train=True)\n",
    "print_score(bag_clf, X_train, X_test, y_train, y_test, train=False)"
   ]
  },
  {
   "cell_type": "markdown",
   "metadata": {},
   "source": [
    "### Gradient Boosting Algorithm"
   ]
  },
  {
   "cell_type": "code",
   "execution_count": 22,
   "metadata": {},
   "outputs": [
    {
     "data": {
      "text/plain": [
       "GradientBoostingClassifier()"
      ]
     },
     "execution_count": 22,
     "metadata": {},
     "output_type": "execute_result"
    }
   ],
   "source": [
    "from sklearn.ensemble import GradientBoostingClassifier\n",
    "gradient_boost= GradientBoostingClassifier(n_estimators=100)\n",
    "gradient_boost.fit(X_train, y_train)"
   ]
  },
  {
   "cell_type": "code",
   "execution_count": 23,
   "metadata": {},
   "outputs": [
    {
     "name": "stdout",
     "output_type": "stream",
     "text": [
      "Train Result:\n",
      "\n",
      "accuracy score: 1.0000\n",
      "\n",
      "Classification Report: \n",
      "               precision    recall  f1-score   support\n",
      "\n",
      "         0.0       1.00      1.00      1.00      3792\n",
      "         1.0       1.00      1.00      1.00      1252\n",
      "\n",
      "    accuracy                           1.00      5044\n",
      "   macro avg       1.00      1.00      1.00      5044\n",
      "weighted avg       1.00      1.00      1.00      5044\n",
      "\n",
      "\n",
      "Confusion Matrix: \n",
      " [[3792    0]\n",
      " [   0 1252]]\n",
      "\n",
      "ROC AUC: 1.0000\n",
      "\n",
      "Average Accuracy: \t 1.0000\n",
      "Accuracy SD: \t\t 0.0000\n",
      "Test Result:\n",
      "\n",
      "accuracy score: 1.0000\n",
      "\n",
      "Classification Report: \n",
      "               precision    recall  f1-score   support\n",
      "\n",
      "         0.0       1.00      1.00      1.00       941\n",
      "         1.0       1.00      1.00      1.00       320\n",
      "\n",
      "    accuracy                           1.00      1261\n",
      "   macro avg       1.00      1.00      1.00      1261\n",
      "weighted avg       1.00      1.00      1.00      1261\n",
      "\n",
      "\n",
      "Confusion Matrix: \n",
      " [[941   0]\n",
      " [  0 320]]\n",
      "\n",
      "ROC AUC: 1.0000\n",
      "\n"
     ]
    }
   ],
   "source": [
    "print_score(gradient_boost, X_train, X_test, y_train, y_test, train=True)\n",
    "print_score(gradient_boost, X_train, X_test, y_train, y_test, train=False)"
   ]
  },
  {
   "cell_type": "markdown",
   "metadata": {},
   "source": [
    "### XG Boost"
   ]
  },
  {
   "cell_type": "code",
   "execution_count": 24,
   "metadata": {},
   "outputs": [],
   "source": [
    "import xgboost as xgb"
   ]
  },
  {
   "cell_type": "code",
   "execution_count": 25,
   "metadata": {},
   "outputs": [
    {
     "name": "stdout",
     "output_type": "stream",
     "text": [
      "Train Result:\n",
      "\n",
      "accuracy score: 1.0000\n",
      "\n",
      "Classification Report: \n",
      "               precision    recall  f1-score   support\n",
      "\n",
      "         0.0       1.00      1.00      1.00      3792\n",
      "         1.0       1.00      1.00      1.00      1252\n",
      "\n",
      "    accuracy                           1.00      5044\n",
      "   macro avg       1.00      1.00      1.00      5044\n",
      "weighted avg       1.00      1.00      1.00      5044\n",
      "\n",
      "\n",
      "Confusion Matrix: \n",
      " [[3792    0]\n",
      " [   0 1252]]\n",
      "\n",
      "ROC AUC: 1.0000\n",
      "\n",
      "Average Accuracy: \t 1.0000\n",
      "Accuracy SD: \t\t 0.0000\n",
      "Test Result:\n",
      "\n",
      "accuracy score: 1.0000\n",
      "\n",
      "Classification Report: \n",
      "               precision    recall  f1-score   support\n",
      "\n",
      "         0.0       1.00      1.00      1.00       941\n",
      "         1.0       1.00      1.00      1.00       320\n",
      "\n",
      "    accuracy                           1.00      1261\n",
      "   macro avg       1.00      1.00      1.00      1261\n",
      "weighted avg       1.00      1.00      1.00      1261\n",
      "\n",
      "\n",
      "Confusion Matrix: \n",
      " [[941   0]\n",
      " [  0 320]]\n",
      "\n",
      "ROC AUC: 1.0000\n",
      "\n"
     ]
    }
   ],
   "source": [
    "xgb_model = xgb.XGBClassifier(learning_rate=0.1,n_estimators=200,objective='binary:logistic',nthread= 4,n_jobs= 4,base_score= 0.6)\n",
    "xgb_model.fit(X_train, y_train)\n",
    "print_score(xgb_model, X_train, X_test, y_train, y_test, train=True)\n",
    "print_score(xgb_model, X_train, X_test, y_train, y_test, train=False)"
   ]
  },
  {
   "cell_type": "code",
   "execution_count": null,
   "metadata": {},
   "outputs": [],
   "source": []
  },
  {
   "cell_type": "markdown",
   "metadata": {},
   "source": [
    "# With more preprocessing"
   ]
  },
  {
   "cell_type": "code",
   "execution_count": 26,
   "metadata": {},
   "outputs": [
    {
     "data": {
      "text/plain": [
       "0       <50K\n",
       "1       <50K\n",
       "2       <50K\n",
       "3       <50K\n",
       "4       <50K\n",
       "        ... \n",
       "6837    <50K\n",
       "6838    <50K\n",
       "6839    <50K\n",
       "6840    <50K\n",
       "6841    <50K\n",
       "Name: income_level, Length: 6305, dtype: object"
      ]
     },
     "execution_count": 26,
     "metadata": {},
     "output_type": "execute_result"
    }
   ],
   "source": [
    "data[\"income_level\"]= data[\"income_level\"].str.replace(\"=\", \"\") \n",
    "data[\"income_level\"]"
   ]
  },
  {
   "cell_type": "code",
   "execution_count": 27,
   "metadata": {},
   "outputs": [
    {
     "data": {
      "text/html": [
       "<div>\n",
       "<style scoped>\n",
       "    .dataframe tbody tr th:only-of-type {\n",
       "        vertical-align: middle;\n",
       "    }\n",
       "\n",
       "    .dataframe tbody tr th {\n",
       "        vertical-align: top;\n",
       "    }\n",
       "\n",
       "    .dataframe thead th {\n",
       "        text-align: right;\n",
       "    }\n",
       "</style>\n",
       "<table border=\"1\" class=\"dataframe\">\n",
       "  <thead>\n",
       "    <tr style=\"text-align: right;\">\n",
       "      <th></th>\n",
       "      <th>age</th>\n",
       "      <th>workclass</th>\n",
       "      <th>education</th>\n",
       "      <th>education_num</th>\n",
       "      <th>marital_status</th>\n",
       "      <th>occupation</th>\n",
       "      <th>relationship</th>\n",
       "      <th>race</th>\n",
       "      <th>sex</th>\n",
       "      <th>capital_gain</th>\n",
       "      <th>capital_loss</th>\n",
       "      <th>hours_per_week</th>\n",
       "      <th>native_country</th>\n",
       "      <th>income_level</th>\n",
       "    </tr>\n",
       "  </thead>\n",
       "  <tbody>\n",
       "    <tr>\n",
       "      <th>0</th>\n",
       "      <td>39</td>\n",
       "      <td>State-gov</td>\n",
       "      <td>Bachelors</td>\n",
       "      <td>13</td>\n",
       "      <td>Never-married</td>\n",
       "      <td>Adm-clerical</td>\n",
       "      <td>Not-in-family</td>\n",
       "      <td>White</td>\n",
       "      <td>Male</td>\n",
       "      <td>2174.0</td>\n",
       "      <td>0.0</td>\n",
       "      <td>40.0</td>\n",
       "      <td>United-States</td>\n",
       "      <td>&lt;50K</td>\n",
       "    </tr>\n",
       "    <tr>\n",
       "      <th>1</th>\n",
       "      <td>50</td>\n",
       "      <td>Self-emp-not-inc</td>\n",
       "      <td>Bachelors</td>\n",
       "      <td>13</td>\n",
       "      <td>Married-civ-spouse</td>\n",
       "      <td>Exec-managerial</td>\n",
       "      <td>Husband</td>\n",
       "      <td>White</td>\n",
       "      <td>Male</td>\n",
       "      <td>0.0</td>\n",
       "      <td>0.0</td>\n",
       "      <td>13.0</td>\n",
       "      <td>United-States</td>\n",
       "      <td>&lt;50K</td>\n",
       "    </tr>\n",
       "    <tr>\n",
       "      <th>2</th>\n",
       "      <td>38</td>\n",
       "      <td>Private</td>\n",
       "      <td>HS-grad</td>\n",
       "      <td>9</td>\n",
       "      <td>Divorced</td>\n",
       "      <td>Handlers-cleaners</td>\n",
       "      <td>Not-in-family</td>\n",
       "      <td>White</td>\n",
       "      <td>Male</td>\n",
       "      <td>0.0</td>\n",
       "      <td>0.0</td>\n",
       "      <td>40.0</td>\n",
       "      <td>United-States</td>\n",
       "      <td>&lt;50K</td>\n",
       "    </tr>\n",
       "    <tr>\n",
       "      <th>3</th>\n",
       "      <td>53</td>\n",
       "      <td>Private</td>\n",
       "      <td>11th</td>\n",
       "      <td>7</td>\n",
       "      <td>Married-civ-spouse</td>\n",
       "      <td>Handlers-cleaners</td>\n",
       "      <td>Husband</td>\n",
       "      <td>Black</td>\n",
       "      <td>Male</td>\n",
       "      <td>0.0</td>\n",
       "      <td>0.0</td>\n",
       "      <td>40.0</td>\n",
       "      <td>United-States</td>\n",
       "      <td>&lt;50K</td>\n",
       "    </tr>\n",
       "    <tr>\n",
       "      <th>4</th>\n",
       "      <td>28</td>\n",
       "      <td>Private</td>\n",
       "      <td>Bachelors</td>\n",
       "      <td>13</td>\n",
       "      <td>Married-civ-spouse</td>\n",
       "      <td>Prof-specialty</td>\n",
       "      <td>Wife</td>\n",
       "      <td>Black</td>\n",
       "      <td>Female</td>\n",
       "      <td>0.0</td>\n",
       "      <td>0.0</td>\n",
       "      <td>40.0</td>\n",
       "      <td>Cuba</td>\n",
       "      <td>&lt;50K</td>\n",
       "    </tr>\n",
       "    <tr>\n",
       "      <th>...</th>\n",
       "      <td>...</td>\n",
       "      <td>...</td>\n",
       "      <td>...</td>\n",
       "      <td>...</td>\n",
       "      <td>...</td>\n",
       "      <td>...</td>\n",
       "      <td>...</td>\n",
       "      <td>...</td>\n",
       "      <td>...</td>\n",
       "      <td>...</td>\n",
       "      <td>...</td>\n",
       "      <td>...</td>\n",
       "      <td>...</td>\n",
       "      <td>...</td>\n",
       "    </tr>\n",
       "    <tr>\n",
       "      <th>6837</th>\n",
       "      <td>23</td>\n",
       "      <td>State-gov</td>\n",
       "      <td>12th</td>\n",
       "      <td>8</td>\n",
       "      <td>Never-married</td>\n",
       "      <td>Exec-managerial</td>\n",
       "      <td>Not-in-family</td>\n",
       "      <td>White</td>\n",
       "      <td>Male</td>\n",
       "      <td>0.0</td>\n",
       "      <td>0.0</td>\n",
       "      <td>40.0</td>\n",
       "      <td>United-States</td>\n",
       "      <td>&lt;50K</td>\n",
       "    </tr>\n",
       "    <tr>\n",
       "      <th>6838</th>\n",
       "      <td>36</td>\n",
       "      <td>Private</td>\n",
       "      <td>Some-college</td>\n",
       "      <td>10</td>\n",
       "      <td>Separated</td>\n",
       "      <td>Adm-clerical</td>\n",
       "      <td>Other-relative</td>\n",
       "      <td>White</td>\n",
       "      <td>Female</td>\n",
       "      <td>0.0</td>\n",
       "      <td>0.0</td>\n",
       "      <td>40.0</td>\n",
       "      <td>United-States</td>\n",
       "      <td>&lt;50K</td>\n",
       "    </tr>\n",
       "    <tr>\n",
       "      <th>6839</th>\n",
       "      <td>25</td>\n",
       "      <td>Private</td>\n",
       "      <td>Bachelors</td>\n",
       "      <td>13</td>\n",
       "      <td>Married-civ-spouse</td>\n",
       "      <td>Prof-specialty</td>\n",
       "      <td>Wife</td>\n",
       "      <td>White</td>\n",
       "      <td>Female</td>\n",
       "      <td>0.0</td>\n",
       "      <td>0.0</td>\n",
       "      <td>40.0</td>\n",
       "      <td>United-States</td>\n",
       "      <td>&lt;50K</td>\n",
       "    </tr>\n",
       "    <tr>\n",
       "      <th>6840</th>\n",
       "      <td>52</td>\n",
       "      <td>Private</td>\n",
       "      <td>HS-grad</td>\n",
       "      <td>9</td>\n",
       "      <td>Never-married</td>\n",
       "      <td>Other-service</td>\n",
       "      <td>Unmarried</td>\n",
       "      <td>White</td>\n",
       "      <td>Male</td>\n",
       "      <td>0.0</td>\n",
       "      <td>0.0</td>\n",
       "      <td>40.0</td>\n",
       "      <td>United-States</td>\n",
       "      <td>&lt;50K</td>\n",
       "    </tr>\n",
       "    <tr>\n",
       "      <th>6841</th>\n",
       "      <td>35</td>\n",
       "      <td>Self-emp-not-inc</td>\n",
       "      <td>HS-grad</td>\n",
       "      <td>9</td>\n",
       "      <td>Married-civ-spouse</td>\n",
       "      <td>Craft-repair</td>\n",
       "      <td>Husband</td>\n",
       "      <td>White</td>\n",
       "      <td>Male</td>\n",
       "      <td>0.0</td>\n",
       "      <td>0.0</td>\n",
       "      <td>40.0</td>\n",
       "      <td>United-States</td>\n",
       "      <td>&lt;50K</td>\n",
       "    </tr>\n",
       "  </tbody>\n",
       "</table>\n",
       "<p>6305 rows × 14 columns</p>\n",
       "</div>"
      ],
      "text/plain": [
       "      age         workclass     education  education_num      marital_status  \\\n",
       "0      39         State-gov     Bachelors             13       Never-married   \n",
       "1      50  Self-emp-not-inc     Bachelors             13  Married-civ-spouse   \n",
       "2      38           Private       HS-grad              9            Divorced   \n",
       "3      53           Private          11th              7  Married-civ-spouse   \n",
       "4      28           Private     Bachelors             13  Married-civ-spouse   \n",
       "...   ...               ...           ...            ...                 ...   \n",
       "6837   23         State-gov          12th              8       Never-married   \n",
       "6838   36           Private  Some-college             10           Separated   \n",
       "6839   25           Private     Bachelors             13  Married-civ-spouse   \n",
       "6840   52           Private       HS-grad              9       Never-married   \n",
       "6841   35  Self-emp-not-inc       HS-grad              9  Married-civ-spouse   \n",
       "\n",
       "             occupation    relationship   race     sex  capital_gain  \\\n",
       "0          Adm-clerical   Not-in-family  White    Male        2174.0   \n",
       "1       Exec-managerial         Husband  White    Male           0.0   \n",
       "2     Handlers-cleaners   Not-in-family  White    Male           0.0   \n",
       "3     Handlers-cleaners         Husband  Black    Male           0.0   \n",
       "4        Prof-specialty            Wife  Black  Female           0.0   \n",
       "...                 ...             ...    ...     ...           ...   \n",
       "6837    Exec-managerial   Not-in-family  White    Male           0.0   \n",
       "6838       Adm-clerical  Other-relative  White  Female           0.0   \n",
       "6839     Prof-specialty            Wife  White  Female           0.0   \n",
       "6840      Other-service       Unmarried  White    Male           0.0   \n",
       "6841       Craft-repair         Husband  White    Male           0.0   \n",
       "\n",
       "      capital_loss  hours_per_week native_country income_level  \n",
       "0              0.0            40.0  United-States         <50K  \n",
       "1              0.0            13.0  United-States         <50K  \n",
       "2              0.0            40.0  United-States         <50K  \n",
       "3              0.0            40.0  United-States         <50K  \n",
       "4              0.0            40.0           Cuba         <50K  \n",
       "...            ...             ...            ...          ...  \n",
       "6837           0.0            40.0  United-States         <50K  \n",
       "6838           0.0            40.0  United-States         <50K  \n",
       "6839           0.0            40.0  United-States         <50K  \n",
       "6840           0.0            40.0  United-States         <50K  \n",
       "6841           0.0            40.0  United-States         <50K  \n",
       "\n",
       "[6305 rows x 14 columns]"
      ]
     },
     "execution_count": 27,
     "metadata": {},
     "output_type": "execute_result"
    }
   ],
   "source": [
    "data=data.drop(\"fnlwgt\",axis=1)\n",
    "data"
   ]
  },
  {
   "cell_type": "code",
   "execution_count": 28,
   "metadata": {},
   "outputs": [
    {
     "name": "stdout",
     "output_type": "stream",
     "text": [
      "<class 'pandas.core.frame.DataFrame'>\n",
      "Int64Index: 6305 entries, 0 to 6841\n",
      "Data columns (total 14 columns):\n",
      " #   Column          Non-Null Count  Dtype  \n",
      "---  ------          --------------  -----  \n",
      " 0   age             6305 non-null   int64  \n",
      " 1   workclass       6305 non-null   object \n",
      " 2   education       6305 non-null   object \n",
      " 3   education_num   6305 non-null   int64  \n",
      " 4   marital_status  6305 non-null   object \n",
      " 5   occupation      6305 non-null   object \n",
      " 6   relationship    6305 non-null   object \n",
      " 7   race            6305 non-null   object \n",
      " 8   sex             6305 non-null   object \n",
      " 9   capital_gain    6305 non-null   float64\n",
      " 10  capital_loss    6305 non-null   float64\n",
      " 11  hours_per_week  6305 non-null   float64\n",
      " 12  native_country  6305 non-null   object \n",
      " 13  income_level    6305 non-null   object \n",
      "dtypes: float64(3), int64(2), object(9)\n",
      "memory usage: 738.9+ KB\n"
     ]
    }
   ],
   "source": [
    "data.info()"
   ]
  },
  {
   "cell_type": "code",
   "execution_count": 29,
   "metadata": {},
   "outputs": [
    {
     "data": {
      "text/plain": [
       "age               False\n",
       "workclass         False\n",
       "education         False\n",
       "education_num     False\n",
       "marital_status    False\n",
       "occupation        False\n",
       "relationship      False\n",
       "race              False\n",
       "sex               False\n",
       "capital_gain      False\n",
       "capital_loss      False\n",
       "hours_per_week    False\n",
       "native_country    False\n",
       "income_level      False\n",
       "dtype: bool"
      ]
     },
     "execution_count": 29,
     "metadata": {},
     "output_type": "execute_result"
    }
   ],
   "source": [
    "(data ==\"?\").any()"
   ]
  },
  {
   "cell_type": "code",
   "execution_count": 30,
   "metadata": {},
   "outputs": [
    {
     "data": {
      "text/html": [
       "<div>\n",
       "<style scoped>\n",
       "    .dataframe tbody tr th:only-of-type {\n",
       "        vertical-align: middle;\n",
       "    }\n",
       "\n",
       "    .dataframe tbody tr th {\n",
       "        vertical-align: top;\n",
       "    }\n",
       "\n",
       "    .dataframe thead th {\n",
       "        text-align: right;\n",
       "    }\n",
       "</style>\n",
       "<table border=\"1\" class=\"dataframe\">\n",
       "  <thead>\n",
       "    <tr style=\"text-align: right;\">\n",
       "      <th></th>\n",
       "      <th>age</th>\n",
       "      <th>workclass</th>\n",
       "      <th>education</th>\n",
       "      <th>education_num</th>\n",
       "      <th>marital_status</th>\n",
       "      <th>occupation</th>\n",
       "      <th>relationship</th>\n",
       "      <th>race</th>\n",
       "      <th>sex</th>\n",
       "      <th>capital_gain</th>\n",
       "      <th>capital_loss</th>\n",
       "      <th>hours_per_week</th>\n",
       "      <th>native_country</th>\n",
       "      <th>income_level</th>\n",
       "    </tr>\n",
       "  </thead>\n",
       "  <tbody>\n",
       "    <tr>\n",
       "      <th>0</th>\n",
       "      <td>39</td>\n",
       "      <td>State-gov</td>\n",
       "      <td>Bachelors</td>\n",
       "      <td>13</td>\n",
       "      <td>Never-married</td>\n",
       "      <td>Adm-clerical</td>\n",
       "      <td>Not-in-family</td>\n",
       "      <td>White</td>\n",
       "      <td>Male</td>\n",
       "      <td>2174.0</td>\n",
       "      <td>0.0</td>\n",
       "      <td>40.0</td>\n",
       "      <td>United-States</td>\n",
       "      <td>&lt;50K</td>\n",
       "    </tr>\n",
       "    <tr>\n",
       "      <th>1</th>\n",
       "      <td>50</td>\n",
       "      <td>Self-emp-not-inc</td>\n",
       "      <td>Bachelors</td>\n",
       "      <td>13</td>\n",
       "      <td>Married-civ-spouse</td>\n",
       "      <td>Exec-managerial</td>\n",
       "      <td>Husband</td>\n",
       "      <td>White</td>\n",
       "      <td>Male</td>\n",
       "      <td>0.0</td>\n",
       "      <td>0.0</td>\n",
       "      <td>13.0</td>\n",
       "      <td>United-States</td>\n",
       "      <td>&lt;50K</td>\n",
       "    </tr>\n",
       "    <tr>\n",
       "      <th>2</th>\n",
       "      <td>38</td>\n",
       "      <td>Private</td>\n",
       "      <td>HS-grad</td>\n",
       "      <td>9</td>\n",
       "      <td>Divorced</td>\n",
       "      <td>Handlers-cleaners</td>\n",
       "      <td>Not-in-family</td>\n",
       "      <td>White</td>\n",
       "      <td>Male</td>\n",
       "      <td>0.0</td>\n",
       "      <td>0.0</td>\n",
       "      <td>40.0</td>\n",
       "      <td>United-States</td>\n",
       "      <td>&lt;50K</td>\n",
       "    </tr>\n",
       "    <tr>\n",
       "      <th>3</th>\n",
       "      <td>53</td>\n",
       "      <td>Private</td>\n",
       "      <td>11th</td>\n",
       "      <td>7</td>\n",
       "      <td>Married-civ-spouse</td>\n",
       "      <td>Handlers-cleaners</td>\n",
       "      <td>Husband</td>\n",
       "      <td>Black</td>\n",
       "      <td>Male</td>\n",
       "      <td>0.0</td>\n",
       "      <td>0.0</td>\n",
       "      <td>40.0</td>\n",
       "      <td>United-States</td>\n",
       "      <td>&lt;50K</td>\n",
       "    </tr>\n",
       "    <tr>\n",
       "      <th>4</th>\n",
       "      <td>28</td>\n",
       "      <td>Private</td>\n",
       "      <td>Bachelors</td>\n",
       "      <td>13</td>\n",
       "      <td>Married-civ-spouse</td>\n",
       "      <td>Prof-specialty</td>\n",
       "      <td>Wife</td>\n",
       "      <td>Black</td>\n",
       "      <td>Female</td>\n",
       "      <td>0.0</td>\n",
       "      <td>0.0</td>\n",
       "      <td>40.0</td>\n",
       "      <td>Cuba</td>\n",
       "      <td>&lt;50K</td>\n",
       "    </tr>\n",
       "    <tr>\n",
       "      <th>...</th>\n",
       "      <td>...</td>\n",
       "      <td>...</td>\n",
       "      <td>...</td>\n",
       "      <td>...</td>\n",
       "      <td>...</td>\n",
       "      <td>...</td>\n",
       "      <td>...</td>\n",
       "      <td>...</td>\n",
       "      <td>...</td>\n",
       "      <td>...</td>\n",
       "      <td>...</td>\n",
       "      <td>...</td>\n",
       "      <td>...</td>\n",
       "      <td>...</td>\n",
       "    </tr>\n",
       "    <tr>\n",
       "      <th>6837</th>\n",
       "      <td>23</td>\n",
       "      <td>State-gov</td>\n",
       "      <td>12th</td>\n",
       "      <td>8</td>\n",
       "      <td>Never-married</td>\n",
       "      <td>Exec-managerial</td>\n",
       "      <td>Not-in-family</td>\n",
       "      <td>White</td>\n",
       "      <td>Male</td>\n",
       "      <td>0.0</td>\n",
       "      <td>0.0</td>\n",
       "      <td>40.0</td>\n",
       "      <td>United-States</td>\n",
       "      <td>&lt;50K</td>\n",
       "    </tr>\n",
       "    <tr>\n",
       "      <th>6838</th>\n",
       "      <td>36</td>\n",
       "      <td>Private</td>\n",
       "      <td>Some-college</td>\n",
       "      <td>10</td>\n",
       "      <td>Separated</td>\n",
       "      <td>Adm-clerical</td>\n",
       "      <td>Other-relative</td>\n",
       "      <td>White</td>\n",
       "      <td>Female</td>\n",
       "      <td>0.0</td>\n",
       "      <td>0.0</td>\n",
       "      <td>40.0</td>\n",
       "      <td>United-States</td>\n",
       "      <td>&lt;50K</td>\n",
       "    </tr>\n",
       "    <tr>\n",
       "      <th>6839</th>\n",
       "      <td>25</td>\n",
       "      <td>Private</td>\n",
       "      <td>Bachelors</td>\n",
       "      <td>13</td>\n",
       "      <td>Married-civ-spouse</td>\n",
       "      <td>Prof-specialty</td>\n",
       "      <td>Wife</td>\n",
       "      <td>White</td>\n",
       "      <td>Female</td>\n",
       "      <td>0.0</td>\n",
       "      <td>0.0</td>\n",
       "      <td>40.0</td>\n",
       "      <td>United-States</td>\n",
       "      <td>&lt;50K</td>\n",
       "    </tr>\n",
       "    <tr>\n",
       "      <th>6840</th>\n",
       "      <td>52</td>\n",
       "      <td>Private</td>\n",
       "      <td>HS-grad</td>\n",
       "      <td>9</td>\n",
       "      <td>Never-married</td>\n",
       "      <td>Other-service</td>\n",
       "      <td>Unmarried</td>\n",
       "      <td>White</td>\n",
       "      <td>Male</td>\n",
       "      <td>0.0</td>\n",
       "      <td>0.0</td>\n",
       "      <td>40.0</td>\n",
       "      <td>United-States</td>\n",
       "      <td>&lt;50K</td>\n",
       "    </tr>\n",
       "    <tr>\n",
       "      <th>6841</th>\n",
       "      <td>35</td>\n",
       "      <td>Self-emp-not-inc</td>\n",
       "      <td>HS-grad</td>\n",
       "      <td>9</td>\n",
       "      <td>Married-civ-spouse</td>\n",
       "      <td>Craft-repair</td>\n",
       "      <td>Husband</td>\n",
       "      <td>White</td>\n",
       "      <td>Male</td>\n",
       "      <td>0.0</td>\n",
       "      <td>0.0</td>\n",
       "      <td>40.0</td>\n",
       "      <td>United-States</td>\n",
       "      <td>&lt;50K</td>\n",
       "    </tr>\n",
       "  </tbody>\n",
       "</table>\n",
       "<p>6305 rows × 14 columns</p>\n",
       "</div>"
      ],
      "text/plain": [
       "      age         workclass     education  education_num      marital_status  \\\n",
       "0      39         State-gov     Bachelors             13       Never-married   \n",
       "1      50  Self-emp-not-inc     Bachelors             13  Married-civ-spouse   \n",
       "2      38           Private       HS-grad              9            Divorced   \n",
       "3      53           Private          11th              7  Married-civ-spouse   \n",
       "4      28           Private     Bachelors             13  Married-civ-spouse   \n",
       "...   ...               ...           ...            ...                 ...   \n",
       "6837   23         State-gov          12th              8       Never-married   \n",
       "6838   36           Private  Some-college             10           Separated   \n",
       "6839   25           Private     Bachelors             13  Married-civ-spouse   \n",
       "6840   52           Private       HS-grad              9       Never-married   \n",
       "6841   35  Self-emp-not-inc       HS-grad              9  Married-civ-spouse   \n",
       "\n",
       "             occupation    relationship   race     sex  capital_gain  \\\n",
       "0          Adm-clerical   Not-in-family  White    Male        2174.0   \n",
       "1       Exec-managerial         Husband  White    Male           0.0   \n",
       "2     Handlers-cleaners   Not-in-family  White    Male           0.0   \n",
       "3     Handlers-cleaners         Husband  Black    Male           0.0   \n",
       "4        Prof-specialty            Wife  Black  Female           0.0   \n",
       "...                 ...             ...    ...     ...           ...   \n",
       "6837    Exec-managerial   Not-in-family  White    Male           0.0   \n",
       "6838       Adm-clerical  Other-relative  White  Female           0.0   \n",
       "6839     Prof-specialty            Wife  White  Female           0.0   \n",
       "6840      Other-service       Unmarried  White    Male           0.0   \n",
       "6841       Craft-repair         Husband  White    Male           0.0   \n",
       "\n",
       "      capital_loss  hours_per_week native_country income_level  \n",
       "0              0.0            40.0  United-States         <50K  \n",
       "1              0.0            13.0  United-States         <50K  \n",
       "2              0.0            40.0  United-States         <50K  \n",
       "3              0.0            40.0  United-States         <50K  \n",
       "4              0.0            40.0           Cuba         <50K  \n",
       "...            ...             ...            ...          ...  \n",
       "6837           0.0            40.0  United-States         <50K  \n",
       "6838           0.0            40.0  United-States         <50K  \n",
       "6839           0.0            40.0  United-States         <50K  \n",
       "6840           0.0            40.0  United-States         <50K  \n",
       "6841           0.0            40.0  United-States         <50K  \n",
       "\n",
       "[6305 rows x 14 columns]"
      ]
     },
     "execution_count": 30,
     "metadata": {},
     "output_type": "execute_result"
    }
   ],
   "source": [
    "list=data.select_dtypes(include=object).columns.tolist()\n",
    "for col in list:\n",
    "    data.loc[data[col]==\"?\", col] = np.nan\n",
    "\n",
    "data"
   ]
  },
  {
   "cell_type": "code",
   "execution_count": 31,
   "metadata": {},
   "outputs": [
    {
     "data": {
      "text/plain": [
       "age               0\n",
       "workclass         0\n",
       "education         0\n",
       "education_num     0\n",
       "marital_status    0\n",
       "occupation        0\n",
       "relationship      0\n",
       "race              0\n",
       "sex               0\n",
       "capital_gain      0\n",
       "capital_loss      0\n",
       "hours_per_week    0\n",
       "native_country    0\n",
       "income_level      0\n",
       "dtype: int64"
      ]
     },
     "execution_count": 31,
     "metadata": {},
     "output_type": "execute_result"
    }
   ],
   "source": [
    "data.isna().sum() "
   ]
  },
  {
   "cell_type": "code",
   "execution_count": 32,
   "metadata": {},
   "outputs": [],
   "source": [
    "def CountFrequency(my_list): \n",
    "  \n",
    "    # Creating an empty dictionary  \n",
    "    freq = {} \n",
    "    for item in my_list: \n",
    "        if (item in freq): \n",
    "            freq[item] += 1\n",
    "        else: \n",
    "            freq[item] = 1\n",
    "  \n",
    "    for key, value in freq.items(): \n",
    "        print (\"%s : % d\"%(key, value)) "
   ]
  },
  {
   "cell_type": "code",
   "execution_count": 33,
   "metadata": {},
   "outputs": [
    {
     "name": "stdout",
     "output_type": "stream",
     "text": [
      "United-States :  5738\n",
      "Cuba :  19\n",
      "Jamaica :  24\n",
      "India :  16\n",
      "Mexico :  132\n",
      "Puerto-Rico :  25\n",
      "Honduras :  2\n",
      "England :  19\n",
      "Canada :  34\n",
      "Germany :  30\n",
      "Iran :  16\n",
      "Philippines :  29\n",
      "Poland :  14\n",
      "Columbia :  6\n",
      "Cambodia :  5\n",
      "Thailand :  2\n",
      "Ecuador :  4\n",
      "Laos :  3\n",
      "Taiwan :  12\n",
      "Haiti :  7\n",
      "Portugal :  8\n",
      "Dominican-Republic :  15\n",
      "El-Salvador :  19\n",
      "France :  3\n",
      "Guatemala :  13\n",
      "Italy :  15\n",
      "China :  17\n",
      "South :  13\n",
      "Japan :  13\n",
      "Yugoslavia :  3\n",
      "Peru :  5\n",
      "Outlying-US(Guam-USVI-etc) :  3\n",
      "Scotland :  2\n",
      "Trinadad&Tobago :  4\n",
      "Greece :  12\n",
      "Nicaragua :  4\n",
      "Vietnam :  13\n",
      "Hong :  1\n",
      "Ireland :  5\n"
     ]
    }
   ],
   "source": [
    "CountFrequency(data.native_country) "
   ]
  },
  {
   "cell_type": "code",
   "execution_count": 34,
   "metadata": {},
   "outputs": [
    {
     "data": {
      "text/plain": [
       "0"
      ]
     },
     "execution_count": 34,
     "metadata": {},
     "output_type": "execute_result"
    }
   ],
   "source": [
    "data['native_country'] = data['native_country'].fillna('United-States')\n",
    "data.native_country.isna().sum() "
   ]
  },
  {
   "cell_type": "code",
   "execution_count": 35,
   "metadata": {},
   "outputs": [
    {
     "data": {
      "text/plain": [
       "(6305, 14)"
      ]
     },
     "execution_count": 35,
     "metadata": {},
     "output_type": "execute_result"
    }
   ],
   "source": [
    "data=data.dropna()\n",
    "data.shape"
   ]
  },
  {
   "cell_type": "code",
   "execution_count": 36,
   "metadata": {},
   "outputs": [
    {
     "data": {
      "text/html": [
       "<div>\n",
       "<style scoped>\n",
       "    .dataframe tbody tr th:only-of-type {\n",
       "        vertical-align: middle;\n",
       "    }\n",
       "\n",
       "    .dataframe tbody tr th {\n",
       "        vertical-align: top;\n",
       "    }\n",
       "\n",
       "    .dataframe thead th {\n",
       "        text-align: right;\n",
       "    }\n",
       "</style>\n",
       "<table border=\"1\" class=\"dataframe\">\n",
       "  <thead>\n",
       "    <tr style=\"text-align: right;\">\n",
       "      <th></th>\n",
       "      <th>native_country</th>\n",
       "      <th>workclass</th>\n",
       "      <th>education</th>\n",
       "      <th>marital_status</th>\n",
       "      <th>occupation</th>\n",
       "      <th>relationship</th>\n",
       "      <th>race</th>\n",
       "      <th>sex</th>\n",
       "      <th>income_level</th>\n",
       "    </tr>\n",
       "  </thead>\n",
       "  <tbody>\n",
       "    <tr>\n",
       "      <th>0</th>\n",
       "      <td>36</td>\n",
       "      <td>5</td>\n",
       "      <td>9</td>\n",
       "      <td>4</td>\n",
       "      <td>0</td>\n",
       "      <td>1</td>\n",
       "      <td>4</td>\n",
       "      <td>1</td>\n",
       "      <td>0</td>\n",
       "    </tr>\n",
       "    <tr>\n",
       "      <th>1</th>\n",
       "      <td>36</td>\n",
       "      <td>4</td>\n",
       "      <td>9</td>\n",
       "      <td>2</td>\n",
       "      <td>3</td>\n",
       "      <td>0</td>\n",
       "      <td>4</td>\n",
       "      <td>1</td>\n",
       "      <td>0</td>\n",
       "    </tr>\n",
       "    <tr>\n",
       "      <th>2</th>\n",
       "      <td>36</td>\n",
       "      <td>2</td>\n",
       "      <td>11</td>\n",
       "      <td>0</td>\n",
       "      <td>5</td>\n",
       "      <td>1</td>\n",
       "      <td>4</td>\n",
       "      <td>1</td>\n",
       "      <td>0</td>\n",
       "    </tr>\n",
       "    <tr>\n",
       "      <th>3</th>\n",
       "      <td>36</td>\n",
       "      <td>2</td>\n",
       "      <td>1</td>\n",
       "      <td>2</td>\n",
       "      <td>5</td>\n",
       "      <td>0</td>\n",
       "      <td>2</td>\n",
       "      <td>1</td>\n",
       "      <td>0</td>\n",
       "    </tr>\n",
       "    <tr>\n",
       "      <th>4</th>\n",
       "      <td>4</td>\n",
       "      <td>2</td>\n",
       "      <td>9</td>\n",
       "      <td>2</td>\n",
       "      <td>9</td>\n",
       "      <td>5</td>\n",
       "      <td>2</td>\n",
       "      <td>0</td>\n",
       "      <td>0</td>\n",
       "    </tr>\n",
       "    <tr>\n",
       "      <th>...</th>\n",
       "      <td>...</td>\n",
       "      <td>...</td>\n",
       "      <td>...</td>\n",
       "      <td>...</td>\n",
       "      <td>...</td>\n",
       "      <td>...</td>\n",
       "      <td>...</td>\n",
       "      <td>...</td>\n",
       "      <td>...</td>\n",
       "    </tr>\n",
       "    <tr>\n",
       "      <th>6837</th>\n",
       "      <td>36</td>\n",
       "      <td>5</td>\n",
       "      <td>2</td>\n",
       "      <td>4</td>\n",
       "      <td>3</td>\n",
       "      <td>1</td>\n",
       "      <td>4</td>\n",
       "      <td>1</td>\n",
       "      <td>0</td>\n",
       "    </tr>\n",
       "    <tr>\n",
       "      <th>6838</th>\n",
       "      <td>36</td>\n",
       "      <td>2</td>\n",
       "      <td>15</td>\n",
       "      <td>5</td>\n",
       "      <td>0</td>\n",
       "      <td>2</td>\n",
       "      <td>4</td>\n",
       "      <td>0</td>\n",
       "      <td>0</td>\n",
       "    </tr>\n",
       "    <tr>\n",
       "      <th>6839</th>\n",
       "      <td>36</td>\n",
       "      <td>2</td>\n",
       "      <td>9</td>\n",
       "      <td>2</td>\n",
       "      <td>9</td>\n",
       "      <td>5</td>\n",
       "      <td>4</td>\n",
       "      <td>0</td>\n",
       "      <td>0</td>\n",
       "    </tr>\n",
       "    <tr>\n",
       "      <th>6840</th>\n",
       "      <td>36</td>\n",
       "      <td>2</td>\n",
       "      <td>11</td>\n",
       "      <td>4</td>\n",
       "      <td>7</td>\n",
       "      <td>4</td>\n",
       "      <td>4</td>\n",
       "      <td>1</td>\n",
       "      <td>0</td>\n",
       "    </tr>\n",
       "    <tr>\n",
       "      <th>6841</th>\n",
       "      <td>36</td>\n",
       "      <td>4</td>\n",
       "      <td>11</td>\n",
       "      <td>2</td>\n",
       "      <td>2</td>\n",
       "      <td>0</td>\n",
       "      <td>4</td>\n",
       "      <td>1</td>\n",
       "      <td>0</td>\n",
       "    </tr>\n",
       "  </tbody>\n",
       "</table>\n",
       "<p>6305 rows × 9 columns</p>\n",
       "</div>"
      ],
      "text/plain": [
       "      native_country  workclass  education  marital_status  occupation  \\\n",
       "0                 36          5          9               4           0   \n",
       "1                 36          4          9               2           3   \n",
       "2                 36          2         11               0           5   \n",
       "3                 36          2          1               2           5   \n",
       "4                  4          2          9               2           9   \n",
       "...              ...        ...        ...             ...         ...   \n",
       "6837              36          5          2               4           3   \n",
       "6838              36          2         15               5           0   \n",
       "6839              36          2          9               2           9   \n",
       "6840              36          2         11               4           7   \n",
       "6841              36          4         11               2           2   \n",
       "\n",
       "      relationship  race  sex  income_level  \n",
       "0                1     4    1             0  \n",
       "1                0     4    1             0  \n",
       "2                1     4    1             0  \n",
       "3                0     2    1             0  \n",
       "4                5     2    0             0  \n",
       "...            ...   ...  ...           ...  \n",
       "6837             1     4    1             0  \n",
       "6838             2     4    0             0  \n",
       "6839             5     4    0             0  \n",
       "6840             4     4    1             0  \n",
       "6841             0     4    1             0  \n",
       "\n",
       "[6305 rows x 9 columns]"
      ]
     },
     "execution_count": 36,
     "metadata": {},
     "output_type": "execute_result"
    }
   ],
   "source": [
    "categorical_cols = ['native_country','workclass', 'education', 'marital_status', 'occupation','relationship','race','sex','income_level'] \n",
    "from sklearn.preprocessing import LabelEncoder\n",
    "le = LabelEncoder()\n",
    "data[categorical_cols] =data[categorical_cols].apply(lambda col: le.fit_transform(col))\n",
    "categorical_cols=pd.DataFrame(data[categorical_cols])\n",
    "categorical_cols"
   ]
  },
  {
   "cell_type": "code",
   "execution_count": 37,
   "metadata": {},
   "outputs": [
    {
     "data": {
      "text/html": [
       "<div>\n",
       "<style scoped>\n",
       "    .dataframe tbody tr th:only-of-type {\n",
       "        vertical-align: middle;\n",
       "    }\n",
       "\n",
       "    .dataframe tbody tr th {\n",
       "        vertical-align: top;\n",
       "    }\n",
       "\n",
       "    .dataframe thead th {\n",
       "        text-align: right;\n",
       "    }\n",
       "</style>\n",
       "<table border=\"1\" class=\"dataframe\">\n",
       "  <thead>\n",
       "    <tr style=\"text-align: right;\">\n",
       "      <th></th>\n",
       "      <th>age</th>\n",
       "      <th>education_num</th>\n",
       "      <th>capital_gain</th>\n",
       "      <th>capital_loss</th>\n",
       "      <th>hours_per_week</th>\n",
       "    </tr>\n",
       "  </thead>\n",
       "  <tbody>\n",
       "    <tr>\n",
       "      <th>0</th>\n",
       "      <td>39</td>\n",
       "      <td>13</td>\n",
       "      <td>2174.0</td>\n",
       "      <td>0.0</td>\n",
       "      <td>40.0</td>\n",
       "    </tr>\n",
       "    <tr>\n",
       "      <th>1</th>\n",
       "      <td>50</td>\n",
       "      <td>13</td>\n",
       "      <td>0.0</td>\n",
       "      <td>0.0</td>\n",
       "      <td>13.0</td>\n",
       "    </tr>\n",
       "    <tr>\n",
       "      <th>2</th>\n",
       "      <td>38</td>\n",
       "      <td>9</td>\n",
       "      <td>0.0</td>\n",
       "      <td>0.0</td>\n",
       "      <td>40.0</td>\n",
       "    </tr>\n",
       "    <tr>\n",
       "      <th>3</th>\n",
       "      <td>53</td>\n",
       "      <td>7</td>\n",
       "      <td>0.0</td>\n",
       "      <td>0.0</td>\n",
       "      <td>40.0</td>\n",
       "    </tr>\n",
       "    <tr>\n",
       "      <th>4</th>\n",
       "      <td>28</td>\n",
       "      <td>13</td>\n",
       "      <td>0.0</td>\n",
       "      <td>0.0</td>\n",
       "      <td>40.0</td>\n",
       "    </tr>\n",
       "    <tr>\n",
       "      <th>...</th>\n",
       "      <td>...</td>\n",
       "      <td>...</td>\n",
       "      <td>...</td>\n",
       "      <td>...</td>\n",
       "      <td>...</td>\n",
       "    </tr>\n",
       "    <tr>\n",
       "      <th>6837</th>\n",
       "      <td>23</td>\n",
       "      <td>8</td>\n",
       "      <td>0.0</td>\n",
       "      <td>0.0</td>\n",
       "      <td>40.0</td>\n",
       "    </tr>\n",
       "    <tr>\n",
       "      <th>6838</th>\n",
       "      <td>36</td>\n",
       "      <td>10</td>\n",
       "      <td>0.0</td>\n",
       "      <td>0.0</td>\n",
       "      <td>40.0</td>\n",
       "    </tr>\n",
       "    <tr>\n",
       "      <th>6839</th>\n",
       "      <td>25</td>\n",
       "      <td>13</td>\n",
       "      <td>0.0</td>\n",
       "      <td>0.0</td>\n",
       "      <td>40.0</td>\n",
       "    </tr>\n",
       "    <tr>\n",
       "      <th>6840</th>\n",
       "      <td>52</td>\n",
       "      <td>9</td>\n",
       "      <td>0.0</td>\n",
       "      <td>0.0</td>\n",
       "      <td>40.0</td>\n",
       "    </tr>\n",
       "    <tr>\n",
       "      <th>6841</th>\n",
       "      <td>35</td>\n",
       "      <td>9</td>\n",
       "      <td>0.0</td>\n",
       "      <td>0.0</td>\n",
       "      <td>40.0</td>\n",
       "    </tr>\n",
       "  </tbody>\n",
       "</table>\n",
       "<p>6305 rows × 5 columns</p>\n",
       "</div>"
      ],
      "text/plain": [
       "      age  education_num  capital_gain  capital_loss  hours_per_week\n",
       "0      39             13        2174.0           0.0            40.0\n",
       "1      50             13           0.0           0.0            13.0\n",
       "2      38              9           0.0           0.0            40.0\n",
       "3      53              7           0.0           0.0            40.0\n",
       "4      28             13           0.0           0.0            40.0\n",
       "...   ...            ...           ...           ...             ...\n",
       "6837   23              8           0.0           0.0            40.0\n",
       "6838   36             10           0.0           0.0            40.0\n",
       "6839   25             13           0.0           0.0            40.0\n",
       "6840   52              9           0.0           0.0            40.0\n",
       "6841   35              9           0.0           0.0            40.0\n",
       "\n",
       "[6305 rows x 5 columns]"
      ]
     },
     "execution_count": 37,
     "metadata": {},
     "output_type": "execute_result"
    }
   ],
   "source": [
    "data=data.drop(['native_country','workclass', 'education', 'marital_status', 'occupation','relationship','race','sex','income_level'],axis=1)\n",
    "data\n"
   ]
  },
  {
   "cell_type": "code",
   "execution_count": 38,
   "metadata": {},
   "outputs": [
    {
     "data": {
      "text/html": [
       "<div>\n",
       "<style scoped>\n",
       "    .dataframe tbody tr th:only-of-type {\n",
       "        vertical-align: middle;\n",
       "    }\n",
       "\n",
       "    .dataframe tbody tr th {\n",
       "        vertical-align: top;\n",
       "    }\n",
       "\n",
       "    .dataframe thead th {\n",
       "        text-align: right;\n",
       "    }\n",
       "</style>\n",
       "<table border=\"1\" class=\"dataframe\">\n",
       "  <thead>\n",
       "    <tr style=\"text-align: right;\">\n",
       "      <th></th>\n",
       "      <th>age</th>\n",
       "      <th>education_num</th>\n",
       "      <th>capital_gain</th>\n",
       "      <th>capital_loss</th>\n",
       "      <th>hours_per_week</th>\n",
       "      <th>native_country</th>\n",
       "      <th>workclass</th>\n",
       "      <th>education</th>\n",
       "      <th>marital_status</th>\n",
       "      <th>occupation</th>\n",
       "      <th>relationship</th>\n",
       "      <th>race</th>\n",
       "      <th>sex</th>\n",
       "      <th>income_level</th>\n",
       "    </tr>\n",
       "  </thead>\n",
       "  <tbody>\n",
       "    <tr>\n",
       "      <th>0</th>\n",
       "      <td>39</td>\n",
       "      <td>13</td>\n",
       "      <td>2174.0</td>\n",
       "      <td>0.0</td>\n",
       "      <td>40.0</td>\n",
       "      <td>36</td>\n",
       "      <td>5</td>\n",
       "      <td>9</td>\n",
       "      <td>4</td>\n",
       "      <td>0</td>\n",
       "      <td>1</td>\n",
       "      <td>4</td>\n",
       "      <td>1</td>\n",
       "      <td>0</td>\n",
       "    </tr>\n",
       "    <tr>\n",
       "      <th>1</th>\n",
       "      <td>50</td>\n",
       "      <td>13</td>\n",
       "      <td>0.0</td>\n",
       "      <td>0.0</td>\n",
       "      <td>13.0</td>\n",
       "      <td>36</td>\n",
       "      <td>4</td>\n",
       "      <td>9</td>\n",
       "      <td>2</td>\n",
       "      <td>3</td>\n",
       "      <td>0</td>\n",
       "      <td>4</td>\n",
       "      <td>1</td>\n",
       "      <td>0</td>\n",
       "    </tr>\n",
       "    <tr>\n",
       "      <th>2</th>\n",
       "      <td>38</td>\n",
       "      <td>9</td>\n",
       "      <td>0.0</td>\n",
       "      <td>0.0</td>\n",
       "      <td>40.0</td>\n",
       "      <td>36</td>\n",
       "      <td>2</td>\n",
       "      <td>11</td>\n",
       "      <td>0</td>\n",
       "      <td>5</td>\n",
       "      <td>1</td>\n",
       "      <td>4</td>\n",
       "      <td>1</td>\n",
       "      <td>0</td>\n",
       "    </tr>\n",
       "    <tr>\n",
       "      <th>3</th>\n",
       "      <td>53</td>\n",
       "      <td>7</td>\n",
       "      <td>0.0</td>\n",
       "      <td>0.0</td>\n",
       "      <td>40.0</td>\n",
       "      <td>36</td>\n",
       "      <td>2</td>\n",
       "      <td>1</td>\n",
       "      <td>2</td>\n",
       "      <td>5</td>\n",
       "      <td>0</td>\n",
       "      <td>2</td>\n",
       "      <td>1</td>\n",
       "      <td>0</td>\n",
       "    </tr>\n",
       "    <tr>\n",
       "      <th>4</th>\n",
       "      <td>28</td>\n",
       "      <td>13</td>\n",
       "      <td>0.0</td>\n",
       "      <td>0.0</td>\n",
       "      <td>40.0</td>\n",
       "      <td>4</td>\n",
       "      <td>2</td>\n",
       "      <td>9</td>\n",
       "      <td>2</td>\n",
       "      <td>9</td>\n",
       "      <td>5</td>\n",
       "      <td>2</td>\n",
       "      <td>0</td>\n",
       "      <td>0</td>\n",
       "    </tr>\n",
       "    <tr>\n",
       "      <th>...</th>\n",
       "      <td>...</td>\n",
       "      <td>...</td>\n",
       "      <td>...</td>\n",
       "      <td>...</td>\n",
       "      <td>...</td>\n",
       "      <td>...</td>\n",
       "      <td>...</td>\n",
       "      <td>...</td>\n",
       "      <td>...</td>\n",
       "      <td>...</td>\n",
       "      <td>...</td>\n",
       "      <td>...</td>\n",
       "      <td>...</td>\n",
       "      <td>...</td>\n",
       "    </tr>\n",
       "    <tr>\n",
       "      <th>6837</th>\n",
       "      <td>23</td>\n",
       "      <td>8</td>\n",
       "      <td>0.0</td>\n",
       "      <td>0.0</td>\n",
       "      <td>40.0</td>\n",
       "      <td>36</td>\n",
       "      <td>5</td>\n",
       "      <td>2</td>\n",
       "      <td>4</td>\n",
       "      <td>3</td>\n",
       "      <td>1</td>\n",
       "      <td>4</td>\n",
       "      <td>1</td>\n",
       "      <td>0</td>\n",
       "    </tr>\n",
       "    <tr>\n",
       "      <th>6838</th>\n",
       "      <td>36</td>\n",
       "      <td>10</td>\n",
       "      <td>0.0</td>\n",
       "      <td>0.0</td>\n",
       "      <td>40.0</td>\n",
       "      <td>36</td>\n",
       "      <td>2</td>\n",
       "      <td>15</td>\n",
       "      <td>5</td>\n",
       "      <td>0</td>\n",
       "      <td>2</td>\n",
       "      <td>4</td>\n",
       "      <td>0</td>\n",
       "      <td>0</td>\n",
       "    </tr>\n",
       "    <tr>\n",
       "      <th>6839</th>\n",
       "      <td>25</td>\n",
       "      <td>13</td>\n",
       "      <td>0.0</td>\n",
       "      <td>0.0</td>\n",
       "      <td>40.0</td>\n",
       "      <td>36</td>\n",
       "      <td>2</td>\n",
       "      <td>9</td>\n",
       "      <td>2</td>\n",
       "      <td>9</td>\n",
       "      <td>5</td>\n",
       "      <td>4</td>\n",
       "      <td>0</td>\n",
       "      <td>0</td>\n",
       "    </tr>\n",
       "    <tr>\n",
       "      <th>6840</th>\n",
       "      <td>52</td>\n",
       "      <td>9</td>\n",
       "      <td>0.0</td>\n",
       "      <td>0.0</td>\n",
       "      <td>40.0</td>\n",
       "      <td>36</td>\n",
       "      <td>2</td>\n",
       "      <td>11</td>\n",
       "      <td>4</td>\n",
       "      <td>7</td>\n",
       "      <td>4</td>\n",
       "      <td>4</td>\n",
       "      <td>1</td>\n",
       "      <td>0</td>\n",
       "    </tr>\n",
       "    <tr>\n",
       "      <th>6841</th>\n",
       "      <td>35</td>\n",
       "      <td>9</td>\n",
       "      <td>0.0</td>\n",
       "      <td>0.0</td>\n",
       "      <td>40.0</td>\n",
       "      <td>36</td>\n",
       "      <td>4</td>\n",
       "      <td>11</td>\n",
       "      <td>2</td>\n",
       "      <td>2</td>\n",
       "      <td>0</td>\n",
       "      <td>4</td>\n",
       "      <td>1</td>\n",
       "      <td>0</td>\n",
       "    </tr>\n",
       "  </tbody>\n",
       "</table>\n",
       "<p>6305 rows × 14 columns</p>\n",
       "</div>"
      ],
      "text/plain": [
       "      age  education_num  capital_gain  capital_loss  hours_per_week  \\\n",
       "0      39             13        2174.0           0.0            40.0   \n",
       "1      50             13           0.0           0.0            13.0   \n",
       "2      38              9           0.0           0.0            40.0   \n",
       "3      53              7           0.0           0.0            40.0   \n",
       "4      28             13           0.0           0.0            40.0   \n",
       "...   ...            ...           ...           ...             ...   \n",
       "6837   23              8           0.0           0.0            40.0   \n",
       "6838   36             10           0.0           0.0            40.0   \n",
       "6839   25             13           0.0           0.0            40.0   \n",
       "6840   52              9           0.0           0.0            40.0   \n",
       "6841   35              9           0.0           0.0            40.0   \n",
       "\n",
       "      native_country  workclass  education  marital_status  occupation  \\\n",
       "0                 36          5          9               4           0   \n",
       "1                 36          4          9               2           3   \n",
       "2                 36          2         11               0           5   \n",
       "3                 36          2          1               2           5   \n",
       "4                  4          2          9               2           9   \n",
       "...              ...        ...        ...             ...         ...   \n",
       "6837              36          5          2               4           3   \n",
       "6838              36          2         15               5           0   \n",
       "6839              36          2          9               2           9   \n",
       "6840              36          2         11               4           7   \n",
       "6841              36          4         11               2           2   \n",
       "\n",
       "      relationship  race  sex  income_level  \n",
       "0                1     4    1             0  \n",
       "1                0     4    1             0  \n",
       "2                1     4    1             0  \n",
       "3                0     2    1             0  \n",
       "4                5     2    0             0  \n",
       "...            ...   ...  ...           ...  \n",
       "6837             1     4    1             0  \n",
       "6838             2     4    0             0  \n",
       "6839             5     4    0             0  \n",
       "6840             4     4    1             0  \n",
       "6841             0     4    1             0  \n",
       "\n",
       "[6305 rows x 14 columns]"
      ]
     },
     "execution_count": 38,
     "metadata": {},
     "output_type": "execute_result"
    }
   ],
   "source": [
    "df_model=pd.concat([data,categorical_cols],axis=1)\n",
    "df_model"
   ]
  },
  {
   "cell_type": "code",
   "execution_count": 39,
   "metadata": {},
   "outputs": [],
   "source": [
    "X = df_model.drop(['income_level'], axis=1)\n",
    "X_col = X.columns\n",
    "y = df_model['income_level']"
   ]
  },
  {
   "cell_type": "code",
   "execution_count": 40,
   "metadata": {},
   "outputs": [],
   "source": [
    "#The StandardScaler assumes your data is normally distributed within each feature and will scale them such\n",
    "#that the distribution is now centred around 0, with a standard deviation of 1"
   ]
  },
  {
   "cell_type": "markdown",
   "metadata": {},
   "source": [
    "## Min max scalar - Label Encoder"
   ]
  },
  {
   "cell_type": "code",
   "execution_count": 41,
   "metadata": {},
   "outputs": [
    {
     "data": {
      "text/html": [
       "<div>\n",
       "<style scoped>\n",
       "    .dataframe tbody tr th:only-of-type {\n",
       "        vertical-align: middle;\n",
       "    }\n",
       "\n",
       "    .dataframe tbody tr th {\n",
       "        vertical-align: top;\n",
       "    }\n",
       "\n",
       "    .dataframe thead th {\n",
       "        text-align: right;\n",
       "    }\n",
       "</style>\n",
       "<table border=\"1\" class=\"dataframe\">\n",
       "  <thead>\n",
       "    <tr style=\"text-align: right;\">\n",
       "      <th></th>\n",
       "      <th>age</th>\n",
       "      <th>education_num</th>\n",
       "      <th>capital_gain</th>\n",
       "      <th>capital_loss</th>\n",
       "      <th>hours_per_week</th>\n",
       "      <th>native_country</th>\n",
       "      <th>workclass</th>\n",
       "      <th>education</th>\n",
       "      <th>marital_status</th>\n",
       "      <th>occupation</th>\n",
       "      <th>relationship</th>\n",
       "      <th>race</th>\n",
       "      <th>sex</th>\n",
       "    </tr>\n",
       "  </thead>\n",
       "  <tbody>\n",
       "    <tr>\n",
       "      <th>0</th>\n",
       "      <td>0.301370</td>\n",
       "      <td>0.800000</td>\n",
       "      <td>0.02174</td>\n",
       "      <td>0.0</td>\n",
       "      <td>0.397959</td>\n",
       "      <td>0.947368</td>\n",
       "      <td>0.833333</td>\n",
       "      <td>0.600000</td>\n",
       "      <td>0.666667</td>\n",
       "      <td>0.000000</td>\n",
       "      <td>0.2</td>\n",
       "      <td>1.0</td>\n",
       "      <td>1.0</td>\n",
       "    </tr>\n",
       "    <tr>\n",
       "      <th>1</th>\n",
       "      <td>0.452055</td>\n",
       "      <td>0.800000</td>\n",
       "      <td>0.00000</td>\n",
       "      <td>0.0</td>\n",
       "      <td>0.122449</td>\n",
       "      <td>0.947368</td>\n",
       "      <td>0.666667</td>\n",
       "      <td>0.600000</td>\n",
       "      <td>0.333333</td>\n",
       "      <td>0.230769</td>\n",
       "      <td>0.0</td>\n",
       "      <td>1.0</td>\n",
       "      <td>1.0</td>\n",
       "    </tr>\n",
       "    <tr>\n",
       "      <th>2</th>\n",
       "      <td>0.287671</td>\n",
       "      <td>0.533333</td>\n",
       "      <td>0.00000</td>\n",
       "      <td>0.0</td>\n",
       "      <td>0.397959</td>\n",
       "      <td>0.947368</td>\n",
       "      <td>0.333333</td>\n",
       "      <td>0.733333</td>\n",
       "      <td>0.000000</td>\n",
       "      <td>0.384615</td>\n",
       "      <td>0.2</td>\n",
       "      <td>1.0</td>\n",
       "      <td>1.0</td>\n",
       "    </tr>\n",
       "    <tr>\n",
       "      <th>3</th>\n",
       "      <td>0.493151</td>\n",
       "      <td>0.400000</td>\n",
       "      <td>0.00000</td>\n",
       "      <td>0.0</td>\n",
       "      <td>0.397959</td>\n",
       "      <td>0.947368</td>\n",
       "      <td>0.333333</td>\n",
       "      <td>0.066667</td>\n",
       "      <td>0.333333</td>\n",
       "      <td>0.384615</td>\n",
       "      <td>0.0</td>\n",
       "      <td>0.5</td>\n",
       "      <td>1.0</td>\n",
       "    </tr>\n",
       "    <tr>\n",
       "      <th>4</th>\n",
       "      <td>0.150685</td>\n",
       "      <td>0.800000</td>\n",
       "      <td>0.00000</td>\n",
       "      <td>0.0</td>\n",
       "      <td>0.397959</td>\n",
       "      <td>0.105263</td>\n",
       "      <td>0.333333</td>\n",
       "      <td>0.600000</td>\n",
       "      <td>0.333333</td>\n",
       "      <td>0.692308</td>\n",
       "      <td>1.0</td>\n",
       "      <td>0.5</td>\n",
       "      <td>0.0</td>\n",
       "    </tr>\n",
       "  </tbody>\n",
       "</table>\n",
       "</div>"
      ],
      "text/plain": [
       "        age  education_num  capital_gain  capital_loss  hours_per_week  \\\n",
       "0  0.301370       0.800000       0.02174           0.0        0.397959   \n",
       "1  0.452055       0.800000       0.00000           0.0        0.122449   \n",
       "2  0.287671       0.533333       0.00000           0.0        0.397959   \n",
       "3  0.493151       0.400000       0.00000           0.0        0.397959   \n",
       "4  0.150685       0.800000       0.00000           0.0        0.397959   \n",
       "\n",
       "   native_country  workclass  education  marital_status  occupation  \\\n",
       "0        0.947368   0.833333   0.600000        0.666667    0.000000   \n",
       "1        0.947368   0.666667   0.600000        0.333333    0.230769   \n",
       "2        0.947368   0.333333   0.733333        0.000000    0.384615   \n",
       "3        0.947368   0.333333   0.066667        0.333333    0.384615   \n",
       "4        0.105263   0.333333   0.600000        0.333333    0.692308   \n",
       "\n",
       "   relationship  race  sex  \n",
       "0           0.2   1.0  1.0  \n",
       "1           0.0   1.0  1.0  \n",
       "2           0.2   1.0  1.0  \n",
       "3           0.0   0.5  1.0  \n",
       "4           1.0   0.5  0.0  "
      ]
     },
     "execution_count": 41,
     "metadata": {},
     "output_type": "execute_result"
    }
   ],
   "source": [
    "#Also known as min-max scaling or min-max normalization, is the simplest method and consists in rescaling \n",
    "#the range of features to scale the range in [0, 1] or [−1, 1]. Selecting the target range depends on \n",
    "#the nature of the data.\n",
    "from sklearn.preprocessing import MinMaxScaler\n",
    "min_max_scalar=pd.DataFrame(MinMaxScaler().fit_transform(df_model.drop(['income_level'], axis=1).values), columns=X_col)\n",
    "min_max_scalar.head()"
   ]
  },
  {
   "cell_type": "code",
   "execution_count": 42,
   "metadata": {},
   "outputs": [],
   "source": [
    "#training the model\n",
    "X_train, X_test, y_train, y_test = train_test_split(min_max_scalar, y, train_size=0.8,random_state=42)"
   ]
  },
  {
   "cell_type": "markdown",
   "metadata": {},
   "source": [
    "### Naive Bayes using min max scalar"
   ]
  },
  {
   "cell_type": "code",
   "execution_count": 43,
   "metadata": {},
   "outputs": [
    {
     "data": {
      "text/plain": [
       "GaussianNB()"
      ]
     },
     "execution_count": 43,
     "metadata": {},
     "output_type": "execute_result"
    }
   ],
   "source": [
    "from sklearn.naive_bayes import GaussianNB\n",
    "from sklearn.metrics import accuracy_score\n",
    "nb = GaussianNB()\n",
    "nb.fit(X_train, y_train)"
   ]
  },
  {
   "cell_type": "code",
   "execution_count": 44,
   "metadata": {},
   "outputs": [
    {
     "name": "stdout",
     "output_type": "stream",
     "text": [
      "Train Result:\n",
      "\n",
      "accuracy score: 0.8011\n",
      "\n",
      "Classification Report: \n",
      "               precision    recall  f1-score   support\n",
      "\n",
      "           0       0.82      0.95      0.88      3792\n",
      "           1       0.70      0.35      0.47      1252\n",
      "\n",
      "    accuracy                           0.80      5044\n",
      "   macro avg       0.76      0.65      0.67      5044\n",
      "weighted avg       0.79      0.80      0.78      5044\n",
      "\n",
      "\n",
      "Confusion Matrix: \n",
      " [[3601  191]\n",
      " [ 812  440]]\n",
      "\n",
      "ROC AUC: 0.6505\n",
      "\n",
      "Average Accuracy: \t 0.8019\n",
      "Accuracy SD: \t\t 0.0138\n",
      "Test Result:\n",
      "\n",
      "accuracy score: 0.7994\n",
      "\n",
      "Classification Report: \n",
      "               precision    recall  f1-score   support\n",
      "\n",
      "           0       0.81      0.95      0.88       941\n",
      "           1       0.71      0.36      0.48       320\n",
      "\n",
      "    accuracy                           0.80      1261\n",
      "   macro avg       0.76      0.65      0.68      1261\n",
      "weighted avg       0.79      0.80      0.77      1261\n",
      "\n",
      "\n",
      "Confusion Matrix: \n",
      " [[893  48]\n",
      " [205 115]]\n",
      "\n",
      "ROC AUC: 0.6542\n",
      "\n"
     ]
    }
   ],
   "source": [
    "print_score(nb, X_train, X_test, y_train, y_test, train=True)\n",
    "print_score(nb, X_train, X_test, y_train, y_test, train=False)"
   ]
  },
  {
   "cell_type": "markdown",
   "metadata": {},
   "source": [
    "### Implementing KNN with min max scaling"
   ]
  },
  {
   "cell_type": "code",
   "execution_count": 45,
   "metadata": {},
   "outputs": [
    {
     "data": {
      "text/plain": [
       "KNeighborsClassifier()"
      ]
     },
     "execution_count": 45,
     "metadata": {},
     "output_type": "execute_result"
    }
   ],
   "source": [
    "from sklearn.neighbors import KNeighborsClassifier\n",
    "knn = KNeighborsClassifier(n_neighbors=5,\n",
    "                           p=2, metric='minkowski')\n",
    "knn.fit(X_train, y_train)"
   ]
  },
  {
   "cell_type": "code",
   "execution_count": 46,
   "metadata": {
    "scrolled": true
   },
   "outputs": [
    {
     "name": "stdout",
     "output_type": "stream",
     "text": [
      "Train Result:\n",
      "\n",
      "accuracy score: 0.8690\n",
      "\n",
      "Classification Report: \n",
      "               precision    recall  f1-score   support\n",
      "\n",
      "           0       0.90      0.93      0.91      3792\n",
      "           1       0.77      0.68      0.72      1252\n",
      "\n",
      "    accuracy                           0.87      5044\n",
      "   macro avg       0.83      0.81      0.82      5044\n",
      "weighted avg       0.87      0.87      0.87      5044\n",
      "\n",
      "\n",
      "Confusion Matrix: \n",
      " [[3532  260]\n",
      " [ 401  851]]\n",
      "\n",
      "ROC AUC: 0.8056\n",
      "\n",
      "Average Accuracy: \t 0.8049\n",
      "Accuracy SD: \t\t 0.0147\n",
      "Test Result:\n",
      "\n",
      "accuracy score: 0.7978\n",
      "\n",
      "Classification Report: \n",
      "               precision    recall  f1-score   support\n",
      "\n",
      "           0       0.86      0.88      0.87       941\n",
      "           1       0.61      0.57      0.59       320\n",
      "\n",
      "    accuracy                           0.80      1261\n",
      "   macro avg       0.73      0.72      0.73      1261\n",
      "weighted avg       0.79      0.80      0.80      1261\n",
      "\n",
      "\n",
      "Confusion Matrix: \n",
      " [[825 116]\n",
      " [139 181]]\n",
      "\n",
      "ROC AUC: 0.7212\n",
      "\n"
     ]
    }
   ],
   "source": [
    "print_score(knn, X_train, X_test, y_train, y_test, train=True)\n",
    "print_score(knn, X_train, X_test, y_train, y_test, train=False)"
   ]
  },
  {
   "cell_type": "code",
   "execution_count": 47,
   "metadata": {},
   "outputs": [],
   "source": [
    "#finding which vhow many no of neighbors can enhance performance"
   ]
  },
  {
   "cell_type": "code",
   "execution_count": 48,
   "metadata": {},
   "outputs": [],
   "source": [
    "knn_scores = []\n",
    "for k in range(1,21):\n",
    "    knn_classifier = KNeighborsClassifier(n_neighbors = k)\n",
    "    knn_classifier.fit(X_train, y_train)\n",
    "    knn_scores.append(knn_classifier.score(X_test, y_test))"
   ]
  },
  {
   "cell_type": "code",
   "execution_count": 49,
   "metadata": {},
   "outputs": [
    {
     "name": "stderr",
     "output_type": "stream",
     "text": [
      "c:\\users\\admin\\appdata\\local\\programs\\python\\python37\\lib\\site-packages\\sklearn\\utils\\deprecation.py:143: FutureWarning: The sklearn.metrics.classification module is  deprecated in version 0.22 and will be removed in version 0.24. The corresponding classes / functions should instead be imported from sklearn.metrics. Anything that cannot be imported from sklearn.metrics is now part of the private API.\n",
      "  warnings.warn(message, FutureWarning)\n"
     ]
    },
    {
     "data": {
      "text/plain": [
       "Text(0.5, 1.0, 'K Neighbors Classifier scores for different K values')"
      ]
     },
     "execution_count": 49,
     "metadata": {},
     "output_type": "execute_result"
    },
    {
     "data": {
      "image/png": "[encoded data removed]",
      "text/plain": [
       "<Figure size 576x360 with 1 Axes>"
      ]
     },
     "metadata": {
      "needs_background": "light"
     },
     "output_type": "display_data"
    }
   ],
   "source": [
    "import seaborn as sns\n",
    "import matplotlib.pyplot as plt\n",
    "from sklearn.calibration import CalibratedClassifierCV\n",
    "from sklearn.linear_model import SGDClassifier\n",
    "from sklearn.metrics import confusion_matrix\n",
    "from sklearn.metrics.classification import accuracy_score, log_loss\n",
    "plt.figure(figsize=(8,5))\n",
    "plt.plot([k for k in range(1, 21)], knn_scores, color = 'red')\n",
    "for i in range(1,21):\n",
    "    plt.text(i, knn_scores[i-1], (i, knn_scores[i-1]))\n",
    "plt.xticks([i for i in range(1, 21)])\n",
    "plt.xlabel('Number of Neighbors (K)')\n",
    "plt.ylabel('Scores')\n",
    "plt.title('K Neighbors Classifier scores for different K values')#############we get k best value that is 8\n"
   ]
  },
  {
   "cell_type": "markdown",
   "metadata": {},
   "source": [
    "#### applying no of neighbours = 14 in knn model with sigmoid function"
   ]
  },
  {
   "cell_type": "code",
   "execution_count": 50,
   "metadata": {},
   "outputs": [
    {
     "name": "stdout",
     "output_type": "stream",
     "text": [
      "The log loss is: 0.39035188784753944\n",
      "1261\n"
     ]
    }
   ],
   "source": [
    "#now again train our model\n",
    "clf=KNeighborsClassifier(n_neighbors=14)\n",
    "clf.fit(X_train,y_train)\n",
    "clf = CalibratedClassifierCV(clf, method=\"sigmoid\")\n",
    "clf.fit(X_train, y_train)\n",
    "predict_y=clf.predict_proba(X_test)\n",
    "print(\"The log loss is:\",log_loss(y_test, predict_y, labels=clf.classes_, eps=1e-15))\n",
    "print(len(predict_y))"
   ]
  },
  {
   "cell_type": "code",
   "execution_count": 51,
   "metadata": {},
   "outputs": [
    {
     "name": "stdout",
     "output_type": "stream",
     "text": [
      "Train Result:\n",
      "\n",
      "accuracy score: 0.8293\n",
      "\n",
      "Classification Report: \n",
      "               precision    recall  f1-score   support\n",
      "\n",
      "           0       0.86      0.93      0.89      3792\n",
      "           1       0.71      0.53      0.61      1252\n",
      "\n",
      "    accuracy                           0.83      5044\n",
      "   macro avg       0.78      0.73      0.75      5044\n",
      "weighted avg       0.82      0.83      0.82      5044\n",
      "\n",
      "\n",
      "Confusion Matrix: \n",
      " [[3515  277]\n",
      " [ 584  668]]\n",
      "\n",
      "ROC AUC: 0.7302\n",
      "\n",
      "Average Accuracy: \t 0.8071\n",
      "Accuracy SD: \t\t 0.0103\n",
      "Test Result:\n",
      "\n",
      "accuracy score: 0.8200\n",
      "\n",
      "Classification Report: \n",
      "               precision    recall  f1-score   support\n",
      "\n",
      "           0       0.85      0.91      0.88       941\n",
      "           1       0.68      0.54      0.61       320\n",
      "\n",
      "    accuracy                           0.82      1261\n",
      "   macro avg       0.77      0.73      0.74      1261\n",
      "weighted avg       0.81      0.82      0.81      1261\n",
      "\n",
      "\n",
      "Confusion Matrix: \n",
      " [[860  81]\n",
      " [146 174]]\n",
      "\n",
      "ROC AUC: 0.7288\n",
      "\n"
     ]
    }
   ],
   "source": [
    "print_score(clf, X_train, X_test, y_train, y_test, train=True)\n",
    "print_score(clf, X_train, X_test, y_train, y_test, train=False)"
   ]
  },
  {
   "cell_type": "markdown",
   "metadata": {},
   "source": [
    "### SVM using min max scalar"
   ]
  },
  {
   "cell_type": "code",
   "execution_count": 52,
   "metadata": {},
   "outputs": [
    {
     "data": {
      "text/plain": [
       "SVC(random_state=42)"
      ]
     },
     "execution_count": 52,
     "metadata": {},
     "output_type": "execute_result"
    }
   ],
   "source": [
    "from sklearn.svm import SVC\n",
    "classifier = SVC(kernel='rbf', random_state = 42)\n",
    "classifier.fit(X_train,y_train)"
   ]
  },
  {
   "cell_type": "code",
   "execution_count": 53,
   "metadata": {},
   "outputs": [
    {
     "name": "stdout",
     "output_type": "stream",
     "text": [
      "Train Result:\n",
      "\n",
      "accuracy score: 0.8293\n",
      "\n",
      "Classification Report: \n",
      "               precision    recall  f1-score   support\n",
      "\n",
      "           0       0.86      0.93      0.89      3792\n",
      "           1       0.71      0.53      0.61      1252\n",
      "\n",
      "    accuracy                           0.83      5044\n",
      "   macro avg       0.78      0.73      0.75      5044\n",
      "weighted avg       0.82      0.83      0.82      5044\n",
      "\n",
      "\n",
      "Confusion Matrix: \n",
      " [[3515  277]\n",
      " [ 584  668]]\n",
      "\n",
      "ROC AUC: 0.7302\n",
      "\n",
      "Average Accuracy: \t 0.8071\n",
      "Accuracy SD: \t\t 0.0103\n",
      "Test Result:\n",
      "\n",
      "accuracy score: 0.8200\n",
      "\n",
      "Classification Report: \n",
      "               precision    recall  f1-score   support\n",
      "\n",
      "           0       0.85      0.91      0.88       941\n",
      "           1       0.68      0.54      0.61       320\n",
      "\n",
      "    accuracy                           0.82      1261\n",
      "   macro avg       0.77      0.73      0.74      1261\n",
      "weighted avg       0.81      0.82      0.81      1261\n",
      "\n",
      "\n",
      "Confusion Matrix: \n",
      " [[860  81]\n",
      " [146 174]]\n",
      "\n",
      "ROC AUC: 0.7288\n",
      "\n"
     ]
    }
   ],
   "source": [
    "print_score(clf, X_train, X_test, y_train, y_test, train=True)\n",
    "print_score(clf, X_train, X_test, y_train, y_test, train=False)"
   ]
  },
  {
   "cell_type": "markdown",
   "metadata": {},
   "source": [
    "### Decision trees using min max classfier"
   ]
  },
  {
   "cell_type": "code",
   "execution_count": 54,
   "metadata": {},
   "outputs": [
    {
     "data": {
      "text/plain": [
       "DecisionTreeClassifier(max_features=4, random_state=42)"
      ]
     },
     "execution_count": 54,
     "metadata": {},
     "output_type": "execute_result"
    }
   ],
   "source": [
    "dt_clf = DecisionTreeClassifier(max_features = 4, random_state = 42)\n",
    "dt_clf.fit(X_train, y_train)"
   ]
  },
  {
   "cell_type": "code",
   "execution_count": 55,
   "metadata": {},
   "outputs": [
    {
     "name": "stdout",
     "output_type": "stream",
     "text": [
      "Train Result:\n",
      "\n",
      "accuracy score: 0.9905\n",
      "\n",
      "Classification Report: \n",
      "               precision    recall  f1-score   support\n",
      "\n",
      "           0       0.99      1.00      0.99      3792\n",
      "           1       1.00      0.96      0.98      1252\n",
      "\n",
      "    accuracy                           0.99      5044\n",
      "   macro avg       0.99      0.98      0.99      5044\n",
      "weighted avg       0.99      0.99      0.99      5044\n",
      "\n",
      "\n",
      "Confusion Matrix: \n",
      " [[3791    1]\n",
      " [  47 1205]]\n",
      "\n",
      "ROC AUC: 0.9811\n",
      "\n",
      "Average Accuracy: \t 0.7996\n",
      "Accuracy SD: \t\t 0.0125\n",
      "Test Result:\n",
      "\n",
      "accuracy score: 0.8017\n",
      "\n",
      "Classification Report: \n",
      "               precision    recall  f1-score   support\n",
      "\n",
      "           0       0.86      0.87      0.87       941\n",
      "           1       0.61      0.60      0.60       320\n",
      "\n",
      "    accuracy                           0.80      1261\n",
      "   macro avg       0.74      0.73      0.74      1261\n",
      "weighted avg       0.80      0.80      0.80      1261\n",
      "\n",
      "\n",
      "Confusion Matrix: \n",
      " [[820 121]\n",
      " [129 191]]\n",
      "\n",
      "ROC AUC: 0.7341\n",
      "\n"
     ]
    }
   ],
   "source": [
    "print_score(dt_clf, X_train, X_test, y_train, y_test, train=True)\n",
    "print_score(dt_clf, X_train, X_test, y_train, y_test, train=False)"
   ]
  },
  {
   "cell_type": "markdown",
   "metadata": {},
   "source": [
    "### Random Forest with 100 trees"
   ]
  },
  {
   "cell_type": "code",
   "execution_count": 56,
   "metadata": {},
   "outputs": [
    {
     "name": "stdout",
     "output_type": "stream",
     "text": [
      "Train Result:\n",
      "\n",
      "accuracy score: 0.9905\n",
      "\n",
      "Classification Report: \n",
      "               precision    recall  f1-score   support\n",
      "\n",
      "           0       0.99      1.00      0.99      3792\n",
      "           1       0.99      0.98      0.98      1252\n",
      "\n",
      "    accuracy                           0.99      5044\n",
      "   macro avg       0.99      0.99      0.99      5044\n",
      "weighted avg       0.99      0.99      0.99      5044\n",
      "\n",
      "\n",
      "Confusion Matrix: \n",
      " [[3775   17]\n",
      " [  31 1221]]\n",
      "\n",
      "ROC AUC: 0.9854\n",
      "\n",
      "Average Accuracy: \t 0.8349\n",
      "Accuracy SD: \t\t 0.0124\n",
      "Test Result:\n",
      "\n",
      "accuracy score: 0.8446\n",
      "\n",
      "Classification Report: \n",
      "               precision    recall  f1-score   support\n",
      "\n",
      "           0       0.89      0.91      0.90       941\n",
      "           1       0.71      0.66      0.68       320\n",
      "\n",
      "    accuracy                           0.84      1261\n",
      "   macro avg       0.80      0.78      0.79      1261\n",
      "weighted avg       0.84      0.84      0.84      1261\n",
      "\n",
      "\n",
      "Confusion Matrix: \n",
      " [[853  88]\n",
      " [108 212]]\n",
      "\n",
      "ROC AUC: 0.7845\n",
      "\n"
     ]
    }
   ],
   "source": [
    "from sklearn.ensemble import RandomForestClassifier\n",
    "random_forest = RandomForestClassifier(n_estimators=100, max_features=\"auto\",random_state=0)\n",
    "random_forest.fit(X_train, y_train) \n",
    "print_score(random_forest, X_train, X_test, y_train, y_test, train=True)\n",
    "print_score(random_forest, X_train, X_test, y_train, y_test, train=False)"
   ]
  },
  {
   "cell_type": "markdown",
   "metadata": {},
   "source": [
    "### Bagging using min max scalar"
   ]
  },
  {
   "cell_type": "code",
   "execution_count": 57,
   "metadata": {},
   "outputs": [],
   "source": [
    "# from sklearn.ensemble import BaggingClassifier\n",
    "# bag_clf = BaggingClassifier(base_estimator=clf, n_estimators=1000,\n",
    "#                             bootstrap=True, oob_score=True,\n",
    "#                             n_jobs=-1, random_state=42)\n",
    "# bag_clf.fit(X_train, y_train)\n",
    "# print_score(bag_clf, X_train, X_test, y_train, y_test, train=True)\n",
    "# print_score(bag_clf, X_train, X_test, y_train, y_test, train=False)\n"
   ]
  },
  {
   "cell_type": "markdown",
   "metadata": {},
   "source": [
    "### Gradient Boost min max scalar"
   ]
  },
  {
   "cell_type": "code",
   "execution_count": 58,
   "metadata": {},
   "outputs": [
    {
     "name": "stdout",
     "output_type": "stream",
     "text": [
      "Train Result:\n",
      "\n",
      "accuracy score: 0.9383\n",
      "\n",
      "Classification Report: \n",
      "               precision    recall  f1-score   support\n",
      "\n",
      "           0       0.95      0.97      0.96      3792\n",
      "           1       0.90      0.84      0.87      1252\n",
      "\n",
      "    accuracy                           0.94      5044\n",
      "   macro avg       0.93      0.91      0.92      5044\n",
      "weighted avg       0.94      0.94      0.94      5044\n",
      "\n",
      "\n",
      "Confusion Matrix: \n",
      " [[3681  111]\n",
      " [ 200 1052]]\n",
      "\n",
      "ROC AUC: 0.9055\n",
      "\n",
      "Average Accuracy: \t 0.8582\n",
      "Accuracy SD: \t\t 0.0130\n",
      "Test Result:\n",
      "\n",
      "accuracy score: 0.8549\n",
      "\n",
      "Classification Report: \n",
      "               precision    recall  f1-score   support\n",
      "\n",
      "           0       0.89      0.92      0.90       941\n",
      "           1       0.74      0.65      0.70       320\n",
      "\n",
      "    accuracy                           0.85      1261\n",
      "   macro avg       0.82      0.79      0.80      1261\n",
      "weighted avg       0.85      0.85      0.85      1261\n",
      "\n",
      "\n",
      "Confusion Matrix: \n",
      " [[869  72]\n",
      " [111 209]]\n",
      "\n",
      "ROC AUC: 0.7883\n",
      "\n"
     ]
    }
   ],
   "source": [
    "from xgboost import XGBClassifier\n",
    "xg_boost = XGBClassifier()\n",
    "xg_boost.fit(X_train, y_train)\n",
    "print_score(xg_boost, X_train, X_test, y_train, y_test, train=True)\n",
    "print_score(xg_boost, X_train, X_test, y_train, y_test, train=False)"
   ]
  },
  {
   "cell_type": "code",
   "execution_count": 59,
   "metadata": {},
   "outputs": [],
   "source": [
    "from sklearn.ensemble import RandomForestClassifier,AdaBoostClassifier,GradientBoostingClassifier"
   ]
  },
  {
   "cell_type": "markdown",
   "metadata": {},
   "source": [
    "### Adaboost"
   ]
  },
  {
   "cell_type": "code",
   "execution_count": 60,
   "metadata": {},
   "outputs": [
    {
     "name": "stdout",
     "output_type": "stream",
     "text": [
      "Train Result:\n",
      "\n",
      "accuracy score: 0.8721\n",
      "\n",
      "Classification Report: \n",
      "               precision    recall  f1-score   support\n",
      "\n",
      "           0       0.89      0.94      0.92      3792\n",
      "           1       0.79      0.65      0.72      1252\n",
      "\n",
      "    accuracy                           0.87      5044\n",
      "   macro avg       0.84      0.80      0.82      5044\n",
      "weighted avg       0.87      0.87      0.87      5044\n",
      "\n",
      "\n",
      "Confusion Matrix: \n",
      " [[3581  211]\n",
      " [ 434  818]]\n",
      "\n",
      "ROC AUC: 0.7989\n",
      "\n",
      "Average Accuracy: \t 0.8624\n",
      "Accuracy SD: \t\t 0.0120\n",
      "Test Result:\n",
      "\n",
      "accuracy score: 0.8517\n",
      "\n",
      "Classification Report: \n",
      "               precision    recall  f1-score   support\n",
      "\n",
      "           0       0.88      0.93      0.90       941\n",
      "           1       0.75      0.62      0.68       320\n",
      "\n",
      "    accuracy                           0.85      1261\n",
      "   macro avg       0.82      0.77      0.79      1261\n",
      "weighted avg       0.85      0.85      0.85      1261\n",
      "\n",
      "\n",
      "Confusion Matrix: \n",
      " [[877  64]\n",
      " [123 197]]\n",
      "\n",
      "ROC AUC: 0.7738\n",
      "\n"
     ]
    }
   ],
   "source": [
    "adaboost_clf = AdaBoostClassifier(n_estimators=200,random_state = 100)\n",
    "adaboost_clf.fit(X_train, y_train)\n",
    "print_score(adaboost_clf, X_train, X_test, y_train, y_test, train=True)\n",
    "print_score(adaboost_clf, X_train, X_test, y_train, y_test, train=False)"
   ]
  },
  {
   "cell_type": "markdown",
   "metadata": {},
   "source": [
    "### Adaboost -> Random Forest min max scalar"
   ]
  },
  {
   "cell_type": "code",
   "execution_count": 61,
   "metadata": {},
   "outputs": [
    {
     "data": {
      "text/plain": [
       "AdaBoostClassifier(base_estimator=RandomForestClassifier(random_state=0),\n",
       "                   learning_rate=1, n_estimators=100, random_state=1)"
      ]
     },
     "execution_count": 61,
     "metadata": {},
     "output_type": "execute_result"
    }
   ],
   "source": [
    "adaboost_random = AdaBoostClassifier(n_estimators=100, base_estimator=random_forest,learning_rate=1, random_state = 1)\n",
    "adaboost_random.fit(X_train,y_train)"
   ]
  },
  {
   "cell_type": "code",
   "execution_count": 62,
   "metadata": {},
   "outputs": [
    {
     "name": "stdout",
     "output_type": "stream",
     "text": [
      "Train Result:\n",
      "\n",
      "accuracy score: 0.9905\n",
      "\n",
      "Classification Report: \n",
      "               precision    recall  f1-score   support\n",
      "\n",
      "           0       0.99      0.99      0.99      3792\n",
      "           1       0.98      0.98      0.98      1252\n",
      "\n",
      "    accuracy                           0.99      5044\n",
      "   macro avg       0.99      0.99      0.99      5044\n",
      "weighted avg       0.99      0.99      0.99      5044\n",
      "\n",
      "\n",
      "Confusion Matrix: \n",
      " [[3772   20]\n",
      " [  28 1224]]\n",
      "\n",
      "ROC AUC: 0.9862\n",
      "\n",
      "Average Accuracy: \t 0.8144\n",
      "Accuracy SD: \t\t 0.0097\n",
      "Test Result:\n",
      "\n",
      "accuracy score: 0.8152\n",
      "\n",
      "Classification Report: \n",
      "               precision    recall  f1-score   support\n",
      "\n",
      "           0       0.86      0.90      0.88       941\n",
      "           1       0.65      0.58      0.61       320\n",
      "\n",
      "    accuracy                           0.82      1261\n",
      "   macro avg       0.76      0.74      0.75      1261\n",
      "weighted avg       0.81      0.82      0.81      1261\n",
      "\n",
      "\n",
      "Confusion Matrix: \n",
      " [[843  98]\n",
      " [135 185]]\n",
      "\n",
      "ROC AUC: 0.7370\n",
      "\n"
     ]
    }
   ],
   "source": [
    "print_score(adaboost_random, X_train, X_test, y_train, y_test, train=True)\n",
    "print_score(adaboost_random, X_train, X_test, y_train, y_test, train=False)"
   ]
  },
  {
   "cell_type": "markdown",
   "metadata": {},
   "source": [
    "### XGBoost classifier"
   ]
  },
  {
   "cell_type": "code",
   "execution_count": 63,
   "metadata": {},
   "outputs": [
    {
     "name": "stdout",
     "output_type": "stream",
     "text": [
      "Train Result:\n",
      "\n",
      "accuracy score: 0.9167\n",
      "\n",
      "Classification Report: \n",
      "               precision    recall  f1-score   support\n",
      "\n",
      "           0       0.93      0.96      0.95      3792\n",
      "           1       0.87      0.78      0.82      1252\n",
      "\n",
      "    accuracy                           0.92      5044\n",
      "   macro avg       0.90      0.87      0.88      5044\n",
      "weighted avg       0.92      0.92      0.92      5044\n",
      "\n",
      "\n",
      "Confusion Matrix: \n",
      " [[3646  146]\n",
      " [ 274  978]]\n",
      "\n",
      "ROC AUC: 0.8713\n",
      "\n",
      "Average Accuracy: \t 0.8588\n",
      "Accuracy SD: \t\t 0.0129\n",
      "Test Result:\n",
      "\n",
      "accuracy score: 0.8541\n",
      "\n",
      "Classification Report: \n",
      "               precision    recall  f1-score   support\n",
      "\n",
      "           0       0.89      0.92      0.90       941\n",
      "           1       0.74      0.66      0.70       320\n",
      "\n",
      "    accuracy                           0.85      1261\n",
      "   macro avg       0.81      0.79      0.80      1261\n",
      "weighted avg       0.85      0.85      0.85      1261\n",
      "\n",
      "\n",
      "Confusion Matrix: \n",
      " [[867  74]\n",
      " [110 210]]\n",
      "\n",
      "ROC AUC: 0.7888\n",
      "\n"
     ]
    }
   ],
   "source": [
    "xgb_model = xgb.XGBClassifier(learning_rate=0.1,n_estimators=200,objective='binary:logistic',nthread= 4,n_jobs= 4,base_score= 0.6)\n",
    "xgb_model.fit(X_train, y_train)\n",
    "print_score(xgb_model, X_train, X_test, y_train, y_test, train=True)\n",
    "print_score(xgb_model, X_train, X_test, y_train, y_test, train=False)"
   ]
  },
  {
   "cell_type": "markdown",
   "metadata": {},
   "source": [
    "### Stacking -> Meta Classifier -  Logistic Regression and ensembles as \"Decision Tree\" and \"Random Forest\""
   ]
  },
  {
   "cell_type": "code",
   "execution_count": 64,
   "metadata": {},
   "outputs": [],
   "source": [
    "xtrain_base, xpred_base, ytrain_base, ypred_base = train_test_split(X_train, y_train, test_size=0.5, random_state=100)"
   ]
  },
  {
   "cell_type": "code",
   "execution_count": 65,
   "metadata": {},
   "outputs": [],
   "source": [
    "def train_base_learners(base_learners, inp, out, verbose=True):\n",
    "    \"\"\"\n",
    "    Train all base learners in the library.\n",
    "    \"\"\"\n",
    "    if verbose: print(\"Fitting models.\")\n",
    "    for i, (name, m) in enumerate(base_learners.items()):\n",
    "        if verbose: print(\"%s...\" % name, end=\" \", flush=False)\n",
    "        m.fit(inp, out)\n",
    "        if verbose: print(\"done\")"
   ]
  },
  {
   "cell_type": "code",
   "execution_count": 66,
   "metadata": {},
   "outputs": [
    {
     "name": "stdout",
     "output_type": "stream",
     "text": [
      "Fitting models.\n",
      "DT... done\n",
      "RF... done\n"
     ]
    }
   ],
   "source": [
    "train_base_learners({'DT': dt_clf,'RF': random_forest}, xtrain_base, ytrain_base)"
   ]
  },
  {
   "cell_type": "code",
   "execution_count": 67,
   "metadata": {},
   "outputs": [],
   "source": [
    "def predict_base_learners(pred_base_learners, inp, verbose=True):\n",
    "    \"\"\"\n",
    "    Generate a prediction matrix.\n",
    "    \"\"\"\n",
    "    P = np.zeros((inp.shape[0], len(pred_base_learners)))\n",
    "\n",
    "    if verbose: print(\"Generating base learner predictions.\")\n",
    "    for i, (name, m) in enumerate(pred_base_learners.items()):\n",
    "        if verbose: print(\"%s...\" % name, end=\" \", flush=False)\n",
    "        p = m.predict_proba(inp)\n",
    "        # With two classes, need only predictions for one class\n",
    "        P[:, i] = p[:, 1]\n",
    "        if verbose: print(\"done\")\n",
    "\n",
    "    return P"
   ]
  },
  {
   "cell_type": "code",
   "execution_count": 68,
   "metadata": {},
   "outputs": [
    {
     "name": "stdout",
     "output_type": "stream",
     "text": [
      "Generating base learner predictions.\n",
      "DT... done\n",
      "RF... done\n"
     ]
    }
   ],
   "source": [
    "#base learners as Decision trees and Random Forest\n",
    "P_base = predict_base_learners({'DT': dt_clf,'RF': random_forest}, xpred_base)"
   ]
  },
  {
   "cell_type": "code",
   "execution_count": 69,
   "metadata": {},
   "outputs": [
    {
     "data": {
      "text/plain": [
       "LogisticRegression()"
      ]
     },
     "execution_count": 69,
     "metadata": {},
     "output_type": "execute_result"
    }
   ],
   "source": [
    "from sklearn.linear_model import LogisticRegression\n",
    "logisticRegr = LogisticRegression()\n",
    "logisticRegr.fit(P_base, ypred_base)"
   ]
  },
  {
   "cell_type": "code",
   "execution_count": 70,
   "metadata": {},
   "outputs": [],
   "source": [
    "def ensemble_predict(base_learners, meta_learner, inp, verbose=True):\n",
    "    \"\"\"\n",
    "    Generate predictions from the ensemble.\n",
    "    \"\"\"\n",
    "    P_pred = predict_base_learners(base_learners, inp, verbose=verbose)\n",
    "    return P_pred, meta_learner.predict_proba(P_pred)[:, 1]"
   ]
  },
  {
   "cell_type": "code",
   "execution_count": 71,
   "metadata": {},
   "outputs": [
    {
     "name": "stdout",
     "output_type": "stream",
     "text": [
      "Generating base learner predictions.\n",
      "DT... done\n",
      "RF... done\n",
      "\n",
      "Ensemble ROC-AUC score: 0.880\n"
     ]
    }
   ],
   "source": [
    "P_pred, p = ensemble_predict({'DT': dt_clf,'RF': random_forest}, logisticRegr, X_test)\n",
    "print(\"\\nEnsemble ROC-AUC score: %.3f\" % roc_auc_score(y_test, p))"
   ]
  },
  {
   "cell_type": "code",
   "execution_count": null,
   "metadata": {},
   "outputs": [],
   "source": []
  },
  {
   "cell_type": "markdown",
   "metadata": {},
   "source": [
    "### Stacking -> Single Classifier- Random Forest --> Adaboost --> Bagging"
   ]
  },
  {
   "cell_type": "code",
   "execution_count": 72,
   "metadata": {},
   "outputs": [],
   "source": [
    "## it takes almost 2hrs to train the model"
   ]
  },
  {
   "cell_type": "markdown",
   "metadata": {},
   "source": [
    "## Standard Scaling - Label Encoder"
   ]
  },
  {
   "cell_type": "code",
   "execution_count": 73,
   "metadata": {},
   "outputs": [],
   "source": [
    "from sklearn.preprocessing import StandardScaler\n",
    "X = StandardScaler().fit_transform(X)"
   ]
  },
  {
   "cell_type": "code",
   "execution_count": 74,
   "metadata": {},
   "outputs": [
    {
     "data": {
      "text/html": [
       "<div>\n",
       "<style scoped>\n",
       "    .dataframe tbody tr th:only-of-type {\n",
       "        vertical-align: middle;\n",
       "    }\n",
       "\n",
       "    .dataframe tbody tr th {\n",
       "        vertical-align: top;\n",
       "    }\n",
       "\n",
       "    .dataframe thead th {\n",
       "        text-align: right;\n",
       "    }\n",
       "</style>\n",
       "<table border=\"1\" class=\"dataframe\">\n",
       "  <thead>\n",
       "    <tr style=\"text-align: right;\">\n",
       "      <th></th>\n",
       "      <th>age</th>\n",
       "      <th>education_num</th>\n",
       "      <th>capital_gain</th>\n",
       "      <th>capital_loss</th>\n",
       "      <th>hours_per_week</th>\n",
       "      <th>native_country</th>\n",
       "      <th>workclass</th>\n",
       "      <th>education</th>\n",
       "      <th>marital_status</th>\n",
       "      <th>occupation</th>\n",
       "      <th>relationship</th>\n",
       "      <th>race</th>\n",
       "      <th>sex</th>\n",
       "    </tr>\n",
       "  </thead>\n",
       "  <tbody>\n",
       "    <tr>\n",
       "      <th>0</th>\n",
       "      <td>0.038909</td>\n",
       "      <td>1.146582</td>\n",
       "      <td>0.147846</td>\n",
       "      <td>-0.22642</td>\n",
       "      <td>-0.091296</td>\n",
       "      <td>0.271373</td>\n",
       "      <td>2.946006</td>\n",
       "      <td>-0.353406</td>\n",
       "      <td>0.952813</td>\n",
       "      <td>-1.478075</td>\n",
       "      <td>-0.264582</td>\n",
       "      <td>0.387138</td>\n",
       "      <td>0.684595</td>\n",
       "    </tr>\n",
       "    <tr>\n",
       "      <th>1</th>\n",
       "      <td>0.874105</td>\n",
       "      <td>1.146582</td>\n",
       "      <td>-0.148406</td>\n",
       "      <td>-0.22642</td>\n",
       "      <td>-2.374825</td>\n",
       "      <td>0.271373</td>\n",
       "      <td>1.890633</td>\n",
       "      <td>-0.353406</td>\n",
       "      <td>-0.385157</td>\n",
       "      <td>-0.739545</td>\n",
       "      <td>-0.886577</td>\n",
       "      <td>0.387138</td>\n",
       "      <td>0.684595</td>\n",
       "    </tr>\n",
       "    <tr>\n",
       "      <th>2</th>\n",
       "      <td>-0.037018</td>\n",
       "      <td>-0.440770</td>\n",
       "      <td>-0.148406</td>\n",
       "      <td>-0.22642</td>\n",
       "      <td>-0.091296</td>\n",
       "      <td>0.271373</td>\n",
       "      <td>-0.220114</td>\n",
       "      <td>0.170636</td>\n",
       "      <td>-1.723128</td>\n",
       "      <td>-0.247192</td>\n",
       "      <td>-0.264582</td>\n",
       "      <td>0.387138</td>\n",
       "      <td>0.684595</td>\n",
       "    </tr>\n",
       "    <tr>\n",
       "      <th>3</th>\n",
       "      <td>1.101886</td>\n",
       "      <td>-1.234446</td>\n",
       "      <td>-0.148406</td>\n",
       "      <td>-0.22642</td>\n",
       "      <td>-0.091296</td>\n",
       "      <td>0.271373</td>\n",
       "      <td>-0.220114</td>\n",
       "      <td>-2.449573</td>\n",
       "      <td>-0.385157</td>\n",
       "      <td>-0.247192</td>\n",
       "      <td>-0.886577</td>\n",
       "      <td>-2.005909</td>\n",
       "      <td>0.684595</td>\n",
       "    </tr>\n",
       "    <tr>\n",
       "      <th>4</th>\n",
       "      <td>-0.796288</td>\n",
       "      <td>1.146582</td>\n",
       "      <td>-0.148406</td>\n",
       "      <td>-0.22642</td>\n",
       "      <td>-0.091296</td>\n",
       "      <td>-5.083888</td>\n",
       "      <td>-0.220114</td>\n",
       "      <td>-0.353406</td>\n",
       "      <td>-0.385157</td>\n",
       "      <td>0.737515</td>\n",
       "      <td>2.223398</td>\n",
       "      <td>-2.005909</td>\n",
       "      <td>-1.460718</td>\n",
       "    </tr>\n",
       "  </tbody>\n",
       "</table>\n",
       "</div>"
      ],
      "text/plain": [
       "        age  education_num  capital_gain  capital_loss  hours_per_week  \\\n",
       "0  0.038909       1.146582      0.147846      -0.22642       -0.091296   \n",
       "1  0.874105       1.146582     -0.148406      -0.22642       -2.374825   \n",
       "2 -0.037018      -0.440770     -0.148406      -0.22642       -0.091296   \n",
       "3  1.101886      -1.234446     -0.148406      -0.22642       -0.091296   \n",
       "4 -0.796288       1.146582     -0.148406      -0.22642       -0.091296   \n",
       "\n",
       "   native_country  workclass  education  marital_status  occupation  \\\n",
       "0        0.271373   2.946006  -0.353406        0.952813   -1.478075   \n",
       "1        0.271373   1.890633  -0.353406       -0.385157   -0.739545   \n",
       "2        0.271373  -0.220114   0.170636       -1.723128   -0.247192   \n",
       "3        0.271373  -0.220114  -2.449573       -0.385157   -0.247192   \n",
       "4       -5.083888  -0.220114  -0.353406       -0.385157    0.737515   \n",
       "\n",
       "   relationship      race       sex  \n",
       "0     -0.264582  0.387138  0.684595  \n",
       "1     -0.886577  0.387138  0.684595  \n",
       "2     -0.264582  0.387138  0.684595  \n",
       "3     -0.886577 -2.005909  0.684595  \n",
       "4      2.223398 -2.005909 -1.460718  "
      ]
     },
     "execution_count": 74,
     "metadata": {},
     "output_type": "execute_result"
    }
   ],
   "source": [
    "standard_scalar = pd.DataFrame(X, columns=X_col)\n",
    "standard_scalar.head()"
   ]
  },
  {
   "cell_type": "code",
   "execution_count": 75,
   "metadata": {},
   "outputs": [],
   "source": [
    "X_train, X_test, y_train, y_test = train_test_split(standard_scalar, y, train_size=0.8,random_state=42)"
   ]
  },
  {
   "cell_type": "markdown",
   "metadata": {},
   "source": [
    "### Naive Bayes with standard scaling"
   ]
  },
  {
   "cell_type": "code",
   "execution_count": 76,
   "metadata": {},
   "outputs": [
    {
     "data": {
      "text/plain": [
       "GaussianNB()"
      ]
     },
     "execution_count": 76,
     "metadata": {},
     "output_type": "execute_result"
    }
   ],
   "source": [
    "from sklearn.naive_bayes import GaussianNB\n",
    "from sklearn.metrics import accuracy_score\n",
    "nb = GaussianNB()\n",
    "nb.fit(X_train, y_train)"
   ]
  },
  {
   "cell_type": "code",
   "execution_count": 77,
   "metadata": {},
   "outputs": [
    {
     "name": "stdout",
     "output_type": "stream",
     "text": [
      "Train Result:\n",
      "\n",
      "accuracy score: 0.8011\n",
      "\n",
      "Classification Report: \n",
      "               precision    recall  f1-score   support\n",
      "\n",
      "           0       0.82      0.95      0.88      3792\n",
      "           1       0.70      0.35      0.47      1252\n",
      "\n",
      "    accuracy                           0.80      5044\n",
      "   macro avg       0.76      0.65      0.67      5044\n",
      "weighted avg       0.79      0.80      0.78      5044\n",
      "\n",
      "\n",
      "Confusion Matrix: \n",
      " [[3601  191]\n",
      " [ 812  440]]\n",
      "\n",
      "ROC AUC: 0.6505\n",
      "\n",
      "Average Accuracy: \t 0.8019\n",
      "Accuracy SD: \t\t 0.0138\n",
      "Test Result:\n",
      "\n",
      "accuracy score: 0.7994\n",
      "\n",
      "Classification Report: \n",
      "               precision    recall  f1-score   support\n",
      "\n",
      "           0       0.81      0.95      0.88       941\n",
      "           1       0.71      0.36      0.48       320\n",
      "\n",
      "    accuracy                           0.80      1261\n",
      "   macro avg       0.76      0.65      0.68      1261\n",
      "weighted avg       0.79      0.80      0.77      1261\n",
      "\n",
      "\n",
      "Confusion Matrix: \n",
      " [[893  48]\n",
      " [205 115]]\n",
      "\n",
      "ROC AUC: 0.6542\n",
      "\n"
     ]
    }
   ],
   "source": [
    "print_score(nb, X_train, X_test, y_train, y_test, train=True)\n",
    "print_score(nb, X_train, X_test, y_train, y_test, train=False)"
   ]
  },
  {
   "cell_type": "code",
   "execution_count": 78,
   "metadata": {},
   "outputs": [],
   "source": [
    "knn_scores = []\n",
    "for k in range(1,21):\n",
    "    knn_classifier = KNeighborsClassifier(n_neighbors = k)\n",
    "    knn_classifier.fit(X_train, y_train)\n",
    "    knn_scores.append(knn_classifier.score(X_test, y_test))"
   ]
  },
  {
   "cell_type": "code",
   "execution_count": 79,
   "metadata": {},
   "outputs": [
    {
     "name": "stdout",
     "output_type": "stream",
     "text": [
      "The log loss is: 0.3901405292098841\n",
      "1261\n"
     ]
    },
    {
     "data": {
      "image/png": "[encoded data removed]",
      "text/plain": [
       "<Figure size 576x360 with 1 Axes>"
      ]
     },
     "metadata": {
      "needs_background": "light"
     },
     "output_type": "display_data"
    }
   ],
   "source": [
    "import seaborn as sns\n",
    "import matplotlib.pyplot as plt\n",
    "from sklearn.calibration import CalibratedClassifierCV\n",
    "from sklearn.linear_model import SGDClassifier\n",
    "from sklearn.metrics import confusion_matrix\n",
    "from sklearn.metrics.classification import accuracy_score, log_loss\n",
    "plt.figure(figsize=(8,5))\n",
    "plt.plot([k for k in range(1, 21)], knn_scores, color = 'red')\n",
    "for i in range(1,21):\n",
    "    plt.text(i, knn_scores[i-1], (i, knn_scores[i-1]))\n",
    "plt.xticks([i for i in range(1, 21)])\n",
    "plt.xlabel('Number of Neighbors (K)')\n",
    "plt.ylabel('Scores')\n",
    "plt.title('K Neighbors Classifier scores for different K values')#############we get k best value that is 8\n",
    "#now again train our model\n",
    "clf=KNeighborsClassifier(n_neighbors=14)\n",
    "clf.fit(X_train,y_train)\n",
    "clf = CalibratedClassifierCV(clf, method=\"sigmoid\")\n",
    "clf.fit(X_train, y_train)\n",
    "predict_y=clf.predict_proba(X_test)\n",
    "print(\"The log loss is:\",log_loss(y_test, predict_y, labels=clf.classes_, eps=1e-15))#########Plot confusion atrix\n",
    "print(len(predict_y))\n",
    "#print(len(y_test))"
   ]
  },
  {
   "cell_type": "markdown",
   "metadata": {},
   "source": [
    "### Implementing KNN with standard scaling"
   ]
  },
  {
   "cell_type": "code",
   "execution_count": null,
   "metadata": {},
   "outputs": [],
   "source": []
  },
  {
   "cell_type": "code",
   "execution_count": 80,
   "metadata": {},
   "outputs": [
    {
     "data": {
      "text/plain": [
       "KNeighborsClassifier(n_neighbors=12)"
      ]
     },
     "execution_count": 80,
     "metadata": {},
     "output_type": "execute_result"
    }
   ],
   "source": [
    "#standard scaling\n",
    "knn = KNeighborsClassifier(n_neighbors=12,\n",
    "                           p=2, metric='minkowski')\n",
    "knn.fit(X_train, y_train)"
   ]
  },
  {
   "cell_type": "code",
   "execution_count": 81,
   "metadata": {},
   "outputs": [
    {
     "name": "stdout",
     "output_type": "stream",
     "text": [
      "Train Result:\n",
      "\n",
      "accuracy score: 0.8454\n",
      "\n",
      "Classification Report: \n",
      "               precision    recall  f1-score   support\n",
      "\n",
      "           0       0.87      0.94      0.90      3792\n",
      "           1       0.76      0.56      0.64      1252\n",
      "\n",
      "    accuracy                           0.85      5044\n",
      "   macro avg       0.81      0.75      0.77      5044\n",
      "weighted avg       0.84      0.85      0.84      5044\n",
      "\n",
      "\n",
      "Confusion Matrix: \n",
      " [[3567  225]\n",
      " [ 555  697]]\n",
      "\n",
      "ROC AUC: 0.7487\n",
      "\n",
      "Average Accuracy: \t 0.8142\n",
      "Accuracy SD: \t\t 0.0061\n",
      "Test Result:\n",
      "\n",
      "accuracy score: 0.8200\n",
      "\n",
      "Classification Report: \n",
      "               precision    recall  f1-score   support\n",
      "\n",
      "           0       0.85      0.92      0.88       941\n",
      "           1       0.69      0.52      0.59       320\n",
      "\n",
      "    accuracy                           0.82      1261\n",
      "   macro avg       0.77      0.72      0.74      1261\n",
      "weighted avg       0.81      0.82      0.81      1261\n",
      "\n",
      "\n",
      "Confusion Matrix: \n",
      " [[868  73]\n",
      " [154 166]]\n",
      "\n",
      "ROC AUC: 0.7206\n",
      "\n"
     ]
    }
   ],
   "source": [
    "print_score(knn, X_train, X_test, y_train, y_test, train=True)\n",
    "print_score(knn, X_train, X_test, y_train, y_test, train=False)"
   ]
  },
  {
   "cell_type": "code",
   "execution_count": null,
   "metadata": {},
   "outputs": [],
   "source": []
  },
  {
   "cell_type": "markdown",
   "metadata": {},
   "source": [
    "### Implementing SVM with standard scaling"
   ]
  },
  {
   "cell_type": "code",
   "execution_count": 82,
   "metadata": {},
   "outputs": [
    {
     "data": {
      "text/plain": [
       "SVC(random_state=42)"
      ]
     },
     "execution_count": 82,
     "metadata": {},
     "output_type": "execute_result"
    }
   ],
   "source": [
    "from sklearn.svm import SVC\n",
    "classifier_svm = SVC(kernel='rbf', random_state = 42)\n",
    "classifier_svm.fit(X_train,y_train)"
   ]
  },
  {
   "cell_type": "code",
   "execution_count": 83,
   "metadata": {},
   "outputs": [],
   "source": [
    "y_pred = classifier.predict(X_test)"
   ]
  },
  {
   "cell_type": "code",
   "execution_count": 84,
   "metadata": {},
   "outputs": [
    {
     "data": {
      "text/plain": [
       "array([[941,   0],\n",
       "       [317,   3]], dtype=int64)"
      ]
     },
     "execution_count": 84,
     "metadata": {},
     "output_type": "execute_result"
    }
   ],
   "source": [
    "from sklearn.metrics import confusion_matrix\n",
    "cm = confusion_matrix(y_test,y_pred)\n",
    "cm"
   ]
  },
  {
   "cell_type": "code",
   "execution_count": 85,
   "metadata": {},
   "outputs": [
    {
     "name": "stdout",
     "output_type": "stream",
     "text": [
      "Train Result:\n",
      "\n",
      "accuracy score: 0.8519\n",
      "\n",
      "Classification Report: \n",
      "               precision    recall  f1-score   support\n",
      "\n",
      "           0       0.86      0.95      0.91      3792\n",
      "           1       0.80      0.54      0.64      1252\n",
      "\n",
      "    accuracy                           0.85      5044\n",
      "   macro avg       0.83      0.75      0.78      5044\n",
      "weighted avg       0.85      0.85      0.84      5044\n",
      "\n",
      "\n",
      "Confusion Matrix: \n",
      " [[3621  171]\n",
      " [ 576  676]]\n",
      "\n",
      "ROC AUC: 0.7474\n",
      "\n",
      "Average Accuracy: \t 0.8335\n",
      "Accuracy SD: \t\t 0.0177\n",
      "Test Result:\n",
      "\n",
      "accuracy score: 0.8430\n",
      "\n",
      "Classification Report: \n",
      "               precision    recall  f1-score   support\n",
      "\n",
      "           0       0.85      0.95      0.90       941\n",
      "           1       0.79      0.52      0.63       320\n",
      "\n",
      "    accuracy                           0.84      1261\n",
      "   macro avg       0.82      0.74      0.76      1261\n",
      "weighted avg       0.84      0.84      0.83      1261\n",
      "\n",
      "\n",
      "Confusion Matrix: \n",
      " [[896  45]\n",
      " [153 167]]\n",
      "\n",
      "ROC AUC: 0.7370\n",
      "\n"
     ]
    }
   ],
   "source": [
    "print_score(classifier_svm, X_train, X_test, y_train, y_test, train=True)\n",
    "print_score(classifier_svm, X_train, X_test, y_train, y_test, train=False)"
   ]
  },
  {
   "cell_type": "code",
   "execution_count": 86,
   "metadata": {},
   "outputs": [],
   "source": [
    "import matplotlib as mpl\n",
    "from matplotlib import cm"
   ]
  },
  {
   "cell_type": "code",
   "execution_count": 87,
   "metadata": {},
   "outputs": [],
   "source": [
    "svc_scores = []\n",
    "kernels = ['linear', 'poly', 'rbf', 'sigmoid']\n",
    "for i in range(len(kernels)):\n",
    "    svc_classifier = SVC(kernel = kernels[i])\n",
    "    svc_classifier.fit(X_train, y_train)\n",
    "    svc_scores.append(svc_classifier.score(X_test, y_test))"
   ]
  },
  {
   "cell_type": "code",
   "execution_count": 88,
   "metadata": {},
   "outputs": [
    {
     "name": "stdout",
     "output_type": "stream",
     "text": [
      "The log loss is: 0.3728700740776604\n",
      "1261\n"
     ]
    },
    {
     "data": {
      "image/png": "[encoded data removed]",
      "text/plain": [
       "<Figure size 432x288 with 1 Axes>"
      ]
     },
     "metadata": {
      "needs_background": "light"
     },
     "output_type": "display_data"
    }
   ],
   "source": [
    "colors = cm.rainbow(np.linspace(0, 1, len(kernels)))\n",
    "plt.bar(kernels, svc_scores, color = colors)\n",
    "for i in range(len(kernels)):\n",
    "    plt.text(i, svc_scores[i], svc_scores[i])\n",
    "plt.xlabel('Kernels')\n",
    "plt.ylabel('Scores')\n",
    "plt.title('Support Vector Classifier scores for different kernels')\n",
    "##################### with best kernel \n",
    "clf=SVC(kernel ='rbf')\n",
    "#clf.fit(X_train,y_train)\n",
    "clf = CalibratedClassifierCV(clf, method=\"sigmoid\")\n",
    "clf.fit(X_train, y_train)\n",
    "predict_y=clf.predict_proba(X_test)\n",
    "print(\"The log loss is:\",log_loss(y_test, predict_y, labels=clf.classes_, eps=1e-15))#########Plot confusion atrix\n",
    "print(len(predict_y))\n",
    "#print(len(y_test))"
   ]
  },
  {
   "cell_type": "markdown",
   "metadata": {},
   "source": [
    "### Decision trees with standard scaling"
   ]
  },
  {
   "cell_type": "code",
   "execution_count": 89,
   "metadata": {},
   "outputs": [],
   "source": [
    "from sklearn.tree import DecisionTreeClassifier \n",
    "from sklearn.metrics import accuracy_score \n",
    "from sklearn.metrics import classification_report "
   ]
  },
  {
   "cell_type": "markdown",
   "metadata": {},
   "source": [
    "#### Gini index and entropy"
   ]
  },
  {
   "cell_type": "code",
   "execution_count": 90,
   "metadata": {},
   "outputs": [],
   "source": [
    "def train_using_gini(X_train, X_test, y_train): \n",
    "  \n",
    "    # Creating the classifier object \n",
    "    clf_gini = DecisionTreeClassifier(criterion = \"gini\", \n",
    "            random_state = 100,max_depth=3, min_samples_leaf=5) \n",
    "  \n",
    "    # Performing training \n",
    "    clf_gini.fit(X_train, y_train) \n",
    "    return clf_gini \n",
    "      \n",
    "# Function to perform training with entropy. \n",
    "def train_using_entropy(X_train, X_test, y_train): \n",
    "  \n",
    "    # Decision tree with entropy \n",
    "    clf_entropy = DecisionTreeClassifier( \n",
    "            criterion = \"entropy\", random_state = 100, \n",
    "            max_depth =3, min_samples_leaf = 5) \n",
    "  \n",
    "    # Performing training \n",
    "    clf_entropy.fit(X_train, y_train) \n",
    "    return clf_entropy \n",
    "  \n",
    "#Function to make predictions \n",
    "def prediction(X_test, clf_object): \n",
    "  \n",
    "    # Predicton on test with giniIndex \n",
    "    y_pred = clf_object.predict(X_test) \n",
    "    print(\"Predicted values:\") \n",
    "    print(y_pred) \n",
    "    return y_pred \n",
    "      \n",
    "# Function to calculate accuracy \n",
    "def cal_accuracy(y_test, y_pred): \n",
    "      \n",
    "    print(\"Confusion Matrix: \", \n",
    "        confusion_matrix(y_test, y_pred)) \n",
    "      \n",
    "    print (\"Accuracy : \", \n",
    "    accuracy_score(y_test,y_pred)*100) \n",
    "      \n",
    "    print(\"Report : \", \n",
    "    classification_report(y_test, y_pred)) "
   ]
  },
  {
   "cell_type": "code",
   "execution_count": 91,
   "metadata": {},
   "outputs": [
    {
     "name": "stdout",
     "output_type": "stream",
     "text": [
      "Results Using Gini Index:\n",
      "Predicted values:\n",
      "[0 0 0 ... 0 0 1]\n",
      "Confusion Matrix:  [[889  52]\n",
      " [163 157]]\n",
      "Accuracy :  82.95003965107058\n",
      "Report :                precision    recall  f1-score   support\n",
      "\n",
      "           0       0.85      0.94      0.89       941\n",
      "           1       0.75      0.49      0.59       320\n",
      "\n",
      "    accuracy                           0.83      1261\n",
      "   macro avg       0.80      0.72      0.74      1261\n",
      "weighted avg       0.82      0.83      0.82      1261\n",
      "\n",
      "Results Using Entropy:\n",
      "Predicted values:\n",
      "[0 0 0 ... 1 0 1]\n",
      "Confusion Matrix:  [[884  57]\n",
      " [151 169]]\n",
      "Accuracy :  83.50515463917526\n",
      "Report :                precision    recall  f1-score   support\n",
      "\n",
      "           0       0.85      0.94      0.89       941\n",
      "           1       0.75      0.53      0.62       320\n",
      "\n",
      "    accuracy                           0.84      1261\n",
      "   macro avg       0.80      0.73      0.76      1261\n",
      "weighted avg       0.83      0.84      0.82      1261\n",
      "\n"
     ]
    }
   ],
   "source": [
    "clf_gini = train_using_gini(X_train, X_test, y_train) \n",
    "clf_entropy = train_using_entropy(X_train, X_test, y_train) \n",
    "      \n",
    "print(\"Results Using Gini Index:\") \n",
    "    \n",
    "y_pred_gini = prediction(X_test, clf_gini) \n",
    "cal_accuracy(y_test, y_pred_gini) \n",
    "      \n",
    "print(\"Results Using Entropy:\") \n",
    "\n",
    "y_pred_entropy = prediction(X_test, clf_entropy) \n",
    "cal_accuracy(y_test, y_pred_entropy) "
   ]
  },
  {
   "cell_type": "markdown",
   "metadata": {},
   "source": [
    "### gini index 82.95% and entropy 83.50%"
   ]
  },
  {
   "cell_type": "code",
   "execution_count": 92,
   "metadata": {},
   "outputs": [],
   "source": [
    "dt_scores = []\n",
    "for i in range(1, len(X_col) + 1):\n",
    "    dt_classifier = DecisionTreeClassifier(max_features = i, random_state = 42)\n",
    "    dt_classifier.fit(X_train, y_train)\n",
    "    dt_scores.append(dt_classifier.score(X_test, y_test))"
   ]
  },
  {
   "cell_type": "code",
   "execution_count": 93,
   "metadata": {},
   "outputs": [
    {
     "name": "stdout",
     "output_type": "stream",
     "text": [
      "The log loss is: 0.41994397755931645\n",
      "1261\n"
     ]
    },
    {
     "data": {
      "image/png": "[encoded data removed]",
      "text/plain": [
       "<Figure size 432x288 with 1 Axes>"
      ]
     },
     "metadata": {
      "needs_background": "light"
     },
     "output_type": "display_data"
    }
   ],
   "source": [
    "plt.plot([i for i in range(1, len(X_col) + 1)], dt_scores, color = 'green')\n",
    "for i in range(1, len(X_col) + 1):\n",
    "    plt.text(i, dt_scores[i-1], (i, dt_scores[i-1]))\n",
    "plt.xticks([i for i in range(1, len(X_col) + 1)])\n",
    "plt.xlabel('Max features')\n",
    "plt.ylabel('Scores')\n",
    "plt.title('Decision Tree Classifier scores for different number of maximum features')\n",
    "clf=DecisionTreeClassifier(max_features = 10, random_state = 42)\n",
    "clf.fit(X_train,y_train)\n",
    "clf = CalibratedClassifierCV(clf, method=\"sigmoid\")\n",
    "clf.fit(X_train, y_train)\n",
    "predict_y=clf.predict_proba(X_test)\n",
    "print(\"The log loss is:\",log_loss(y_test, predict_y, labels=clf.classes_, eps=1e-15))#########Plot confusion atrix\n",
    "print(len(predict_y))\n",
    "#print(len(y_test))"
   ]
  },
  {
   "cell_type": "code",
   "execution_count": 94,
   "metadata": {},
   "outputs": [
    {
     "data": {
      "text/plain": [
       "DecisionTreeClassifier(max_features=12, random_state=42)"
      ]
     },
     "execution_count": 94,
     "metadata": {},
     "output_type": "execute_result"
    }
   ],
   "source": [
    "dt_clf = DecisionTreeClassifier(max_features = 12, random_state = 42)\n",
    "dt_clf.fit(X_train, y_train)"
   ]
  },
  {
   "cell_type": "code",
   "execution_count": 95,
   "metadata": {},
   "outputs": [
    {
     "data": {
      "text/plain": [
       "CalibratedClassifierCV(base_estimator=DecisionTreeClassifier(max_features=12,\n",
       "                                                             random_state=42))"
      ]
     },
     "execution_count": 95,
     "metadata": {},
     "output_type": "execute_result"
    }
   ],
   "source": [
    "dt_clf = CalibratedClassifierCV(dt_clf, method=\"sigmoid\")\n",
    "dt_clf.fit(X_train, y_train)"
   ]
  },
  {
   "cell_type": "code",
   "execution_count": 96,
   "metadata": {},
   "outputs": [
    {
     "name": "stdout",
     "output_type": "stream",
     "text": [
      "Train Result:\n",
      "\n",
      "accuracy score: 0.9048\n",
      "\n",
      "Classification Report: \n",
      "               precision    recall  f1-score   support\n",
      "\n",
      "           0       0.89      1.00      0.94      3792\n",
      "           1       1.00      0.62      0.76      1252\n",
      "\n",
      "    accuracy                           0.90      5044\n",
      "   macro avg       0.94      0.81      0.85      5044\n",
      "weighted avg       0.92      0.90      0.90      5044\n",
      "\n",
      "\n",
      "Confusion Matrix: \n",
      " [[3792    0]\n",
      " [ 480  772]]\n",
      "\n",
      "ROC AUC: 0.8083\n",
      "\n",
      "Average Accuracy: \t 0.8261\n",
      "Accuracy SD: \t\t 0.0073\n",
      "Test Result:\n",
      "\n",
      "accuracy score: 0.8200\n",
      "\n",
      "Classification Report: \n",
      "               precision    recall  f1-score   support\n",
      "\n",
      "           0       0.82      0.97      0.89       941\n",
      "           1       0.80      0.38      0.52       320\n",
      "\n",
      "    accuracy                           0.82      1261\n",
      "   macro avg       0.81      0.68      0.70      1261\n",
      "weighted avg       0.82      0.82      0.80      1261\n",
      "\n",
      "\n",
      "Confusion Matrix: \n",
      " [[911  30]\n",
      " [197 123]]\n",
      "\n",
      "ROC AUC: 0.6762\n",
      "\n"
     ]
    }
   ],
   "source": [
    "print_score(dt_clf, X_train, X_test, y_train, y_test, train=True)\n",
    "print_score(dt_clf, X_train, X_test, y_train, y_test, train=False)"
   ]
  },
  {
   "cell_type": "markdown",
   "metadata": {},
   "source": [
    "### random forest (ensemble) with standard scaling"
   ]
  },
  {
   "cell_type": "code",
   "execution_count": 97,
   "metadata": {},
   "outputs": [
    {
     "data": {
      "text/plain": [
       "RandomForestClassifier(random_state=0)"
      ]
     },
     "execution_count": 97,
     "metadata": {},
     "output_type": "execute_result"
    }
   ],
   "source": [
    "from sklearn.ensemble import RandomForestClassifier\n",
    "random_forest = RandomForestClassifier(n_estimators=100, max_features=\"auto\",random_state=0)\n",
    "random_forest.fit(X_train, y_train)  "
   ]
  },
  {
   "cell_type": "code",
   "execution_count": 98,
   "metadata": {},
   "outputs": [
    {
     "name": "stdout",
     "output_type": "stream",
     "text": [
      "Train Result:\n",
      "\n",
      "accuracy score: 0.9905\n",
      "\n",
      "Classification Report: \n",
      "               precision    recall  f1-score   support\n",
      "\n",
      "           0       0.99      0.99      0.99      3792\n",
      "           1       0.98      0.98      0.98      1252\n",
      "\n",
      "    accuracy                           0.99      5044\n",
      "   macro avg       0.99      0.99      0.99      5044\n",
      "weighted avg       0.99      0.99      0.99      5044\n",
      "\n",
      "\n",
      "Confusion Matrix: \n",
      " [[3773   19]\n",
      " [  29 1223]]\n",
      "\n",
      "ROC AUC: 0.9859\n",
      "\n",
      "Average Accuracy: \t 0.8366\n",
      "Accuracy SD: \t\t 0.0107\n",
      "Test Result:\n",
      "\n",
      "accuracy score: 0.8454\n",
      "\n",
      "Classification Report: \n",
      "               precision    recall  f1-score   support\n",
      "\n",
      "           0       0.89      0.91      0.90       941\n",
      "           1       0.71      0.66      0.68       320\n",
      "\n",
      "    accuracy                           0.85      1261\n",
      "   macro avg       0.80      0.79      0.79      1261\n",
      "weighted avg       0.84      0.85      0.84      1261\n",
      "\n",
      "\n",
      "Confusion Matrix: \n",
      " [[854  87]\n",
      " [108 212]]\n",
      "\n",
      "ROC AUC: 0.7850\n",
      "\n"
     ]
    }
   ],
   "source": [
    "print_score(random_forest, X_train, X_test, y_train, y_test, train=True)\n",
    "print_score(random_forest, X_train, X_test, y_train, y_test, train=False)"
   ]
  },
  {
   "cell_type": "code",
   "execution_count": 99,
   "metadata": {},
   "outputs": [],
   "source": [
    "rf_scores = []\n",
    "estimators = [10, 100, 200, 500, 1000]\n",
    "for i in estimators:\n",
    "    rf_classifier = RandomForestClassifier(n_estimators = i, random_state = 0)\n",
    "    rf_classifier.fit(X_train, y_train)\n",
    "    rf_scores.append(rf_classifier.score(X_test, y_test))"
   ]
  },
  {
   "cell_type": "code",
   "execution_count": 100,
   "metadata": {},
   "outputs": [
    {
     "name": "stdout",
     "output_type": "stream",
     "text": [
      "The log loss is: 0.35268154942003965\n",
      "1261\n"
     ]
    },
    {
     "data": {
      "image/png": "[encoded data removed]",
      "text/plain": [
       "<Figure size 432x288 with 1 Axes>"
      ]
     },
     "metadata": {
      "needs_background": "light"
     },
     "output_type": "display_data"
    }
   ],
   "source": [
    "colors = cm.rainbow(np.linspace(0, 1, len(estimators)))\n",
    "plt.bar([i for i in range(len(estimators))], rf_scores, color = colors, width = 0.5)\n",
    "for i in range(len(estimators)):\n",
    "    plt.text(i, rf_scores[i].round(2), rf_scores[i].round(2))\n",
    "plt.xticks(ticks = [i for i in range(len(estimators))], labels = [str(estimator) for estimator in estimators])\n",
    "plt.xlabel('Number of estimators')\n",
    "plt.ylabel('Scores')\n",
    "plt.title('Random Forest Classifier scores for different number of estimators')\n",
    "clf=RandomForestClassifier(n_estimators = 200, random_state = 0)\n",
    "clf.fit(X_train,y_train)\n",
    "clf = CalibratedClassifierCV(clf, method=\"sigmoid\")\n",
    "clf.fit(X_train, y_train)\n",
    "predict_y=clf.predict_proba(X_test)\n",
    "print(\"The log loss is:\",log_loss(y_test, predict_y, labels=clf.classes_, eps=1e-15))#########Plot confusion atrix\n",
    "print(len(predict_y))\n",
    "#print(len(y_test))"
   ]
  },
  {
   "cell_type": "code",
   "execution_count": 101,
   "metadata": {},
   "outputs": [
    {
     "data": {
      "image/png": "[encoded data removed]",
      "text/plain": [
       "<Figure size 432x288 with 2 Axes>"
      ]
     },
     "metadata": {
      "needs_background": "light"
     },
     "output_type": "display_data"
    }
   ],
   "source": [
    "#correlation analysis\n",
    "corr = df_model.corr()\n",
    "ax = sns.heatmap(corr)"
   ]
  },
  {
   "cell_type": "code",
   "execution_count": 102,
   "metadata": {},
   "outputs": [
    {
     "data": {
      "image/png": "[encoded data removed]",
      "text/plain": [
       "<Figure size 720x864 with 1 Axes>"
      ]
     },
     "metadata": {
      "needs_background": "light"
     },
     "output_type": "display_data"
    }
   ],
   "source": [
    "clf=RandomForestClassifier(n_estimators = 500, random_state = 0)\n",
    "clf.fit(X_train,y_train)\n",
    "features = X_train.columns\n",
    "importances = clf.feature_importances_\n",
    "indices = (np.argsort(importances))[-25:]\n",
    "plt.figure(figsize=(10,12))\n",
    "plt.title('Feature Importances')\n",
    "plt.barh(range(len(indices)), importances[indices], color='g', align='center')\n",
    "plt.yticks(range(len(indices)), [features[i] for i in indices])\n",
    "plt.xlabel('Relative Importance')\n",
    "plt.show()"
   ]
  },
  {
   "cell_type": "markdown",
   "metadata": {},
   "source": [
    "###  Logistic Regression SGDClassifier with standard scaling"
   ]
  },
  {
   "cell_type": "code",
   "execution_count": 103,
   "metadata": {},
   "outputs": [
    {
     "name": "stdout",
     "output_type": "stream",
     "text": [
      "For values of alpha =  1e-05 The log loss is: 0.43102254433614107\n",
      "For values of alpha =  0.0001 The log loss is: 0.4143555098928638\n",
      "For values of alpha =  0.001 The log loss is: 0.41230885113270427\n",
      "For values of alpha =  0.01 The log loss is: 0.41626718525054635\n",
      "For values of alpha =  0.1 The log loss is: 0.42960364091240244\n",
      "For values of alpha =  1 The log loss is: 0.4375037532717216\n",
      "For values of alpha =  10 The log loss is: 0.4404831148454785\n"
     ]
    },
    {
     "data": {
      "image/png": "[encoded data removed]",
      "text/plain": [
       "<Figure size 432x288 with 1 Axes>"
      ]
     },
     "metadata": {
      "needs_background": "light"
     },
     "output_type": "display_data"
    },
    {
     "data": {
      "image/png": "[encoded data removed]",
      "text/plain": [
       "<Figure size 432x288 with 1 Axes>"
      ]
     },
     "metadata": {
      "needs_background": "light"
     },
     "output_type": "display_data"
    },
    {
     "data": {
      "image/png": "[encoded data removed]",
      "text/plain": [
       "<Figure size 432x288 with 1 Axes>"
      ]
     },
     "metadata": {
      "needs_background": "light"
     },
     "output_type": "display_data"
    },
    {
     "data": {
      "image/png": "[encoded data removed]",
      "text/plain": [
       "<Figure size 432x288 with 1 Axes>"
      ]
     },
     "metadata": {
      "needs_background": "light"
     },
     "output_type": "display_data"
    },
    {
     "data": {
      "image/png": "[encoded data removed]",
      "text/plain": [
       "<Figure size 432x288 with 1 Axes>"
      ]
     },
     "metadata": {
      "needs_background": "light"
     },
     "output_type": "display_data"
    },
    {
     "data": {
      "image/png": "[encoded data removed]",
      "text/plain": [
       "<Figure size 432x288 with 1 Axes>"
      ]
     },
     "metadata": {
      "needs_background": "light"
     },
     "output_type": "display_data"
    },
    {
     "data": {
      "image/png": "[encoded data removed]",
      "text/plain": [
       "<Figure size 432x288 with 1 Axes>"
      ]
     },
     "metadata": {
      "needs_background": "light"
     },
     "output_type": "display_data"
    },
    {
     "name": "stdout",
     "output_type": "stream",
     "text": [
      "For values of best alpha =  0.001 The train log loss is: 0.40360654801745827\n",
      "For values of best alpha =  0.001 The test log loss is: 0.41230885113270427\n",
      "Total number of data points : 1261\n"
     ]
    }
   ],
   "source": [
    "alpha = [10 ** x for x in range(-5, 2)] # hyperparam for SGD classifier.\n",
    "log_error_array=[]\n",
    "for i in alpha:\n",
    "    clf = SGDClassifier(alpha=i, penalty='l2', loss='log', random_state=42)\n",
    "    clf.fit(X_train, y_train)\n",
    "    sig_clf = CalibratedClassifierCV(clf, method=\"sigmoid\")\n",
    "    sig_clf.fit(X_train, y_train)\n",
    "    predict_y = sig_clf.predict_proba(X_test)\n",
    "    log_error_array.append(log_loss(y_test, predict_y, labels=clf.classes_, eps=1e-15))\n",
    "    print('For values of alpha = ', i, \"The log loss is:\",log_loss(y_test, predict_y, labels=clf.classes_, eps=1e-15))\n",
    "    fig, ax = plt.subplots()\n",
    "ax.plot(alpha, log_error_array,c='g')\n",
    "for i, txt in enumerate(np.round(log_error_array,3)):\n",
    "    ax.annotate((alpha[i],np.round(txt,3)), (alpha[i],log_error_array[i]))\n",
    "plt.grid()\n",
    "plt.title(\"Cross Validation Error for each alpha\")\n",
    "plt.xlabel(\"Alpha i's\")\n",
    "plt.ylabel(\"Error measure\")\n",
    "plt.show()\n",
    "best_alpha = np.argmin(log_error_array)\n",
    "clf = SGDClassifier(alpha=alpha[best_alpha], penalty='l2', loss='log', random_state=42)\n",
    "clf.fit(X_train, y_train)\n",
    "sig_clf = CalibratedClassifierCV(clf, method=\"sigmoid\")\n",
    "sig_clf.fit(X_train, y_train)\n",
    "predict_y = sig_clf.predict_proba(X_train)\n",
    "print('For values of best alpha = ', alpha[best_alpha], \"The train log loss is:\",log_loss(y_train, predict_y, labels=clf.classes_, eps=1e-15))\n",
    "predict_y = sig_clf.predict_proba(X_test)\n",
    "print('For values of best alpha = ', alpha[best_alpha], \"The test log loss is:\",log_loss(y_test, predict_y, labels=clf.classes_, eps=1e-15))\n",
    "predicted_y =np.argmax(predict_y,axis=1)\n",
    "print(\"Total number of data points :\", len(predicted_y))"
   ]
  },
  {
   "cell_type": "markdown",
   "metadata": {},
   "source": [
    "### Bagging with standard scaling"
   ]
  },
  {
   "cell_type": "code",
   "execution_count": 104,
   "metadata": {},
   "outputs": [
    {
     "data": {
      "text/plain": [
       "BaggingClassifier(base_estimator=SGDClassifier(alpha=0.001, loss='log',\n",
       "                                               random_state=42),\n",
       "                  n_estimators=1000, n_jobs=-1, oob_score=True,\n",
       "                  random_state=42)"
      ]
     },
     "execution_count": 104,
     "metadata": {},
     "output_type": "execute_result"
    }
   ],
   "source": [
    "from sklearn.ensemble import BaggingClassifier\n",
    "bag_clf = BaggingClassifier(base_estimator=clf, n_estimators=1000,\n",
    "                            bootstrap=True, oob_score=True,\n",
    "                            n_jobs=-1, random_state=42)\n",
    "bag_clf.fit(X_train, y_train)"
   ]
  },
  {
   "cell_type": "code",
   "execution_count": 105,
   "metadata": {},
   "outputs": [
    {
     "data": {
      "text/plain": [
       "0.8110626486915147"
      ]
     },
     "execution_count": 105,
     "metadata": {},
     "output_type": "execute_result"
    }
   ],
   "source": [
    "bag_clf.oob_score_\n",
    "#OOB score is computed as the number of correctly predicted rows from the out of bag sample."
   ]
  },
  {
   "cell_type": "code",
   "execution_count": 106,
   "metadata": {},
   "outputs": [
    {
     "name": "stdout",
     "output_type": "stream",
     "text": [
      "Train Result:\n",
      "\n",
      "accuracy score: 0.8125\n",
      "\n",
      "Classification Report: \n",
      "               precision    recall  f1-score   support\n",
      "\n",
      "           0       0.83      0.94      0.88      3792\n",
      "           1       0.70      0.42      0.53      1252\n",
      "\n",
      "    accuracy                           0.81      5044\n",
      "   macro avg       0.77      0.68      0.71      5044\n",
      "weighted avg       0.80      0.81      0.79      5044\n",
      "\n",
      "\n",
      "Confusion Matrix: \n",
      " [[3570  222]\n",
      " [ 724  528]]\n",
      "\n",
      "ROC AUC: 0.6816\n",
      "\n",
      "Average Accuracy: \t 0.8101\n",
      "Accuracy SD: \t\t 0.0164\n",
      "Test Result:\n",
      "\n",
      "accuracy score: 0.8097\n",
      "\n",
      "Classification Report: \n",
      "               precision    recall  f1-score   support\n",
      "\n",
      "           0       0.83      0.94      0.88       941\n",
      "           1       0.71      0.42      0.53       320\n",
      "\n",
      "    accuracy                           0.81      1261\n",
      "   macro avg       0.77      0.68      0.71      1261\n",
      "weighted avg       0.80      0.81      0.79      1261\n",
      "\n",
      "\n",
      "Confusion Matrix: \n",
      " [[885  56]\n",
      " [184 136]]\n",
      "\n",
      "ROC AUC: 0.6827\n",
      "\n"
     ]
    }
   ],
   "source": [
    "print_score(bag_clf, X_train, X_test, y_train, y_test, train=True)\n",
    "print_score(bag_clf, X_train, X_test, y_train, y_test, train=False)"
   ]
  },
  {
   "cell_type": "markdown",
   "metadata": {},
   "source": [
    "### Gradient boosting with standard scaling"
   ]
  },
  {
   "cell_type": "code",
   "execution_count": 107,
   "metadata": {},
   "outputs": [
    {
     "data": {
      "text/plain": [
       "GradientBoostingClassifier()"
      ]
     },
     "execution_count": 107,
     "metadata": {},
     "output_type": "execute_result"
    }
   ],
   "source": [
    "gradient_boost= GradientBoostingClassifier(n_estimators=100)\n",
    "gradient_boost.fit(X_train, y_train)"
   ]
  },
  {
   "cell_type": "code",
   "execution_count": 108,
   "metadata": {},
   "outputs": [
    {
     "name": "stdout",
     "output_type": "stream",
     "text": [
      "Train Result:\n",
      "\n",
      "accuracy score: 0.8751\n",
      "\n",
      "Classification Report: \n",
      "               precision    recall  f1-score   support\n",
      "\n",
      "           0       0.88      0.96      0.92      3792\n",
      "           1       0.83      0.62      0.71      1252\n",
      "\n",
      "    accuracy                           0.88      5044\n",
      "   macro avg       0.86      0.79      0.82      5044\n",
      "weighted avg       0.87      0.88      0.87      5044\n",
      "\n",
      "\n",
      "Confusion Matrix: \n",
      " [[3636  156]\n",
      " [ 474  778]]\n",
      "\n",
      "ROC AUC: 0.7901\n",
      "\n",
      "Average Accuracy: \t 0.8584\n",
      "Accuracy SD: \t\t 0.0167\n",
      "Test Result:\n",
      "\n",
      "accuracy score: 0.8525\n",
      "\n",
      "Classification Report: \n",
      "               precision    recall  f1-score   support\n",
      "\n",
      "           0       0.87      0.94      0.90       941\n",
      "           1       0.76      0.61      0.68       320\n",
      "\n",
      "    accuracy                           0.85      1261\n",
      "   macro avg       0.82      0.77      0.79      1261\n",
      "weighted avg       0.85      0.85      0.85      1261\n",
      "\n",
      "\n",
      "Confusion Matrix: \n",
      " [[881  60]\n",
      " [126 194]]\n",
      "\n",
      "ROC AUC: 0.7712\n",
      "\n"
     ]
    }
   ],
   "source": [
    "print_score(gradient_boost, X_train, X_test, y_train, y_test, train=True)\n",
    "print_score(gradient_boost, X_train, X_test, y_train, y_test, train=False)"
   ]
  },
  {
   "cell_type": "code",
   "execution_count": null,
   "metadata": {},
   "outputs": [],
   "source": []
  },
  {
   "cell_type": "code",
   "execution_count": null,
   "metadata": {},
   "outputs": [],
   "source": []
  },
  {
   "cell_type": "markdown",
   "metadata": {},
   "source": [
    "### XG boost with standard scaling"
   ]
  },
  {
   "cell_type": "code",
   "execution_count": 109,
   "metadata": {},
   "outputs": [
    {
     "data": {
      "text/plain": [
       "XGBClassifier(base_score=0.5, booster='gbtree', colsample_bylevel=1,\n",
       "              colsample_bynode=1, colsample_bytree=1, gamma=0, gpu_id=-1,\n",
       "              importance_type='gain', interaction_constraints='',\n",
       "              learning_rate=0.300000012, max_delta_step=0, max_depth=6,\n",
       "              min_child_weight=1, missing=nan, monotone_constraints='()',\n",
       "              n_estimators=100, n_jobs=0, num_parallel_tree=1, random_state=0,\n",
       "              reg_alpha=0, reg_lambda=1, scale_pos_weight=1, subsample=1,\n",
       "              tree_method='exact', validate_parameters=1, verbosity=None)"
      ]
     },
     "execution_count": 109,
     "metadata": {},
     "output_type": "execute_result"
    }
   ],
   "source": [
    "from xgboost import XGBClassifier\n",
    "xg_boost = XGBClassifier()\n",
    "xg_boost.fit(X_train, y_train)"
   ]
  },
  {
   "cell_type": "code",
   "execution_count": 110,
   "metadata": {},
   "outputs": [],
   "source": [
    "y_pred = xg_boost.predict(X_test)\n",
    "predictions = [round(value) for value in y_pred]"
   ]
  },
  {
   "cell_type": "code",
   "execution_count": 111,
   "metadata": {},
   "outputs": [
    {
     "name": "stdout",
     "output_type": "stream",
     "text": [
      "Train Result:\n",
      "\n",
      "accuracy score: 0.9383\n",
      "\n",
      "Classification Report: \n",
      "               precision    recall  f1-score   support\n",
      "\n",
      "           0       0.95      0.97      0.96      3792\n",
      "           1       0.90      0.84      0.87      1252\n",
      "\n",
      "    accuracy                           0.94      5044\n",
      "   macro avg       0.93      0.91      0.92      5044\n",
      "weighted avg       0.94      0.94      0.94      5044\n",
      "\n",
      "\n",
      "Confusion Matrix: \n",
      " [[3681  111]\n",
      " [ 200 1052]]\n",
      "\n",
      "ROC AUC: 0.9055\n",
      "\n",
      "Average Accuracy: \t 0.8584\n",
      "Accuracy SD: \t\t 0.0128\n",
      "Test Result:\n",
      "\n",
      "accuracy score: 0.8541\n",
      "\n",
      "Classification Report: \n",
      "               precision    recall  f1-score   support\n",
      "\n",
      "           0       0.89      0.92      0.90       941\n",
      "           1       0.74      0.65      0.69       320\n",
      "\n",
      "    accuracy                           0.85      1261\n",
      "   macro avg       0.81      0.79      0.80      1261\n",
      "weighted avg       0.85      0.85      0.85      1261\n",
      "\n",
      "\n",
      "Confusion Matrix: \n",
      " [[868  73]\n",
      " [111 209]]\n",
      "\n",
      "ROC AUC: 0.7878\n",
      "\n"
     ]
    }
   ],
   "source": [
    "print_score(xg_boost, X_train, X_test, y_train, y_test, train=True)\n",
    "print_score(xg_boost, X_train, X_test, y_train, y_test, train=False)"
   ]
  },
  {
   "cell_type": "code",
   "execution_count": null,
   "metadata": {},
   "outputs": [],
   "source": []
  },
  {
   "cell_type": "markdown",
   "metadata": {},
   "source": [
    "### adaboost -> random forest with standard scaling"
   ]
  },
  {
   "cell_type": "code",
   "execution_count": 112,
   "metadata": {},
   "outputs": [
    {
     "data": {
      "text/plain": [
       "AdaBoostClassifier(base_estimator=RandomForestClassifier(random_state=0),\n",
       "                   learning_rate=1, n_estimators=100, random_state=1)"
      ]
     },
     "execution_count": 112,
     "metadata": {},
     "output_type": "execute_result"
    }
   ],
   "source": [
    "from sklearn.ensemble import RandomForestClassifier,AdaBoostClassifier,GradientBoostingClassifier\n",
    "adaboost_random = AdaBoostClassifier(n_estimators=100, base_estimator=random_forest,learning_rate=1, random_state = 1)\n",
    "adaboost_random.fit(X_train,y_train)"
   ]
  },
  {
   "cell_type": "code",
   "execution_count": null,
   "metadata": {},
   "outputs": [],
   "source": [
    "#print_score(adaboost_random, X_train, X_test, y_train, y_test, train=True)\n",
    "#print_score(adaboost_random, X_train, X_test, y_train, y_test, train=False)"
   ]
  },
  {
   "cell_type": "code",
   "execution_count": null,
   "metadata": {},
   "outputs": [],
   "source": [
    "#found that adaboost+random takes much much more time than bagging\n",
    "#baggin approx more than 40 min \n",
    "#adaboost+random more than 2hrs"
   ]
  },
  {
   "cell_type": "markdown",
   "metadata": {},
   "source": [
    "### random forest -> adaboost -> bagging with standard scaling"
   ]
  },
  {
   "cell_type": "code",
   "execution_count": null,
   "metadata": {},
   "outputs": [],
   "source": [
    "#takes almost more than 2hrs to train"
   ]
  },
  {
   "cell_type": "code",
   "execution_count": null,
   "metadata": {},
   "outputs": [],
   "source": [
    "# from sklearn import model_selection \n",
    "# seed = 8\n",
    "# # no. of base classifier \n",
    "# num_trees = 500\n",
    "# kfold = model_selection.KFold(n_splits = 3, \n",
    "#                        random_state = seed) \n",
    "  \n",
    "# # bagging classifier \n",
    "# model = BaggingClassifier(base_estimator = adaboost_random, \n",
    "#                           n_estimators = num_trees, \n",
    "#                           random_state = seed) \n",
    "  \n",
    "# results = model_selection.cross_val_score(model, X, y, cv = kfold) \n",
    "# print(\"accuracy :\") \n",
    "# print(results.mean()) "
   ]
  },
  {
   "cell_type": "code",
   "execution_count": null,
   "metadata": {},
   "outputs": [],
   "source": []
  },
  {
   "cell_type": "code",
   "execution_count": null,
   "metadata": {},
   "outputs": [],
   "source": [
    "#t = sns.lmplot(x=\"hr\", y=\"cnt\", data=df)"
   ]
  },
  {
   "cell_type": "markdown",
   "metadata": {},
   "source": [
    "### Stacking\n",
    "#### Meta Classifier- as Logistic Regression and ensembles as \"Decision Tree\", \"SVM\" and \"Random Forest\" "
   ]
  },
  {
   "cell_type": "code",
   "execution_count": 114,
   "metadata": {},
   "outputs": [],
   "source": [
    "xtrain_base, xpred_base, ytrain_base, ypred_base = train_test_split(X_train, y_train, test_size=0.5, random_state=100)"
   ]
  },
  {
   "cell_type": "code",
   "execution_count": 115,
   "metadata": {},
   "outputs": [],
   "source": [
    "def train_base_learners(base_learners, inp, out, verbose=True):\n",
    "    \"\"\"\n",
    "    Train all base learners in the library.\n",
    "    \"\"\"\n",
    "    if verbose: print(\"Fitting models.\")\n",
    "    for i, (name, m) in enumerate(base_learners.items()):\n",
    "        if verbose: print(\"%s...\" % name, end=\" \", flush=False)\n",
    "        m.fit(inp, out)\n",
    "        if verbose: print(\"done\")\n",
    "        "
   ]
  },
  {
   "cell_type": "code",
   "execution_count": 116,
   "metadata": {},
   "outputs": [
    {
     "name": "stdout",
     "output_type": "stream",
     "text": [
      "Fitting models.\n",
      "DT... done\n",
      "RF... done\n",
      "SVM... done\n"
     ]
    }
   ],
   "source": [
    "train_base_learners({'DT': dt_clf,'RF': random_forest,'SVM':classifier_svm}, xtrain_base, ytrain_base)"
   ]
  },
  {
   "cell_type": "code",
   "execution_count": 117,
   "metadata": {},
   "outputs": [],
   "source": [
    "def predict_base_learners(pred_base_learners, inp, verbose=True):\n",
    "    \"\"\"\n",
    "    Generate a prediction matrix.\n",
    "    \"\"\"\n",
    "    P = np.zeros((inp.shape[0], len(pred_base_learners)))\n",
    "\n",
    "    if verbose: print(\"Generating base learner predictions.\")\n",
    "    for i, (name, m) in enumerate(pred_base_learners.items()):\n",
    "        if verbose: print(\"%s...\" % name, end=\" \", flush=False)\n",
    "        p = m.predict_proba(inp)\n",
    "        # With two classes, need only predictions for one class\n",
    "        P[:, i] = p[:, 1]\n",
    "        if verbose: print(\"done\")\n",
    "\n",
    "    return P"
   ]
  },
  {
   "cell_type": "code",
   "execution_count": 118,
   "metadata": {},
   "outputs": [
    {
     "name": "stdout",
     "output_type": "stream",
     "text": [
      "Generating base learner predictions.\n",
      "DT... done\n",
      "RF... done\n"
     ]
    },
    {
     "data": {
      "text/plain": [
       "LogisticRegression()"
      ]
     },
     "execution_count": 118,
     "metadata": {},
     "output_type": "execute_result"
    }
   ],
   "source": [
    "P_base = predict_base_learners({'DT': dt_clf,'RF': random_forest}, xpred_base)\n",
    "logisticRegr = LogisticRegression()\n",
    "logisticRegr.fit(P_base, ypred_base)"
   ]
  },
  {
   "cell_type": "code",
   "execution_count": 119,
   "metadata": {},
   "outputs": [],
   "source": [
    "def ensemble_predict(base_learners, meta_learner, inp, verbose=True):\n",
    "    \"\"\"\n",
    "    Generate predictions from the ensemble.\n",
    "    \"\"\"\n",
    "    P_pred = predict_base_learners(base_learners, inp, verbose=verbose)\n",
    "    return P_pred, meta_learner.predict_proba(P_pred)[:, 1]"
   ]
  },
  {
   "cell_type": "code",
   "execution_count": 120,
   "metadata": {},
   "outputs": [
    {
     "name": "stdout",
     "output_type": "stream",
     "text": [
      "Generating base learner predictions.\n",
      "DT... done\n",
      "RF... done\n",
      "\n",
      "Ensemble ROC-AUC score: 0.881\n"
     ]
    }
   ],
   "source": [
    "P_pred, p = ensemble_predict({'DT': dt_clf,'RF': random_forest}, logisticRegr, X_test)\n",
    "print(\"\\nEnsemble ROC-AUC score: %.3f\" % roc_auc_score(y_test, p))"
   ]
  },
  {
   "cell_type": "markdown",
   "metadata": {},
   "source": [
    "#### Stacking -> Decision trees, Random forest & Xg boost"
   ]
  },
  {
   "cell_type": "code",
   "execution_count": 121,
   "metadata": {},
   "outputs": [
    {
     "name": "stdout",
     "output_type": "stream",
     "text": [
      "Train Result:\n",
      "\n",
      "accuracy score: 0.9463\n",
      "\n",
      "Classification Report: \n",
      "               precision    recall  f1-score   support\n",
      "\n",
      "           0       0.95      0.98      0.96      3792\n",
      "           1       0.94      0.84      0.89      1252\n",
      "\n",
      "    accuracy                           0.95      5044\n",
      "   macro avg       0.94      0.91      0.93      5044\n",
      "weighted avg       0.95      0.95      0.95      5044\n",
      "\n",
      "\n",
      "Confusion Matrix: \n",
      " [[3720   72]\n",
      " [ 199 1053]]\n",
      "\n",
      "ROC AUC: 0.9110\n",
      "\n",
      "Average Accuracy: \t 0.8567\n",
      "Accuracy SD: \t\t 0.0110\n",
      "Test Result:\n",
      "\n",
      "accuracy score: 0.8573\n",
      "\n",
      "Classification Report: \n",
      "               precision    recall  f1-score   support\n",
      "\n",
      "           0       0.88      0.93      0.91       941\n",
      "           1       0.76      0.64      0.69       320\n",
      "\n",
      "    accuracy                           0.86      1261\n",
      "   macro avg       0.82      0.79      0.80      1261\n",
      "weighted avg       0.85      0.86      0.85      1261\n",
      "\n",
      "\n",
      "Confusion Matrix: \n",
      " [[876  65]\n",
      " [115 205]]\n",
      "\n",
      "ROC AUC: 0.7858\n",
      "\n"
     ]
    }
   ],
   "source": [
    "from sklearn.ensemble import StackingClassifier\n",
    "sclf = StackingClassifier(estimators=[('DT',dt_clf ),('RFC',random_forest),('XG', xg_boost)])\n",
    "sclf.fit(X_train, y_train)\n",
    "print_score(sclf, X_train, X_test, y_train, y_test, train=True)\n",
    "print_score(sclf, X_train, X_test, y_train, y_test, train=False)"
   ]
  },
  {
   "cell_type": "markdown",
   "metadata": {},
   "source": [
    "#### Stacking -> Decision trees, Random forest, SVM & Xg boost"
   ]
  },
  {
   "cell_type": "code",
   "execution_count": 122,
   "metadata": {},
   "outputs": [
    {
     "name": "stdout",
     "output_type": "stream",
     "text": [
      "Train Result:\n",
      "\n",
      "accuracy score: 0.9264\n",
      "\n",
      "Classification Report: \n",
      "               precision    recall  f1-score   support\n",
      "\n",
      "           0       0.93      0.97      0.95      3792\n",
      "           1       0.91      0.78      0.84      1252\n",
      "\n",
      "    accuracy                           0.93      5044\n",
      "   macro avg       0.92      0.88      0.90      5044\n",
      "weighted avg       0.93      0.93      0.92      5044\n",
      "\n",
      "\n",
      "Confusion Matrix: \n",
      " [[3692  100]\n",
      " [ 271  981]]\n",
      "\n",
      "ROC AUC: 0.8786\n",
      "\n",
      "Average Accuracy: \t 0.8577\n",
      "Accuracy SD: \t\t 0.0159\n",
      "Test Result:\n",
      "\n",
      "accuracy score: 0.8588\n",
      "\n",
      "Classification Report: \n",
      "               precision    recall  f1-score   support\n",
      "\n",
      "           0       0.88      0.94      0.91       941\n",
      "           1       0.77      0.63      0.69       320\n",
      "\n",
      "    accuracy                           0.86      1261\n",
      "   macro avg       0.83      0.78      0.80      1261\n",
      "weighted avg       0.85      0.86      0.85      1261\n",
      "\n",
      "\n",
      "Confusion Matrix: \n",
      " [[882  59]\n",
      " [119 201]]\n",
      "\n",
      "ROC AUC: 0.7827\n",
      "\n"
     ]
    }
   ],
   "source": [
    "from sklearn.ensemble import StackingClassifier\n",
    "sclf = StackingClassifier(estimators=[('DT',dt_clf ),('RFC',random_forest),('XG', xg_boost),('SVM', classifier_svm)])\n",
    "sclf.fit(X_train, y_train)\n",
    "print_score(sclf, X_train, X_test, y_train, y_test, train=True)\n",
    "print_score(sclf, X_train, X_test, y_train, y_test, train=False)"
   ]
  },
  {
   "cell_type": "markdown",
   "metadata": {},
   "source": [
    "### Implementing PCA"
   ]
  },
  {
   "cell_type": "code",
   "execution_count": 123,
   "metadata": {},
   "outputs": [],
   "source": [
    "X = df_model.drop(['income_level'], axis=1)\n",
    "X_col = X.columns\n",
    "y = df_model['income_level']"
   ]
  },
  {
   "cell_type": "code",
   "execution_count": 124,
   "metadata": {},
   "outputs": [],
   "source": [
    "X = StandardScaler().fit_transform(X)"
   ]
  },
  {
   "cell_type": "code",
   "execution_count": 125,
   "metadata": {},
   "outputs": [
    {
     "name": "stdout",
     "output_type": "stream",
     "text": [
      "Accuracy: 0.820 (0.033)\n"
     ]
    }
   ],
   "source": [
    "# evaluate pca with logistic regression algorithm for classification\n",
    "from numpy import mean\n",
    "from numpy import std\n",
    "from sklearn.datasets import make_classification\n",
    "from sklearn.model_selection import cross_val_score\n",
    "from sklearn.model_selection import RepeatedStratifiedKFold\n",
    "from sklearn.pipeline import Pipeline\n",
    "from sklearn.decomposition import PCA\n",
    "from sklearn.linear_model import LogisticRegression\n",
    "# define dataset\n",
    "X, y = make_classification(n_samples=1000, n_features=20, n_informative=10, n_redundant=10, random_state=7)\n",
    "# define the pipeline\n",
    "steps = [('pca', PCA(n_components=7)), ('m', LogisticRegression())]\n",
    "model = Pipeline(steps=steps)\n",
    "# evaluate model\n",
    "cv = RepeatedStratifiedKFold(n_splits=10, n_repeats=3, random_state=1)\n",
    "n_scores = cross_val_score(model, X, y, scoring='accuracy', cv=cv, n_jobs=-1)\n",
    "# report performance\n",
    "print('Accuracy: %.3f (%.3f)' % (mean(n_scores), std(n_scores)))"
   ]
  },
  {
   "cell_type": "code",
   "execution_count": 126,
   "metadata": {},
   "outputs": [
    {
     "name": "stdout",
     "output_type": "stream",
     "text": [
      "Accuracy: 0.794 (0.040)\n"
     ]
    }
   ],
   "source": [
    "# evaluate pca with logistic regression algorithm for classification\n",
    "from numpy import mean\n",
    "from numpy import std\n",
    "from sklearn.datasets import make_classification\n",
    "from sklearn.model_selection import cross_val_score\n",
    "from sklearn.model_selection import RepeatedStratifiedKFold\n",
    "from sklearn.pipeline import Pipeline\n",
    "from sklearn.decomposition import PCA\n",
    "from sklearn.linear_model import LogisticRegression\n",
    "# define dataset\n",
    "X, y = make_classification(n_samples=1000, n_features=20, n_informative=10, n_redundant=10, random_state=7)\n",
    "# define the pipeline\n",
    "steps = [('pca', PCA(n_components=2)), ('m', LogisticRegression())]\n",
    "model = Pipeline(steps=steps)\n",
    "# evaluate model\n",
    "cv = RepeatedStratifiedKFold(n_splits=10, n_repeats=3, random_state=1)\n",
    "n_scores = cross_val_score(model, X, y, scoring='accuracy', cv=cv, n_jobs=-1)\n",
    "# report performance\n",
    "print('Accuracy: %.3f (%.3f)' % (mean(n_scores), std(n_scores)))"
   ]
  },
  {
   "cell_type": "code",
   "execution_count": 128,
   "metadata": {},
   "outputs": [
    {
     "data": {
      "text/html": [
       "<div>\n",
       "<style scoped>\n",
       "    .dataframe tbody tr th:only-of-type {\n",
       "        vertical-align: middle;\n",
       "    }\n",
       "\n",
       "    .dataframe tbody tr th {\n",
       "        vertical-align: top;\n",
       "    }\n",
       "\n",
       "    .dataframe thead th {\n",
       "        text-align: right;\n",
       "    }\n",
       "</style>\n",
       "<table border=\"1\" class=\"dataframe\">\n",
       "  <thead>\n",
       "    <tr style=\"text-align: right;\">\n",
       "      <th></th>\n",
       "      <th>principal component 1</th>\n",
       "      <th>principal component 2</th>\n",
       "    </tr>\n",
       "  </thead>\n",
       "  <tbody>\n",
       "    <tr>\n",
       "      <th>0</th>\n",
       "      <td>-4.385623</td>\n",
       "      <td>-0.429046</td>\n",
       "    </tr>\n",
       "    <tr>\n",
       "      <th>1</th>\n",
       "      <td>9.410961</td>\n",
       "      <td>2.914930</td>\n",
       "    </tr>\n",
       "    <tr>\n",
       "      <th>2</th>\n",
       "      <td>-3.595490</td>\n",
       "      <td>-1.820090</td>\n",
       "    </tr>\n",
       "    <tr>\n",
       "      <th>3</th>\n",
       "      <td>-0.346018</td>\n",
       "      <td>-4.690560</td>\n",
       "    </tr>\n",
       "    <tr>\n",
       "      <th>4</th>\n",
       "      <td>1.210653</td>\n",
       "      <td>2.078321</td>\n",
       "    </tr>\n",
       "  </tbody>\n",
       "</table>\n",
       "</div>"
      ],
      "text/plain": [
       "   principal component 1  principal component 2\n",
       "0              -4.385623              -0.429046\n",
       "1               9.410961               2.914930\n",
       "2              -3.595490              -1.820090\n",
       "3              -0.346018              -4.690560\n",
       "4               1.210653               2.078321"
      ]
     },
     "execution_count": 128,
     "metadata": {},
     "output_type": "execute_result"
    }
   ],
   "source": [
    "from sklearn.decomposition import PCA\n",
    "pca = PCA(n_components=2)\n",
    "principalComponents = pca.fit_transform(X)\n",
    "principalDf = pd.DataFrame(data = principalComponents\n",
    "             , columns = ['principal component 1', 'principal component 2'])\n",
    "principalDf.head()"
   ]
  },
  {
   "cell_type": "code",
   "execution_count": 129,
   "metadata": {},
   "outputs": [
    {
     "data": {
      "text/html": [
       "<div>\n",
       "<style scoped>\n",
       "    .dataframe tbody tr th:only-of-type {\n",
       "        vertical-align: middle;\n",
       "    }\n",
       "\n",
       "    .dataframe tbody tr th {\n",
       "        vertical-align: top;\n",
       "    }\n",
       "\n",
       "    .dataframe thead th {\n",
       "        text-align: right;\n",
       "    }\n",
       "</style>\n",
       "<table border=\"1\" class=\"dataframe\">\n",
       "  <thead>\n",
       "    <tr style=\"text-align: right;\">\n",
       "      <th></th>\n",
       "      <th>principal component 1</th>\n",
       "      <th>principal component 2</th>\n",
       "      <th>income_level</th>\n",
       "    </tr>\n",
       "  </thead>\n",
       "  <tbody>\n",
       "    <tr>\n",
       "      <th>0</th>\n",
       "      <td>-4.385623</td>\n",
       "      <td>-0.429046</td>\n",
       "      <td>0.0</td>\n",
       "    </tr>\n",
       "    <tr>\n",
       "      <th>1</th>\n",
       "      <td>9.410961</td>\n",
       "      <td>2.914930</td>\n",
       "      <td>0.0</td>\n",
       "    </tr>\n",
       "    <tr>\n",
       "      <th>2</th>\n",
       "      <td>-3.595490</td>\n",
       "      <td>-1.820090</td>\n",
       "      <td>0.0</td>\n",
       "    </tr>\n",
       "    <tr>\n",
       "      <th>3</th>\n",
       "      <td>-0.346018</td>\n",
       "      <td>-4.690560</td>\n",
       "      <td>0.0</td>\n",
       "    </tr>\n",
       "    <tr>\n",
       "      <th>4</th>\n",
       "      <td>1.210653</td>\n",
       "      <td>2.078321</td>\n",
       "      <td>0.0</td>\n",
       "    </tr>\n",
       "  </tbody>\n",
       "</table>\n",
       "</div>"
      ],
      "text/plain": [
       "   principal component 1  principal component 2  income_level\n",
       "0              -4.385623              -0.429046           0.0\n",
       "1               9.410961               2.914930           0.0\n",
       "2              -3.595490              -1.820090           0.0\n",
       "3              -0.346018              -4.690560           0.0\n",
       "4               1.210653               2.078321           0.0"
      ]
     },
     "execution_count": 129,
     "metadata": {},
     "output_type": "execute_result"
    }
   ],
   "source": [
    "finalDf = pd.concat([principalDf, df_model[['income_level']]], axis = 1)\n",
    "finalDf.head()"
   ]
  },
  {
   "cell_type": "code",
   "execution_count": null,
   "metadata": {},
   "outputs": [],
   "source": []
  },
  {
   "cell_type": "code",
   "execution_count": 130,
   "metadata": {},
   "outputs": [
    {
     "data": {
      "image/png": "[encoded data removed]",
      "text/plain": [
       "<Figure size 576x576 with 1 Axes>"
      ]
     },
     "metadata": {
      "needs_background": "light"
     },
     "output_type": "display_data"
    }
   ],
   "source": [
    "fig = plt.figure(figsize = (8,8))\n",
    "ax = fig.add_subplot(1,1,1) \n",
    "ax.set_xlabel('Principal Component 1', fontsize = 15)\n",
    "ax.set_ylabel('Principal Component 2', fontsize = 15)\n",
    "ax.set_title('2 component PCA', fontsize = 20)\n",
    "targets = [1, 0]\n",
    "colors = ['r', 'g']\n",
    "for target, color in zip(targets,colors):\n",
    "    indicesToKeep = finalDf['income_level'] == target\n",
    "    ax.scatter(finalDf.loc[indicesToKeep, 'principal component 1']\n",
    "               , finalDf.loc[indicesToKeep, 'principal component 2']\n",
    "               , c = color\n",
    "               , s = 50)\n",
    "ax.legend(targets)\n",
    "ax.grid()"
   ]
  },
  {
   "cell_type": "markdown",
   "metadata": {},
   "source": [
    "### Singular Value Decomposition"
   ]
  },
  {
   "cell_type": "code",
   "execution_count": 135,
   "metadata": {},
   "outputs": [
    {
     "name": "stdout",
     "output_type": "stream",
     "text": [
      "Accuracy: 0.824 (0.034)\n"
     ]
    }
   ],
   "source": [
    "# evaluate svd with logistic regression algorithm for classification\n",
    "from numpy import mean\n",
    "from numpy import std\n",
    "from sklearn.datasets import make_classification\n",
    "from sklearn.model_selection import cross_val_score\n",
    "from sklearn.model_selection import RepeatedStratifiedKFold\n",
    "from sklearn.pipeline import Pipeline\n",
    "from sklearn.decomposition import TruncatedSVD\n",
    "from sklearn.linear_model import LogisticRegression\n",
    "# define dataset\n",
    "X, y = make_classification(n_samples=1000, n_features=20, n_informative=10, n_redundant=10, random_state=7)\n",
    "# define the pipeline\n",
    "steps = [('svd', TruncatedSVD(n_components=10)), ('m', LogisticRegression())]\n",
    "model = Pipeline(steps=steps)\n",
    "# evaluate model\n",
    "cv = RepeatedStratifiedKFold(n_splits=10, n_repeats=3, random_state=1)\n",
    "n_scores = cross_val_score(model, X, y, scoring='accuracy', cv=cv, n_jobs=-1)\n",
    "# report performance\n",
    "print('Accuracy: %.3f (%.3f)' % (mean(n_scores), std(n_scores)))"
   ]
  },
  {
   "cell_type": "code",
   "execution_count": null,
   "metadata": {},
   "outputs": [],
   "source": []
  },
  {
   "cell_type": "code",
   "execution_count": null,
   "metadata": {},
   "outputs": [],
   "source": []
  },
  {
   "cell_type": "code",
   "execution_count": null,
   "metadata": {},
   "outputs": [],
   "source": []
  }
 ],
 "metadata": {
  "kernelspec": {
   "display_name": "Python 3",
   "language": "python",
   "name": "python3"
  },
  "language_info": {
   "codemirror_mode": {
    "name": "ipython",
    "version": 3
   },
   "file_extension": ".py",
   "mimetype": "text/x-python",
   "name": "python",
   "nbconvert_exporter": "python",
   "pygments_lexer": "ipython3",
   "version": "3.7.8rc1"
  }
 },
 "nbformat": 4,
 "nbformat_minor": 4
}
